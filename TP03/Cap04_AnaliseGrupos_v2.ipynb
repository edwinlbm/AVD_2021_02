{
  "nbformat": 4,
  "nbformat_minor": 2,
  "metadata": {
    "colab": {
      "name": "Cap04-AnaliseGrupos-v2.ipynb",
      "provenance": [],
      "collapsed_sections": []
    },
    "kernelspec": {
      "name": "python3",
      "display_name": "Python 3.8.10 64-bit"
    },
    "interpreter": {
      "hash": "916dbcbb3f70747c44a77c7bcd40155683ae19c65e1c03b4aa3499c5328201f1"
    },
    "language_info": {
      "name": "python",
      "version": "3.8.10",
      "mimetype": "text/x-python",
      "codemirror_mode": {
        "name": "ipython",
        "version": 3
      },
      "pygments_lexer": "ipython3",
      "nbconvert_exporter": "python",
      "file_extension": ".py"
    }
  },
  "cells": [
    {
      "cell_type": "markdown",
      "source": [
        "# Capítulo 4 - Análise de Grupos"
      ],
      "metadata": {
        "id": "owE15I30CLo6"
      }
    },
    {
      "cell_type": "code",
      "execution_count": 490,
      "source": [
        "import pandas as pd\n",
        "import math\n",
        "import matplotlib.pyplot as plt\n",
        "import numpy as np\n",
        "import seaborn as sns\n",
        "import random\n",
        "from scipy.spatial import distance\n"
      ],
      "outputs": [],
      "metadata": {
        "id": "SV00qvrACUTD"
      }
    },
    {
      "cell_type": "markdown",
      "source": [
        "## Bases de Dados do Capitulo"
      ],
      "metadata": {
        "id": "dNqPxxNMpEdS"
      }
    },
    {
      "cell_type": "code",
      "execution_count": 489,
      "source": [
        "nomesColunasWine = [\"Class\",\"Alcohol\",\"Malic acid\", \"Ash\", \"Alcalinity of ash\", \"Magnesium\", \"Total phenols\", \"Flavanoids\", \"Nonflavanoid phenols\", \"Proanthocyanins\", \"Color intensity\", \"Hue\", \"OD280/OD315 of diluted wines\", \"Proline\"]\n",
        "dfWine = pd.read_csv('/mnt/c/Users/edwin/Downloads/wine.data', names=nomesColunasWine)\n",
        "\n",
        "#Eliminação da da coluna Class\n",
        "nomesColunasWine = [\"Alcohol\",\"Malic acid\", \"Ash\", \"Alcalinity of ash\", \"Magnesium\", \"Total phenols\", \"Flavanoids\", \"Nonflavanoid phenols\", \"Proanthocyanins\", \"Color intensity\", \"Hue\", \"OD280/OD315 of diluted wines\", \"Proline\"]\n",
        "dfWine = dfWine[[\"Alcohol\",\"Malic acid\", \"Ash\", \"Alcalinity of ash\", \"Magnesium\", \"Total phenols\", \"Flavanoids\", \"Nonflavanoid phenols\", \"Proanthocyanins\", \"Color intensity\", \"Hue\", \"OD280/OD315 of diluted wines\", \"Proline\"]]"
      ],
      "outputs": [],
      "metadata": {
        "id": "7Jd2soImpEAd"
      }
    },
    {
      "cell_type": "markdown",
      "source": [
        "### Resumo do DataFrame"
      ],
      "metadata": {
        "id": "5CAL0ggRCfJj"
      }
    },
    {
      "cell_type": "code",
      "execution_count": 491,
      "source": [
        "dfWine"
      ],
      "outputs": [
        {
          "output_type": "execute_result",
          "data": {
            "text/html": [
              "<div>\n",
              "<style scoped>\n",
              "    .dataframe tbody tr th:only-of-type {\n",
              "        vertical-align: middle;\n",
              "    }\n",
              "\n",
              "    .dataframe tbody tr th {\n",
              "        vertical-align: top;\n",
              "    }\n",
              "\n",
              "    .dataframe thead th {\n",
              "        text-align: right;\n",
              "    }\n",
              "</style>\n",
              "<table border=\"1\" class=\"dataframe\">\n",
              "  <thead>\n",
              "    <tr style=\"text-align: right;\">\n",
              "      <th></th>\n",
              "      <th>Alcohol</th>\n",
              "      <th>Malic acid</th>\n",
              "      <th>Ash</th>\n",
              "      <th>Alcalinity of ash</th>\n",
              "      <th>Magnesium</th>\n",
              "      <th>Total phenols</th>\n",
              "      <th>Flavanoids</th>\n",
              "      <th>Nonflavanoid phenols</th>\n",
              "      <th>Proanthocyanins</th>\n",
              "      <th>Color intensity</th>\n",
              "      <th>Hue</th>\n",
              "      <th>OD280/OD315 of diluted wines</th>\n",
              "      <th>Proline</th>\n",
              "    </tr>\n",
              "  </thead>\n",
              "  <tbody>\n",
              "    <tr>\n",
              "      <th>0</th>\n",
              "      <td>14.23</td>\n",
              "      <td>1.71</td>\n",
              "      <td>2.43</td>\n",
              "      <td>15.6</td>\n",
              "      <td>127</td>\n",
              "      <td>2.80</td>\n",
              "      <td>3.06</td>\n",
              "      <td>0.28</td>\n",
              "      <td>2.29</td>\n",
              "      <td>5.64</td>\n",
              "      <td>1.04</td>\n",
              "      <td>3.92</td>\n",
              "      <td>1065</td>\n",
              "    </tr>\n",
              "    <tr>\n",
              "      <th>1</th>\n",
              "      <td>13.20</td>\n",
              "      <td>1.78</td>\n",
              "      <td>2.14</td>\n",
              "      <td>11.2</td>\n",
              "      <td>100</td>\n",
              "      <td>2.65</td>\n",
              "      <td>2.76</td>\n",
              "      <td>0.26</td>\n",
              "      <td>1.28</td>\n",
              "      <td>4.38</td>\n",
              "      <td>1.05</td>\n",
              "      <td>3.40</td>\n",
              "      <td>1050</td>\n",
              "    </tr>\n",
              "    <tr>\n",
              "      <th>2</th>\n",
              "      <td>13.16</td>\n",
              "      <td>2.36</td>\n",
              "      <td>2.67</td>\n",
              "      <td>18.6</td>\n",
              "      <td>101</td>\n",
              "      <td>2.80</td>\n",
              "      <td>3.24</td>\n",
              "      <td>0.30</td>\n",
              "      <td>2.81</td>\n",
              "      <td>5.68</td>\n",
              "      <td>1.03</td>\n",
              "      <td>3.17</td>\n",
              "      <td>1185</td>\n",
              "    </tr>\n",
              "    <tr>\n",
              "      <th>3</th>\n",
              "      <td>14.37</td>\n",
              "      <td>1.95</td>\n",
              "      <td>2.50</td>\n",
              "      <td>16.8</td>\n",
              "      <td>113</td>\n",
              "      <td>3.85</td>\n",
              "      <td>3.49</td>\n",
              "      <td>0.24</td>\n",
              "      <td>2.18</td>\n",
              "      <td>7.80</td>\n",
              "      <td>0.86</td>\n",
              "      <td>3.45</td>\n",
              "      <td>1480</td>\n",
              "    </tr>\n",
              "    <tr>\n",
              "      <th>4</th>\n",
              "      <td>13.24</td>\n",
              "      <td>2.59</td>\n",
              "      <td>2.87</td>\n",
              "      <td>21.0</td>\n",
              "      <td>118</td>\n",
              "      <td>2.80</td>\n",
              "      <td>2.69</td>\n",
              "      <td>0.39</td>\n",
              "      <td>1.82</td>\n",
              "      <td>4.32</td>\n",
              "      <td>1.04</td>\n",
              "      <td>2.93</td>\n",
              "      <td>735</td>\n",
              "    </tr>\n",
              "    <tr>\n",
              "      <th>...</th>\n",
              "      <td>...</td>\n",
              "      <td>...</td>\n",
              "      <td>...</td>\n",
              "      <td>...</td>\n",
              "      <td>...</td>\n",
              "      <td>...</td>\n",
              "      <td>...</td>\n",
              "      <td>...</td>\n",
              "      <td>...</td>\n",
              "      <td>...</td>\n",
              "      <td>...</td>\n",
              "      <td>...</td>\n",
              "      <td>...</td>\n",
              "    </tr>\n",
              "    <tr>\n",
              "      <th>173</th>\n",
              "      <td>13.71</td>\n",
              "      <td>5.65</td>\n",
              "      <td>2.45</td>\n",
              "      <td>20.5</td>\n",
              "      <td>95</td>\n",
              "      <td>1.68</td>\n",
              "      <td>0.61</td>\n",
              "      <td>0.52</td>\n",
              "      <td>1.06</td>\n",
              "      <td>7.70</td>\n",
              "      <td>0.64</td>\n",
              "      <td>1.74</td>\n",
              "      <td>740</td>\n",
              "    </tr>\n",
              "    <tr>\n",
              "      <th>174</th>\n",
              "      <td>13.40</td>\n",
              "      <td>3.91</td>\n",
              "      <td>2.48</td>\n",
              "      <td>23.0</td>\n",
              "      <td>102</td>\n",
              "      <td>1.80</td>\n",
              "      <td>0.75</td>\n",
              "      <td>0.43</td>\n",
              "      <td>1.41</td>\n",
              "      <td>7.30</td>\n",
              "      <td>0.70</td>\n",
              "      <td>1.56</td>\n",
              "      <td>750</td>\n",
              "    </tr>\n",
              "    <tr>\n",
              "      <th>175</th>\n",
              "      <td>13.27</td>\n",
              "      <td>4.28</td>\n",
              "      <td>2.26</td>\n",
              "      <td>20.0</td>\n",
              "      <td>120</td>\n",
              "      <td>1.59</td>\n",
              "      <td>0.69</td>\n",
              "      <td>0.43</td>\n",
              "      <td>1.35</td>\n",
              "      <td>10.20</td>\n",
              "      <td>0.59</td>\n",
              "      <td>1.56</td>\n",
              "      <td>835</td>\n",
              "    </tr>\n",
              "    <tr>\n",
              "      <th>176</th>\n",
              "      <td>13.17</td>\n",
              "      <td>2.59</td>\n",
              "      <td>2.37</td>\n",
              "      <td>20.0</td>\n",
              "      <td>120</td>\n",
              "      <td>1.65</td>\n",
              "      <td>0.68</td>\n",
              "      <td>0.53</td>\n",
              "      <td>1.46</td>\n",
              "      <td>9.30</td>\n",
              "      <td>0.60</td>\n",
              "      <td>1.62</td>\n",
              "      <td>840</td>\n",
              "    </tr>\n",
              "    <tr>\n",
              "      <th>177</th>\n",
              "      <td>14.13</td>\n",
              "      <td>4.10</td>\n",
              "      <td>2.74</td>\n",
              "      <td>24.5</td>\n",
              "      <td>96</td>\n",
              "      <td>2.05</td>\n",
              "      <td>0.76</td>\n",
              "      <td>0.56</td>\n",
              "      <td>1.35</td>\n",
              "      <td>9.20</td>\n",
              "      <td>0.61</td>\n",
              "      <td>1.60</td>\n",
              "      <td>560</td>\n",
              "    </tr>\n",
              "  </tbody>\n",
              "</table>\n",
              "<p>178 rows × 13 columns</p>\n",
              "</div>"
            ],
            "text/plain": [
              "     Alcohol  Malic acid   Ash  Alcalinity of ash  Magnesium  Total phenols  \\\n",
              "0      14.23        1.71  2.43               15.6        127           2.80   \n",
              "1      13.20        1.78  2.14               11.2        100           2.65   \n",
              "2      13.16        2.36  2.67               18.6        101           2.80   \n",
              "3      14.37        1.95  2.50               16.8        113           3.85   \n",
              "4      13.24        2.59  2.87               21.0        118           2.80   \n",
              "..       ...         ...   ...                ...        ...            ...   \n",
              "173    13.71        5.65  2.45               20.5         95           1.68   \n",
              "174    13.40        3.91  2.48               23.0        102           1.80   \n",
              "175    13.27        4.28  2.26               20.0        120           1.59   \n",
              "176    13.17        2.59  2.37               20.0        120           1.65   \n",
              "177    14.13        4.10  2.74               24.5         96           2.05   \n",
              "\n",
              "     Flavanoids  Nonflavanoid phenols  Proanthocyanins  Color intensity   Hue  \\\n",
              "0          3.06                  0.28             2.29             5.64  1.04   \n",
              "1          2.76                  0.26             1.28             4.38  1.05   \n",
              "2          3.24                  0.30             2.81             5.68  1.03   \n",
              "3          3.49                  0.24             2.18             7.80  0.86   \n",
              "4          2.69                  0.39             1.82             4.32  1.04   \n",
              "..          ...                   ...              ...              ...   ...   \n",
              "173        0.61                  0.52             1.06             7.70  0.64   \n",
              "174        0.75                  0.43             1.41             7.30  0.70   \n",
              "175        0.69                  0.43             1.35            10.20  0.59   \n",
              "176        0.68                  0.53             1.46             9.30  0.60   \n",
              "177        0.76                  0.56             1.35             9.20  0.61   \n",
              "\n",
              "     OD280/OD315 of diluted wines  Proline  \n",
              "0                            3.92     1065  \n",
              "1                            3.40     1050  \n",
              "2                            3.17     1185  \n",
              "3                            3.45     1480  \n",
              "4                            2.93      735  \n",
              "..                            ...      ...  \n",
              "173                          1.74      740  \n",
              "174                          1.56      750  \n",
              "175                          1.56      835  \n",
              "176                          1.62      840  \n",
              "177                          1.60      560  \n",
              "\n",
              "[178 rows x 13 columns]"
            ]
          },
          "metadata": {},
          "execution_count": 491
        }
      ],
      "metadata": {
        "colab": {
          "base_uri": "https://localhost:8080/",
          "height": 423
        },
        "id": "1fN_mYkipdfd",
        "outputId": "dd67dd6c-5939-4fa9-d26e-b48897638255"
      }
    },
    {
      "cell_type": "markdown",
      "source": [
        "# Algoritmos de Agrupamento"
      ],
      "metadata": {
        "id": "vv-hQWERSpiq"
      }
    },
    {
      "cell_type": "markdown",
      "source": [
        "## Algoritmo K-Médias"
      ],
      "metadata": {
        "id": "ge3PX-9oSw1H"
      }
    },
    {
      "cell_type": "markdown",
      "source": [
        "Número de Grupos"
      ],
      "metadata": {
        "id": "WdjuUO88frRb"
      }
    },
    {
      "cell_type": "code",
      "execution_count": 464,
      "source": [
        "k = 3"
      ],
      "outputs": [],
      "metadata": {
        "id": "cgF56G6NfDHc"
      }
    },
    {
      "cell_type": "markdown",
      "source": [
        "Base de Dados "
      ],
      "metadata": {
        "id": "1uF5btItgJG0"
      }
    },
    {
      "cell_type": "code",
      "execution_count": 465,
      "source": [
        "dfWine"
      ],
      "outputs": [
        {
          "output_type": "execute_result",
          "data": {
            "text/html": [
              "<div>\n",
              "<style scoped>\n",
              "    .dataframe tbody tr th:only-of-type {\n",
              "        vertical-align: middle;\n",
              "    }\n",
              "\n",
              "    .dataframe tbody tr th {\n",
              "        vertical-align: top;\n",
              "    }\n",
              "\n",
              "    .dataframe thead th {\n",
              "        text-align: right;\n",
              "    }\n",
              "</style>\n",
              "<table border=\"1\" class=\"dataframe\">\n",
              "  <thead>\n",
              "    <tr style=\"text-align: right;\">\n",
              "      <th></th>\n",
              "      <th>Alcohol</th>\n",
              "      <th>Malic acid</th>\n",
              "      <th>Ash</th>\n",
              "      <th>Alcalinity of ash</th>\n",
              "      <th>Magnesium</th>\n",
              "      <th>Total phenols</th>\n",
              "      <th>Flavanoids</th>\n",
              "      <th>Nonflavanoid phenols</th>\n",
              "      <th>Proanthocyanins</th>\n",
              "      <th>Color intensity</th>\n",
              "      <th>Hue</th>\n",
              "      <th>OD280/OD315 of diluted wines</th>\n",
              "      <th>Proline</th>\n",
              "    </tr>\n",
              "  </thead>\n",
              "  <tbody>\n",
              "    <tr>\n",
              "      <th>0</th>\n",
              "      <td>14.23</td>\n",
              "      <td>1.71</td>\n",
              "      <td>2.43</td>\n",
              "      <td>15.6</td>\n",
              "      <td>127</td>\n",
              "      <td>2.80</td>\n",
              "      <td>3.06</td>\n",
              "      <td>0.28</td>\n",
              "      <td>2.29</td>\n",
              "      <td>5.64</td>\n",
              "      <td>1.04</td>\n",
              "      <td>3.92</td>\n",
              "      <td>1065</td>\n",
              "    </tr>\n",
              "    <tr>\n",
              "      <th>1</th>\n",
              "      <td>13.20</td>\n",
              "      <td>1.78</td>\n",
              "      <td>2.14</td>\n",
              "      <td>11.2</td>\n",
              "      <td>100</td>\n",
              "      <td>2.65</td>\n",
              "      <td>2.76</td>\n",
              "      <td>0.26</td>\n",
              "      <td>1.28</td>\n",
              "      <td>4.38</td>\n",
              "      <td>1.05</td>\n",
              "      <td>3.40</td>\n",
              "      <td>1050</td>\n",
              "    </tr>\n",
              "    <tr>\n",
              "      <th>2</th>\n",
              "      <td>13.16</td>\n",
              "      <td>2.36</td>\n",
              "      <td>2.67</td>\n",
              "      <td>18.6</td>\n",
              "      <td>101</td>\n",
              "      <td>2.80</td>\n",
              "      <td>3.24</td>\n",
              "      <td>0.30</td>\n",
              "      <td>2.81</td>\n",
              "      <td>5.68</td>\n",
              "      <td>1.03</td>\n",
              "      <td>3.17</td>\n",
              "      <td>1185</td>\n",
              "    </tr>\n",
              "    <tr>\n",
              "      <th>3</th>\n",
              "      <td>14.37</td>\n",
              "      <td>1.95</td>\n",
              "      <td>2.50</td>\n",
              "      <td>16.8</td>\n",
              "      <td>113</td>\n",
              "      <td>3.85</td>\n",
              "      <td>3.49</td>\n",
              "      <td>0.24</td>\n",
              "      <td>2.18</td>\n",
              "      <td>7.80</td>\n",
              "      <td>0.86</td>\n",
              "      <td>3.45</td>\n",
              "      <td>1480</td>\n",
              "    </tr>\n",
              "    <tr>\n",
              "      <th>4</th>\n",
              "      <td>13.24</td>\n",
              "      <td>2.59</td>\n",
              "      <td>2.87</td>\n",
              "      <td>21.0</td>\n",
              "      <td>118</td>\n",
              "      <td>2.80</td>\n",
              "      <td>2.69</td>\n",
              "      <td>0.39</td>\n",
              "      <td>1.82</td>\n",
              "      <td>4.32</td>\n",
              "      <td>1.04</td>\n",
              "      <td>2.93</td>\n",
              "      <td>735</td>\n",
              "    </tr>\n",
              "    <tr>\n",
              "      <th>...</th>\n",
              "      <td>...</td>\n",
              "      <td>...</td>\n",
              "      <td>...</td>\n",
              "      <td>...</td>\n",
              "      <td>...</td>\n",
              "      <td>...</td>\n",
              "      <td>...</td>\n",
              "      <td>...</td>\n",
              "      <td>...</td>\n",
              "      <td>...</td>\n",
              "      <td>...</td>\n",
              "      <td>...</td>\n",
              "      <td>...</td>\n",
              "    </tr>\n",
              "    <tr>\n",
              "      <th>173</th>\n",
              "      <td>13.71</td>\n",
              "      <td>5.65</td>\n",
              "      <td>2.45</td>\n",
              "      <td>20.5</td>\n",
              "      <td>95</td>\n",
              "      <td>1.68</td>\n",
              "      <td>0.61</td>\n",
              "      <td>0.52</td>\n",
              "      <td>1.06</td>\n",
              "      <td>7.70</td>\n",
              "      <td>0.64</td>\n",
              "      <td>1.74</td>\n",
              "      <td>740</td>\n",
              "    </tr>\n",
              "    <tr>\n",
              "      <th>174</th>\n",
              "      <td>13.40</td>\n",
              "      <td>3.91</td>\n",
              "      <td>2.48</td>\n",
              "      <td>23.0</td>\n",
              "      <td>102</td>\n",
              "      <td>1.80</td>\n",
              "      <td>0.75</td>\n",
              "      <td>0.43</td>\n",
              "      <td>1.41</td>\n",
              "      <td>7.30</td>\n",
              "      <td>0.70</td>\n",
              "      <td>1.56</td>\n",
              "      <td>750</td>\n",
              "    </tr>\n",
              "    <tr>\n",
              "      <th>175</th>\n",
              "      <td>13.27</td>\n",
              "      <td>4.28</td>\n",
              "      <td>2.26</td>\n",
              "      <td>20.0</td>\n",
              "      <td>120</td>\n",
              "      <td>1.59</td>\n",
              "      <td>0.69</td>\n",
              "      <td>0.43</td>\n",
              "      <td>1.35</td>\n",
              "      <td>10.20</td>\n",
              "      <td>0.59</td>\n",
              "      <td>1.56</td>\n",
              "      <td>835</td>\n",
              "    </tr>\n",
              "    <tr>\n",
              "      <th>176</th>\n",
              "      <td>13.17</td>\n",
              "      <td>2.59</td>\n",
              "      <td>2.37</td>\n",
              "      <td>20.0</td>\n",
              "      <td>120</td>\n",
              "      <td>1.65</td>\n",
              "      <td>0.68</td>\n",
              "      <td>0.53</td>\n",
              "      <td>1.46</td>\n",
              "      <td>9.30</td>\n",
              "      <td>0.60</td>\n",
              "      <td>1.62</td>\n",
              "      <td>840</td>\n",
              "    </tr>\n",
              "    <tr>\n",
              "      <th>177</th>\n",
              "      <td>14.13</td>\n",
              "      <td>4.10</td>\n",
              "      <td>2.74</td>\n",
              "      <td>24.5</td>\n",
              "      <td>96</td>\n",
              "      <td>2.05</td>\n",
              "      <td>0.76</td>\n",
              "      <td>0.56</td>\n",
              "      <td>1.35</td>\n",
              "      <td>9.20</td>\n",
              "      <td>0.61</td>\n",
              "      <td>1.60</td>\n",
              "      <td>560</td>\n",
              "    </tr>\n",
              "  </tbody>\n",
              "</table>\n",
              "<p>178 rows × 13 columns</p>\n",
              "</div>"
            ],
            "text/plain": [
              "     Alcohol  Malic acid   Ash  Alcalinity of ash  Magnesium  Total phenols  \\\n",
              "0      14.23        1.71  2.43               15.6        127           2.80   \n",
              "1      13.20        1.78  2.14               11.2        100           2.65   \n",
              "2      13.16        2.36  2.67               18.6        101           2.80   \n",
              "3      14.37        1.95  2.50               16.8        113           3.85   \n",
              "4      13.24        2.59  2.87               21.0        118           2.80   \n",
              "..       ...         ...   ...                ...        ...            ...   \n",
              "173    13.71        5.65  2.45               20.5         95           1.68   \n",
              "174    13.40        3.91  2.48               23.0        102           1.80   \n",
              "175    13.27        4.28  2.26               20.0        120           1.59   \n",
              "176    13.17        2.59  2.37               20.0        120           1.65   \n",
              "177    14.13        4.10  2.74               24.5         96           2.05   \n",
              "\n",
              "     Flavanoids  Nonflavanoid phenols  Proanthocyanins  Color intensity   Hue  \\\n",
              "0          3.06                  0.28             2.29             5.64  1.04   \n",
              "1          2.76                  0.26             1.28             4.38  1.05   \n",
              "2          3.24                  0.30             2.81             5.68  1.03   \n",
              "3          3.49                  0.24             2.18             7.80  0.86   \n",
              "4          2.69                  0.39             1.82             4.32  1.04   \n",
              "..          ...                   ...              ...              ...   ...   \n",
              "173        0.61                  0.52             1.06             7.70  0.64   \n",
              "174        0.75                  0.43             1.41             7.30  0.70   \n",
              "175        0.69                  0.43             1.35            10.20  0.59   \n",
              "176        0.68                  0.53             1.46             9.30  0.60   \n",
              "177        0.76                  0.56             1.35             9.20  0.61   \n",
              "\n",
              "     OD280/OD315 of diluted wines  Proline  \n",
              "0                            3.92     1065  \n",
              "1                            3.40     1050  \n",
              "2                            3.17     1185  \n",
              "3                            3.45     1480  \n",
              "4                            2.93      735  \n",
              "..                            ...      ...  \n",
              "173                          1.74      740  \n",
              "174                          1.56      750  \n",
              "175                          1.56      835  \n",
              "176                          1.62      840  \n",
              "177                          1.60      560  \n",
              "\n",
              "[178 rows x 13 columns]"
            ]
          },
          "metadata": {},
          "execution_count": 465
        }
      ],
      "metadata": {
        "colab": {
          "base_uri": "https://localhost:8080/",
          "height": 423
        },
        "id": "1zLl9NVKgN61",
        "outputId": "517a27f2-73a1-4c2a-cf1d-3942f4288e03"
      }
    },
    {
      "cell_type": "markdown",
      "source": [
        "Normalização da base de dados"
      ],
      "metadata": {}
    },
    {
      "cell_type": "code",
      "execution_count": 466,
      "source": [
        "def max_min(max , min, idade):\n",
        "    novo_max = 1\n",
        "    novo_min = 0\n",
        "    valor_normalizado = ((idade - min) / (max - min)) * (novo_max - novo_min) + novo_min\n",
        "    return valor_normalizado\n",
        "\n",
        "def normalizacao(dfWine, nomesColunasWine):\n",
        "    for indexNomeColuna in range(len(nomesColunasWine)):\n",
        "        max_ = max(dfWine[nomesColunasWine[indexNomeColuna]])\n",
        "        min_ = min(dfWine[nomesColunasWine[indexNomeColuna]])\n",
        "\n",
        "        lista_coluna_normalizada = []\n",
        "        for valor in dfWine[nomesColunasWine[indexNomeColuna]]:            \n",
        "            lista_coluna_normalizada.append(max_min(max_, min_, valor))\n",
        "        \n",
        "        \n",
        "        #Inserção de uma nova coluna no dataframe com o valor normalizado        \n",
        "        #dfWine.insert(indexNomeColuna, nomesColunasWine[indexNomeColuna]+\"__\", lista_coluna_normalizada)\n",
        "        dfWine[nomesColunasWine[indexNomeColuna]] = lista_coluna_normalizada\n",
        "    return dfWine"
      ],
      "outputs": [],
      "metadata": {}
    },
    {
      "cell_type": "markdown",
      "source": [
        "Dataframe original"
      ],
      "metadata": {}
    },
    {
      "cell_type": "code",
      "execution_count": 467,
      "source": [
        "dfWine.head(10)"
      ],
      "outputs": [
        {
          "output_type": "execute_result",
          "data": {
            "text/html": [
              "<div>\n",
              "<style scoped>\n",
              "    .dataframe tbody tr th:only-of-type {\n",
              "        vertical-align: middle;\n",
              "    }\n",
              "\n",
              "    .dataframe tbody tr th {\n",
              "        vertical-align: top;\n",
              "    }\n",
              "\n",
              "    .dataframe thead th {\n",
              "        text-align: right;\n",
              "    }\n",
              "</style>\n",
              "<table border=\"1\" class=\"dataframe\">\n",
              "  <thead>\n",
              "    <tr style=\"text-align: right;\">\n",
              "      <th></th>\n",
              "      <th>Alcohol</th>\n",
              "      <th>Malic acid</th>\n",
              "      <th>Ash</th>\n",
              "      <th>Alcalinity of ash</th>\n",
              "      <th>Magnesium</th>\n",
              "      <th>Total phenols</th>\n",
              "      <th>Flavanoids</th>\n",
              "      <th>Nonflavanoid phenols</th>\n",
              "      <th>Proanthocyanins</th>\n",
              "      <th>Color intensity</th>\n",
              "      <th>Hue</th>\n",
              "      <th>OD280/OD315 of diluted wines</th>\n",
              "      <th>Proline</th>\n",
              "    </tr>\n",
              "  </thead>\n",
              "  <tbody>\n",
              "    <tr>\n",
              "      <th>0</th>\n",
              "      <td>14.23</td>\n",
              "      <td>1.71</td>\n",
              "      <td>2.43</td>\n",
              "      <td>15.6</td>\n",
              "      <td>127</td>\n",
              "      <td>2.80</td>\n",
              "      <td>3.06</td>\n",
              "      <td>0.28</td>\n",
              "      <td>2.29</td>\n",
              "      <td>5.64</td>\n",
              "      <td>1.04</td>\n",
              "      <td>3.92</td>\n",
              "      <td>1065</td>\n",
              "    </tr>\n",
              "    <tr>\n",
              "      <th>1</th>\n",
              "      <td>13.20</td>\n",
              "      <td>1.78</td>\n",
              "      <td>2.14</td>\n",
              "      <td>11.2</td>\n",
              "      <td>100</td>\n",
              "      <td>2.65</td>\n",
              "      <td>2.76</td>\n",
              "      <td>0.26</td>\n",
              "      <td>1.28</td>\n",
              "      <td>4.38</td>\n",
              "      <td>1.05</td>\n",
              "      <td>3.40</td>\n",
              "      <td>1050</td>\n",
              "    </tr>\n",
              "    <tr>\n",
              "      <th>2</th>\n",
              "      <td>13.16</td>\n",
              "      <td>2.36</td>\n",
              "      <td>2.67</td>\n",
              "      <td>18.6</td>\n",
              "      <td>101</td>\n",
              "      <td>2.80</td>\n",
              "      <td>3.24</td>\n",
              "      <td>0.30</td>\n",
              "      <td>2.81</td>\n",
              "      <td>5.68</td>\n",
              "      <td>1.03</td>\n",
              "      <td>3.17</td>\n",
              "      <td>1185</td>\n",
              "    </tr>\n",
              "    <tr>\n",
              "      <th>3</th>\n",
              "      <td>14.37</td>\n",
              "      <td>1.95</td>\n",
              "      <td>2.50</td>\n",
              "      <td>16.8</td>\n",
              "      <td>113</td>\n",
              "      <td>3.85</td>\n",
              "      <td>3.49</td>\n",
              "      <td>0.24</td>\n",
              "      <td>2.18</td>\n",
              "      <td>7.80</td>\n",
              "      <td>0.86</td>\n",
              "      <td>3.45</td>\n",
              "      <td>1480</td>\n",
              "    </tr>\n",
              "    <tr>\n",
              "      <th>4</th>\n",
              "      <td>13.24</td>\n",
              "      <td>2.59</td>\n",
              "      <td>2.87</td>\n",
              "      <td>21.0</td>\n",
              "      <td>118</td>\n",
              "      <td>2.80</td>\n",
              "      <td>2.69</td>\n",
              "      <td>0.39</td>\n",
              "      <td>1.82</td>\n",
              "      <td>4.32</td>\n",
              "      <td>1.04</td>\n",
              "      <td>2.93</td>\n",
              "      <td>735</td>\n",
              "    </tr>\n",
              "    <tr>\n",
              "      <th>5</th>\n",
              "      <td>14.20</td>\n",
              "      <td>1.76</td>\n",
              "      <td>2.45</td>\n",
              "      <td>15.2</td>\n",
              "      <td>112</td>\n",
              "      <td>3.27</td>\n",
              "      <td>3.39</td>\n",
              "      <td>0.34</td>\n",
              "      <td>1.97</td>\n",
              "      <td>6.75</td>\n",
              "      <td>1.05</td>\n",
              "      <td>2.85</td>\n",
              "      <td>1450</td>\n",
              "    </tr>\n",
              "    <tr>\n",
              "      <th>6</th>\n",
              "      <td>14.39</td>\n",
              "      <td>1.87</td>\n",
              "      <td>2.45</td>\n",
              "      <td>14.6</td>\n",
              "      <td>96</td>\n",
              "      <td>2.50</td>\n",
              "      <td>2.52</td>\n",
              "      <td>0.30</td>\n",
              "      <td>1.98</td>\n",
              "      <td>5.25</td>\n",
              "      <td>1.02</td>\n",
              "      <td>3.58</td>\n",
              "      <td>1290</td>\n",
              "    </tr>\n",
              "    <tr>\n",
              "      <th>7</th>\n",
              "      <td>14.06</td>\n",
              "      <td>2.15</td>\n",
              "      <td>2.61</td>\n",
              "      <td>17.6</td>\n",
              "      <td>121</td>\n",
              "      <td>2.60</td>\n",
              "      <td>2.51</td>\n",
              "      <td>0.31</td>\n",
              "      <td>1.25</td>\n",
              "      <td>5.05</td>\n",
              "      <td>1.06</td>\n",
              "      <td>3.58</td>\n",
              "      <td>1295</td>\n",
              "    </tr>\n",
              "    <tr>\n",
              "      <th>8</th>\n",
              "      <td>14.83</td>\n",
              "      <td>1.64</td>\n",
              "      <td>2.17</td>\n",
              "      <td>14.0</td>\n",
              "      <td>97</td>\n",
              "      <td>2.80</td>\n",
              "      <td>2.98</td>\n",
              "      <td>0.29</td>\n",
              "      <td>1.98</td>\n",
              "      <td>5.20</td>\n",
              "      <td>1.08</td>\n",
              "      <td>2.85</td>\n",
              "      <td>1045</td>\n",
              "    </tr>\n",
              "    <tr>\n",
              "      <th>9</th>\n",
              "      <td>13.86</td>\n",
              "      <td>1.35</td>\n",
              "      <td>2.27</td>\n",
              "      <td>16.0</td>\n",
              "      <td>98</td>\n",
              "      <td>2.98</td>\n",
              "      <td>3.15</td>\n",
              "      <td>0.22</td>\n",
              "      <td>1.85</td>\n",
              "      <td>7.22</td>\n",
              "      <td>1.01</td>\n",
              "      <td>3.55</td>\n",
              "      <td>1045</td>\n",
              "    </tr>\n",
              "  </tbody>\n",
              "</table>\n",
              "</div>"
            ],
            "text/plain": [
              "   Alcohol  Malic acid   Ash  Alcalinity of ash  Magnesium  Total phenols  \\\n",
              "0    14.23        1.71  2.43               15.6        127           2.80   \n",
              "1    13.20        1.78  2.14               11.2        100           2.65   \n",
              "2    13.16        2.36  2.67               18.6        101           2.80   \n",
              "3    14.37        1.95  2.50               16.8        113           3.85   \n",
              "4    13.24        2.59  2.87               21.0        118           2.80   \n",
              "5    14.20        1.76  2.45               15.2        112           3.27   \n",
              "6    14.39        1.87  2.45               14.6         96           2.50   \n",
              "7    14.06        2.15  2.61               17.6        121           2.60   \n",
              "8    14.83        1.64  2.17               14.0         97           2.80   \n",
              "9    13.86        1.35  2.27               16.0         98           2.98   \n",
              "\n",
              "   Flavanoids  Nonflavanoid phenols  Proanthocyanins  Color intensity   Hue  \\\n",
              "0        3.06                  0.28             2.29             5.64  1.04   \n",
              "1        2.76                  0.26             1.28             4.38  1.05   \n",
              "2        3.24                  0.30             2.81             5.68  1.03   \n",
              "3        3.49                  0.24             2.18             7.80  0.86   \n",
              "4        2.69                  0.39             1.82             4.32  1.04   \n",
              "5        3.39                  0.34             1.97             6.75  1.05   \n",
              "6        2.52                  0.30             1.98             5.25  1.02   \n",
              "7        2.51                  0.31             1.25             5.05  1.06   \n",
              "8        2.98                  0.29             1.98             5.20  1.08   \n",
              "9        3.15                  0.22             1.85             7.22  1.01   \n",
              "\n",
              "   OD280/OD315 of diluted wines  Proline  \n",
              "0                          3.92     1065  \n",
              "1                          3.40     1050  \n",
              "2                          3.17     1185  \n",
              "3                          3.45     1480  \n",
              "4                          2.93      735  \n",
              "5                          2.85     1450  \n",
              "6                          3.58     1290  \n",
              "7                          3.58     1295  \n",
              "8                          2.85     1045  \n",
              "9                          3.55     1045  "
            ]
          },
          "metadata": {},
          "execution_count": 467
        }
      ],
      "metadata": {}
    },
    {
      "cell_type": "markdown",
      "source": [
        "Dataframe normalizado"
      ],
      "metadata": {}
    },
    {
      "cell_type": "code",
      "execution_count": 468,
      "source": [
        "dfWineNormalizado = dfWine.copy(deep=True)\n",
        "dfWineNormalizado = normalizacao(dfWineNormalizado, nomesColunasWine)\n",
        "dfWineNormalizado.head(10)"
      ],
      "outputs": [
        {
          "output_type": "execute_result",
          "data": {
            "text/html": [
              "<div>\n",
              "<style scoped>\n",
              "    .dataframe tbody tr th:only-of-type {\n",
              "        vertical-align: middle;\n",
              "    }\n",
              "\n",
              "    .dataframe tbody tr th {\n",
              "        vertical-align: top;\n",
              "    }\n",
              "\n",
              "    .dataframe thead th {\n",
              "        text-align: right;\n",
              "    }\n",
              "</style>\n",
              "<table border=\"1\" class=\"dataframe\">\n",
              "  <thead>\n",
              "    <tr style=\"text-align: right;\">\n",
              "      <th></th>\n",
              "      <th>Alcohol</th>\n",
              "      <th>Malic acid</th>\n",
              "      <th>Ash</th>\n",
              "      <th>Alcalinity of ash</th>\n",
              "      <th>Magnesium</th>\n",
              "      <th>Total phenols</th>\n",
              "      <th>Flavanoids</th>\n",
              "      <th>Nonflavanoid phenols</th>\n",
              "      <th>Proanthocyanins</th>\n",
              "      <th>Color intensity</th>\n",
              "      <th>Hue</th>\n",
              "      <th>OD280/OD315 of diluted wines</th>\n",
              "      <th>Proline</th>\n",
              "    </tr>\n",
              "  </thead>\n",
              "  <tbody>\n",
              "    <tr>\n",
              "      <th>0</th>\n",
              "      <td>0.842105</td>\n",
              "      <td>0.191700</td>\n",
              "      <td>0.572193</td>\n",
              "      <td>0.257732</td>\n",
              "      <td>0.619565</td>\n",
              "      <td>0.627586</td>\n",
              "      <td>0.573840</td>\n",
              "      <td>0.283019</td>\n",
              "      <td>0.593060</td>\n",
              "      <td>0.372014</td>\n",
              "      <td>0.455285</td>\n",
              "      <td>0.970696</td>\n",
              "      <td>0.561341</td>\n",
              "    </tr>\n",
              "    <tr>\n",
              "      <th>1</th>\n",
              "      <td>0.571053</td>\n",
              "      <td>0.205534</td>\n",
              "      <td>0.417112</td>\n",
              "      <td>0.030928</td>\n",
              "      <td>0.326087</td>\n",
              "      <td>0.575862</td>\n",
              "      <td>0.510549</td>\n",
              "      <td>0.245283</td>\n",
              "      <td>0.274448</td>\n",
              "      <td>0.264505</td>\n",
              "      <td>0.463415</td>\n",
              "      <td>0.780220</td>\n",
              "      <td>0.550642</td>\n",
              "    </tr>\n",
              "    <tr>\n",
              "      <th>2</th>\n",
              "      <td>0.560526</td>\n",
              "      <td>0.320158</td>\n",
              "      <td>0.700535</td>\n",
              "      <td>0.412371</td>\n",
              "      <td>0.336957</td>\n",
              "      <td>0.627586</td>\n",
              "      <td>0.611814</td>\n",
              "      <td>0.320755</td>\n",
              "      <td>0.757098</td>\n",
              "      <td>0.375427</td>\n",
              "      <td>0.447154</td>\n",
              "      <td>0.695971</td>\n",
              "      <td>0.646933</td>\n",
              "    </tr>\n",
              "    <tr>\n",
              "      <th>3</th>\n",
              "      <td>0.878947</td>\n",
              "      <td>0.239130</td>\n",
              "      <td>0.609626</td>\n",
              "      <td>0.319588</td>\n",
              "      <td>0.467391</td>\n",
              "      <td>0.989655</td>\n",
              "      <td>0.664557</td>\n",
              "      <td>0.207547</td>\n",
              "      <td>0.558360</td>\n",
              "      <td>0.556314</td>\n",
              "      <td>0.308943</td>\n",
              "      <td>0.798535</td>\n",
              "      <td>0.857347</td>\n",
              "    </tr>\n",
              "    <tr>\n",
              "      <th>4</th>\n",
              "      <td>0.581579</td>\n",
              "      <td>0.365613</td>\n",
              "      <td>0.807487</td>\n",
              "      <td>0.536082</td>\n",
              "      <td>0.521739</td>\n",
              "      <td>0.627586</td>\n",
              "      <td>0.495781</td>\n",
              "      <td>0.490566</td>\n",
              "      <td>0.444795</td>\n",
              "      <td>0.259386</td>\n",
              "      <td>0.455285</td>\n",
              "      <td>0.608059</td>\n",
              "      <td>0.325963</td>\n",
              "    </tr>\n",
              "    <tr>\n",
              "      <th>5</th>\n",
              "      <td>0.834211</td>\n",
              "      <td>0.201581</td>\n",
              "      <td>0.582888</td>\n",
              "      <td>0.237113</td>\n",
              "      <td>0.456522</td>\n",
              "      <td>0.789655</td>\n",
              "      <td>0.643460</td>\n",
              "      <td>0.396226</td>\n",
              "      <td>0.492114</td>\n",
              "      <td>0.466724</td>\n",
              "      <td>0.463415</td>\n",
              "      <td>0.578755</td>\n",
              "      <td>0.835949</td>\n",
              "    </tr>\n",
              "    <tr>\n",
              "      <th>6</th>\n",
              "      <td>0.884211</td>\n",
              "      <td>0.223320</td>\n",
              "      <td>0.582888</td>\n",
              "      <td>0.206186</td>\n",
              "      <td>0.282609</td>\n",
              "      <td>0.524138</td>\n",
              "      <td>0.459916</td>\n",
              "      <td>0.320755</td>\n",
              "      <td>0.495268</td>\n",
              "      <td>0.338737</td>\n",
              "      <td>0.439024</td>\n",
              "      <td>0.846154</td>\n",
              "      <td>0.721826</td>\n",
              "    </tr>\n",
              "    <tr>\n",
              "      <th>7</th>\n",
              "      <td>0.797368</td>\n",
              "      <td>0.278656</td>\n",
              "      <td>0.668449</td>\n",
              "      <td>0.360825</td>\n",
              "      <td>0.554348</td>\n",
              "      <td>0.558621</td>\n",
              "      <td>0.457806</td>\n",
              "      <td>0.339623</td>\n",
              "      <td>0.264984</td>\n",
              "      <td>0.321672</td>\n",
              "      <td>0.471545</td>\n",
              "      <td>0.846154</td>\n",
              "      <td>0.725392</td>\n",
              "    </tr>\n",
              "    <tr>\n",
              "      <th>8</th>\n",
              "      <td>1.000000</td>\n",
              "      <td>0.177866</td>\n",
              "      <td>0.433155</td>\n",
              "      <td>0.175258</td>\n",
              "      <td>0.293478</td>\n",
              "      <td>0.627586</td>\n",
              "      <td>0.556962</td>\n",
              "      <td>0.301887</td>\n",
              "      <td>0.495268</td>\n",
              "      <td>0.334471</td>\n",
              "      <td>0.487805</td>\n",
              "      <td>0.578755</td>\n",
              "      <td>0.547076</td>\n",
              "    </tr>\n",
              "    <tr>\n",
              "      <th>9</th>\n",
              "      <td>0.744737</td>\n",
              "      <td>0.120553</td>\n",
              "      <td>0.486631</td>\n",
              "      <td>0.278351</td>\n",
              "      <td>0.304348</td>\n",
              "      <td>0.689655</td>\n",
              "      <td>0.592827</td>\n",
              "      <td>0.169811</td>\n",
              "      <td>0.454259</td>\n",
              "      <td>0.506826</td>\n",
              "      <td>0.430894</td>\n",
              "      <td>0.835165</td>\n",
              "      <td>0.547076</td>\n",
              "    </tr>\n",
              "  </tbody>\n",
              "</table>\n",
              "</div>"
            ],
            "text/plain": [
              "    Alcohol  Malic acid       Ash  Alcalinity of ash  Magnesium  \\\n",
              "0  0.842105    0.191700  0.572193           0.257732   0.619565   \n",
              "1  0.571053    0.205534  0.417112           0.030928   0.326087   \n",
              "2  0.560526    0.320158  0.700535           0.412371   0.336957   \n",
              "3  0.878947    0.239130  0.609626           0.319588   0.467391   \n",
              "4  0.581579    0.365613  0.807487           0.536082   0.521739   \n",
              "5  0.834211    0.201581  0.582888           0.237113   0.456522   \n",
              "6  0.884211    0.223320  0.582888           0.206186   0.282609   \n",
              "7  0.797368    0.278656  0.668449           0.360825   0.554348   \n",
              "8  1.000000    0.177866  0.433155           0.175258   0.293478   \n",
              "9  0.744737    0.120553  0.486631           0.278351   0.304348   \n",
              "\n",
              "   Total phenols  Flavanoids  Nonflavanoid phenols  Proanthocyanins  \\\n",
              "0       0.627586    0.573840              0.283019         0.593060   \n",
              "1       0.575862    0.510549              0.245283         0.274448   \n",
              "2       0.627586    0.611814              0.320755         0.757098   \n",
              "3       0.989655    0.664557              0.207547         0.558360   \n",
              "4       0.627586    0.495781              0.490566         0.444795   \n",
              "5       0.789655    0.643460              0.396226         0.492114   \n",
              "6       0.524138    0.459916              0.320755         0.495268   \n",
              "7       0.558621    0.457806              0.339623         0.264984   \n",
              "8       0.627586    0.556962              0.301887         0.495268   \n",
              "9       0.689655    0.592827              0.169811         0.454259   \n",
              "\n",
              "   Color intensity       Hue  OD280/OD315 of diluted wines   Proline  \n",
              "0         0.372014  0.455285                      0.970696  0.561341  \n",
              "1         0.264505  0.463415                      0.780220  0.550642  \n",
              "2         0.375427  0.447154                      0.695971  0.646933  \n",
              "3         0.556314  0.308943                      0.798535  0.857347  \n",
              "4         0.259386  0.455285                      0.608059  0.325963  \n",
              "5         0.466724  0.463415                      0.578755  0.835949  \n",
              "6         0.338737  0.439024                      0.846154  0.721826  \n",
              "7         0.321672  0.471545                      0.846154  0.725392  \n",
              "8         0.334471  0.487805                      0.578755  0.547076  \n",
              "9         0.506826  0.430894                      0.835165  0.547076  "
            ]
          },
          "metadata": {},
          "execution_count": 468
        }
      ],
      "metadata": {}
    },
    {
      "cell_type": "code",
      "execution_count": 469,
      "source": [
        "_max = max(dfWine['Ash'])\n",
        "_min = min(dfWine['Ash'])\n",
        "max_min(_max,_min, 2.74)"
      ],
      "outputs": [
        {
          "output_type": "execute_result",
          "data": {
            "text/plain": [
              "0.7379679144385027"
            ]
          },
          "metadata": {},
          "execution_count": 469
        }
      ],
      "metadata": {}
    },
    {
      "cell_type": "markdown",
      "source": [
        "PCA"
      ],
      "metadata": {}
    },
    {
      "cell_type": "code",
      "execution_count": 475,
      "source": [
        "from sklearn.decomposition import PCA\n",
        "pca = PCA(n_components=2)\n",
        "principalComponents = pca.fit_transform(dfWineNormalizado)\n",
        "principalDf = pd.DataFrame(data = principalComponents\n",
        "             , columns = ['x', 'y'])\n",
        "\n",
        "principalDf"
      ],
      "outputs": [
        {
          "output_type": "execute_result",
          "data": {
            "text/html": [
              "<div>\n",
              "<style scoped>\n",
              "    .dataframe tbody tr th:only-of-type {\n",
              "        vertical-align: middle;\n",
              "    }\n",
              "\n",
              "    .dataframe tbody tr th {\n",
              "        vertical-align: top;\n",
              "    }\n",
              "\n",
              "    .dataframe thead th {\n",
              "        text-align: right;\n",
              "    }\n",
              "</style>\n",
              "<table border=\"1\" class=\"dataframe\">\n",
              "  <thead>\n",
              "    <tr style=\"text-align: right;\">\n",
              "      <th></th>\n",
              "      <th>x</th>\n",
              "      <th>y</th>\n",
              "    </tr>\n",
              "  </thead>\n",
              "  <tbody>\n",
              "    <tr>\n",
              "      <th>0</th>\n",
              "      <td>-0.706336</td>\n",
              "      <td>-0.253193</td>\n",
              "    </tr>\n",
              "    <tr>\n",
              "      <th>1</th>\n",
              "      <td>-0.484977</td>\n",
              "      <td>-0.008823</td>\n",
              "    </tr>\n",
              "    <tr>\n",
              "      <th>2</th>\n",
              "      <td>-0.521172</td>\n",
              "      <td>-0.189187</td>\n",
              "    </tr>\n",
              "    <tr>\n",
              "      <th>3</th>\n",
              "      <td>-0.821644</td>\n",
              "      <td>-0.580906</td>\n",
              "    </tr>\n",
              "    <tr>\n",
              "      <th>4</th>\n",
              "      <td>-0.202546</td>\n",
              "      <td>-0.059467</td>\n",
              "    </tr>\n",
              "    <tr>\n",
              "      <th>...</th>\n",
              "      <td>...</td>\n",
              "      <td>...</td>\n",
              "    </tr>\n",
              "    <tr>\n",
              "      <th>173</th>\n",
              "      <td>0.739510</td>\n",
              "      <td>-0.471901</td>\n",
              "    </tr>\n",
              "    <tr>\n",
              "      <th>174</th>\n",
              "      <td>0.581781</td>\n",
              "      <td>-0.348366</td>\n",
              "    </tr>\n",
              "    <tr>\n",
              "      <th>175</th>\n",
              "      <td>0.626313</td>\n",
              "      <td>-0.546857</td>\n",
              "    </tr>\n",
              "    <tr>\n",
              "      <th>176</th>\n",
              "      <td>0.572991</td>\n",
              "      <td>-0.425516</td>\n",
              "    </tr>\n",
              "    <tr>\n",
              "      <th>177</th>\n",
              "      <td>0.701764</td>\n",
              "      <td>-0.513505</td>\n",
              "    </tr>\n",
              "  </tbody>\n",
              "</table>\n",
              "<p>178 rows × 2 columns</p>\n",
              "</div>"
            ],
            "text/plain": [
              "            x         y\n",
              "0   -0.706336 -0.253193\n",
              "1   -0.484977 -0.008823\n",
              "2   -0.521172 -0.189187\n",
              "3   -0.821644 -0.580906\n",
              "4   -0.202546 -0.059467\n",
              "..        ...       ...\n",
              "173  0.739510 -0.471901\n",
              "174  0.581781 -0.348366\n",
              "175  0.626313 -0.546857\n",
              "176  0.572991 -0.425516\n",
              "177  0.701764 -0.513505\n",
              "\n",
              "[178 rows x 2 columns]"
            ]
          },
          "metadata": {},
          "execution_count": 475
        }
      ],
      "metadata": {}
    },
    {
      "cell_type": "code",
      "execution_count": 476,
      "source": [
        "plt.scatter(principalDf[\"x\"], principalDf[\"y\"])"
      ],
      "outputs": [
        {
          "output_type": "execute_result",
          "data": {
            "text/plain": [
              "<matplotlib.collections.PathCollection at 0x7f43538137f0>"
            ]
          },
          "metadata": {},
          "execution_count": 476
        },
        {
          "output_type": "display_data",
          "data": {
            "image/png": "[encoded data removed]",
            "text/plain": [
              "<Figure size 432x288 with 1 Axes>"
            ]
          },
          "metadata": {
            "needs_background": "light"
          }
        }
      ],
      "metadata": {}
    },
    {
      "cell_type": "markdown",
      "source": [
        "Correlação de Pearson"
      ],
      "metadata": {}
    },
    {
      "cell_type": "code",
      "execution_count": 311,
      "source": [
        "# calculate the Pearson's correlation between two variables\n",
        "from numpy.random import randn\n",
        "from numpy.random import seed\n",
        "from scipy.stats import pearsonr\n",
        "from numpy import cov, std\n",
        "# seed random number generator\n",
        "seed(1)\n",
        "# prepare data\n",
        "\n",
        "# calculate Pearson's correlation\n",
        "corr, _ = pearsonr(dfWineNormalizado['Alcohol'], dfWineNormalizado['Malic acid'])\n",
        "print('Pearsons correlation: %.3f' % corr)\n",
        "\n",
        "#pc = cov(dfWineNormalizado['Alcohol'], dfWineNormalizado['Malic acid'])/(std(dfWineNormalizado['Alcohol'])*std(dfWineNormalizado['Malic acid']))\n",
        "#print('Pearsons correlation: ', pc)\n",
        "\n"
      ],
      "outputs": [
        {
          "output_type": "stream",
          "name": "stdout",
          "text": [
            "Pearsons correlation: 0.094\n"
          ]
        }
      ],
      "metadata": {}
    },
    {
      "cell_type": "markdown",
      "source": [
        "Função de Custo "
      ],
      "metadata": {
        "id": "74zQf4vzgawz"
      }
    },
    {
      "cell_type": "code",
      "execution_count": 448,
      "source": [
        "def funcao_custo(dados,rotulo, centroides):\n",
        "  #print(\"FC\")\n",
        "  fc = 0\n",
        "  for i in range(len(dados)):\n",
        "    #print(dados[i])\n",
        "    #print(rotulo[i])\n",
        "    #print(centroides[int(rotulo[i])])\n",
        "    fc+= distance.euclidean(dados[i],centroides[int(rotulo[i])])\n",
        "  return fc"
      ],
      "outputs": [],
      "metadata": {
        "id": "Kd3Ax8PUgV0Q"
      }
    },
    {
      "cell_type": "markdown",
      "source": [
        "Função da distância entre os centroides e os objetos - D (n x k)"
      ],
      "metadata": {
        "id": "WegWpvZR2Aaj"
      }
    },
    {
      "cell_type": "code",
      "execution_count": 447,
      "source": [
        "def dist(dados, centroides):\n",
        "  D = []\n",
        "  for obj in dados.values:\n",
        "    DAux = []\n",
        "    for c in centroides.values:\n",
        "      DAux.append(distance.euclidean(obj,c))\n",
        "    D.append(DAux)\n",
        "  return D\n",
        "#len(dist(dfRuspini,C))"
      ],
      "outputs": [],
      "metadata": {
        "id": "FvUWBJ7h2Lgi"
      }
    },
    {
      "cell_type": "markdown",
      "source": [
        "Funcao de Media dos objetos"
      ],
      "metadata": {
        "id": "bGDnzKVcB70x"
      }
    },
    {
      "cell_type": "code",
      "execution_count": 446,
      "source": [
        "def media(dados):\n",
        "  xm = 0\n",
        "  ym = 0\n",
        "  for d in dados.values:\n",
        "    xm+=d[0]\n",
        "    ym+=d[1]\n",
        "  xm=xm/len(dados)\n",
        "  ym=ym/len(dados)\n",
        "\n",
        "  return [xm,ym]"
      ],
      "outputs": [],
      "metadata": {
        "id": "qAR9eLRDB_pE"
      }
    },
    {
      "cell_type": "markdown",
      "source": [
        "Posicao inicial dos Centroides obtidos aleatoriamente (Verificar valores iguais para os centroides)"
      ],
      "metadata": {
        "id": "0cxIINlp0WQ7"
      }
    },
    {
      "cell_type": "code",
      "execution_count": 479,
      "source": [
        "idx = np.random.randint(0,len(principalDf),k)\n",
        "idx"
      ],
      "outputs": [
        {
          "output_type": "execute_result",
          "data": {
            "text/plain": [
              "array([156, 157, 113])"
            ]
          },
          "metadata": {},
          "execution_count": 479
        }
      ],
      "metadata": {
        "colab": {
          "base_uri": "https://localhost:8080/"
        },
        "id": "x-52_3oDyb0a",
        "outputId": "e8680139-c43c-4d16-8526-6b9e966b5400"
      }
    },
    {
      "cell_type": "markdown",
      "source": [
        "Inicializar as Variáveis"
      ],
      "metadata": {
        "id": "24hSrRMS0pBS"
      }
    },
    {
      "cell_type": "code",
      "execution_count": 482,
      "source": [
        "C = principalDf[['x', 'y']].loc[idx]\n",
        "print(C)\n",
        "C = C.astype(np.float64)\n",
        "G = np.zeros(len(principalDf.values))\n",
        "dif_fc = 1\n",
        "fc=0\n",
        "it = 0\n",
        "C"
      ],
      "outputs": [
        {
          "output_type": "stream",
          "name": "stdout",
          "text": [
            "            x         y\n",
            "156  0.650980 -0.412212\n",
            "157  0.713431 -0.204371\n",
            "113  0.099220  0.507022\n"
          ]
        },
        {
          "output_type": "execute_result",
          "data": {
            "text/html": [
              "<div>\n",
              "<style scoped>\n",
              "    .dataframe tbody tr th:only-of-type {\n",
              "        vertical-align: middle;\n",
              "    }\n",
              "\n",
              "    .dataframe tbody tr th {\n",
              "        vertical-align: top;\n",
              "    }\n",
              "\n",
              "    .dataframe thead th {\n",
              "        text-align: right;\n",
              "    }\n",
              "</style>\n",
              "<table border=\"1\" class=\"dataframe\">\n",
              "  <thead>\n",
              "    <tr style=\"text-align: right;\">\n",
              "      <th></th>\n",
              "      <th>x</th>\n",
              "      <th>y</th>\n",
              "    </tr>\n",
              "  </thead>\n",
              "  <tbody>\n",
              "    <tr>\n",
              "      <th>156</th>\n",
              "      <td>0.650980</td>\n",
              "      <td>-0.412212</td>\n",
              "    </tr>\n",
              "    <tr>\n",
              "      <th>157</th>\n",
              "      <td>0.713431</td>\n",
              "      <td>-0.204371</td>\n",
              "    </tr>\n",
              "    <tr>\n",
              "      <th>113</th>\n",
              "      <td>0.099220</td>\n",
              "      <td>0.507022</td>\n",
              "    </tr>\n",
              "  </tbody>\n",
              "</table>\n",
              "</div>"
            ],
            "text/plain": [
              "            x         y\n",
              "156  0.650980 -0.412212\n",
              "157  0.713431 -0.204371\n",
              "113  0.099220  0.507022"
            ]
          },
          "metadata": {},
          "execution_count": 482
        }
      ],
      "metadata": {
        "colab": {
          "base_uri": "https://localhost:8080/",
          "height": 213
        },
        "id": "725tJNEA0z5Y",
        "outputId": "c9245552-c826-4037-b263-560a8198312d"
      }
    },
    {
      "cell_type": "markdown",
      "source": [
        "Algorítmo"
      ],
      "metadata": {
        "id": "AgKi625W1tf4"
      }
    },
    {
      "cell_type": "code",
      "execution_count": 484,
      "source": [
        "plt.scatter(principalDf[\"x\"], principalDf[\"y\"],c=G)\n",
        "plt.scatter(C.values[:,0],C.values[:,1],s = 120,c='red')\n",
        "plt.show()"
      ],
      "outputs": [
        {
          "output_type": "display_data",
          "data": {
            "image/png": "[encoded data removed]",
            "text/plain": [
              "<Figure size 432x288 with 1 Axes>"
            ]
          },
          "metadata": {
            "needs_background": "light"
          }
        }
      ],
      "metadata": {
        "colab": {
          "base_uri": "https://localhost:8080/",
          "height": 265
        },
        "id": "9VpcnemY0osS",
        "outputId": "5de56044-41a1-45d0-a267-7d99c49eb05e"
      }
    },
    {
      "cell_type": "code",
      "execution_count": 487,
      "source": [
        "while dif_fc != 0:\n",
        "  print(it)\n",
        "  #Calcular a Distancia entre os Centroides e os Objetox\n",
        "  D = dist(principalDf,C)\n",
        "  #Determinar o Centroide mais perto para cada objeto\n",
        "  for i in range(len(principalDf.values)):\n",
        "    #print(D[i])\n",
        "    #print(np.argmin(D[i]))\n",
        "    G[i] = np.argmin(D[i])\n",
        "    \n",
        "  #Atualizar a posicao dos Centroides\n",
        "  for i in range(k):\n",
        "    #Encontrar os objetos de cada grupo\n",
        "    ids = []\n",
        "    for j in range(len(principalDf.values)):\n",
        "      if G[j]==i :\n",
        "        ids.append(j)\n",
        "    #Calcular o ponto médio do grupo\n",
        "    C.values[i] = media(principalDf.loc[ids])\n",
        "  #Calcular o nova funcao de custo do novo agrupamento\n",
        "  fc_nova = funcao_custo(principalDf.values,G,C.values)\n",
        "\n",
        "  #Atualizando as variáveis de controle\n",
        "  if fc == 0:\n",
        "    dif_fc = fc_nova\n",
        "  else:\n",
        "    dif_fc = fc - fc_nova\n",
        "  fc = fc_nova\n",
        "  it=it+1\n"
      ],
      "outputs": [
        {
          "output_type": "stream",
          "name": "stdout",
          "text": [
            "0\n",
            "1\n",
            "2\n",
            "3\n",
            "4\n",
            "5\n",
            "6\n",
            "7\n",
            "8\n"
          ]
        }
      ],
      "metadata": {
        "colab": {
          "base_uri": "https://localhost:8080/"
        },
        "id": "UJbstKXw1tIR",
        "outputId": "43eb7da8-9218-4395-da4d-07c8f0eb98be"
      }
    },
    {
      "cell_type": "code",
      "execution_count": 488,
      "source": [
        "plt.scatter(principalDf[\"x\"], principalDf[\"y\"],c=G)\n",
        "plt.scatter(C.values[:,0],C.values[:,1],s = 120,c='red')\n",
        "plt.show()"
      ],
      "outputs": [
        {
          "output_type": "display_data",
          "data": {
            "image/png": "[encoded data removed]",
            "text/plain": [
              "<Figure size 432x288 with 1 Axes>"
            ]
          },
          "metadata": {
            "needs_background": "light"
          }
        }
      ],
      "metadata": {
        "id": "Jf7vRrEZOSxo",
        "colab": {
          "base_uri": "https://localhost:8080/",
          "height": 265
        },
        "outputId": "9c381ab1-d856-4f5d-eec1-73f8a8dd71f8"
      }
    },
    {
      "cell_type": "markdown",
      "source": [
        "## Índice de Dunn"
      ],
      "metadata": {
        "id": "I31mUMm8E75W"
      }
    },
    {
      "cell_type": "markdown",
      "source": [
        "### Indice de Dunn para o Agrupamento Original"
      ],
      "metadata": {
        "id": "QB2iQcCrCd-m"
      }
    },
    {
      "cell_type": "markdown",
      "source": [
        "Recriando um agrupamento (Original)"
      ],
      "metadata": {
        "id": "_-xtK8hIfStn"
      }
    },
    {
      "cell_type": "code",
      "execution_count": 458,
      "source": [
        "originalA = []\n",
        "originalB = []\n",
        "originalC = []\n",
        "originalD = []\n",
        "labelOriginal = []\n",
        "for i in range(0,20):\n",
        "  originalA.append(i)\n",
        "  labelOriginal.append(0)\n",
        "for i in range(20,35):\n",
        "  originalB.append(i)\n",
        "  labelOriginal.append(1)\n",
        "for i in range(35,58):\n",
        "  originalC.append(i)\n",
        "  labelOriginal.append(2)\n",
        "for i in range(58,75):\n",
        "  originalD.append(i)\n",
        "  labelOriginal.append(3)\n",
        "print(originalA)\n",
        "print(originalB)\n",
        "print(originalC)\n",
        "print(originalD)\n",
        "print(labelOriginal)\n"
      ],
      "outputs": [
        {
          "output_type": "stream",
          "name": "stdout",
          "text": [
            "[0, 1, 2, 3, 4, 5, 6, 7, 8, 9, 10, 11, 12, 13, 14, 15, 16, 17, 18, 19]\n",
            "[20, 21, 22, 23, 24, 25, 26, 27, 28, 29, 30, 31, 32, 33, 34]\n",
            "[35, 36, 37, 38, 39, 40, 41, 42, 43, 44, 45, 46, 47, 48, 49, 50, 51, 52, 53, 54, 55, 56, 57]\n",
            "[58, 59, 60, 61, 62, 63, 64, 65, 66, 67, 68, 69, 70, 71, 72, 73, 74]\n",
            "[0, 0, 0, 0, 0, 0, 0, 0, 0, 0, 0, 0, 0, 0, 0, 0, 0, 0, 0, 0, 1, 1, 1, 1, 1, 1, 1, 1, 1, 1, 1, 1, 1, 1, 1, 2, 2, 2, 2, 2, 2, 2, 2, 2, 2, 2, 2, 2, 2, 2, 2, 2, 2, 2, 2, 2, 2, 2, 3, 3, 3, 3, 3, 3, 3, 3, 3, 3, 3, 3, 3, 3, 3, 3, 3]\n"
          ]
        }
      ],
      "metadata": {
        "colab": {
          "base_uri": "https://localhost:8080/"
        },
        "id": "1pZjVSvjE0JD",
        "outputId": "32ad7ae1-3564-48d2-f0f4-b1f5ab3d36c1"
      }
    },
    {
      "cell_type": "markdown",
      "source": [
        "Visualizando o agrupamento original "
      ],
      "metadata": {
        "id": "GH8d3ksNitAI"
      }
    },
    {
      "cell_type": "code",
      "execution_count": 459,
      "source": [
        "plt.scatter(\n",
        "    principalDf['x'], principalDf['y'],\n",
        "    s=50, c=labelOriginal,\n",
        "    marker='s', edgecolor='black',\n",
        "    label='cluster 0'\n",
        ")"
      ],
      "outputs": [
        {
          "output_type": "error",
          "ename": "ValueError",
          "evalue": "'c' argument has 75 elements, which is inconsistent with 'x' and 'y' with size 178.",
          "traceback": [
            "\u001b[0;31m---------------------------------------------------------------------------\u001b[0m",
            "\u001b[0;31mValueError\u001b[0m                                Traceback (most recent call last)",
            "\u001b[0;32m/usr/local/lib/python3.8/dist-packages/matplotlib/axes/_axes.py\u001b[0m in \u001b[0;36m_parse_scatter_color_args\u001b[0;34m(c, edgecolors, kwargs, xsize, get_next_color_func)\u001b[0m\n\u001b[1;32m   4349\u001b[0m             \u001b[0;32mtry\u001b[0m\u001b[0;34m:\u001b[0m  \u001b[0;31m# Is 'c' acceptable as PathCollection facecolors?\u001b[0m\u001b[0;34m\u001b[0m\u001b[0;34m\u001b[0m\u001b[0m\n\u001b[0;32m-> 4350\u001b[0;31m                 \u001b[0mcolors\u001b[0m \u001b[0;34m=\u001b[0m \u001b[0mmcolors\u001b[0m\u001b[0;34m.\u001b[0m\u001b[0mto_rgba_array\u001b[0m\u001b[0;34m(\u001b[0m\u001b[0mc\u001b[0m\u001b[0;34m)\u001b[0m\u001b[0;34m\u001b[0m\u001b[0;34m\u001b[0m\u001b[0m\n\u001b[0m\u001b[1;32m   4351\u001b[0m             \u001b[0;32mexcept\u001b[0m \u001b[0;34m(\u001b[0m\u001b[0mTypeError\u001b[0m\u001b[0;34m,\u001b[0m \u001b[0mValueError\u001b[0m\u001b[0;34m)\u001b[0m \u001b[0;32mas\u001b[0m \u001b[0merr\u001b[0m\u001b[0;34m:\u001b[0m\u001b[0;34m\u001b[0m\u001b[0;34m\u001b[0m\u001b[0m\n",
            "\u001b[0;32m/usr/local/lib/python3.8/dist-packages/matplotlib/colors.py\u001b[0m in \u001b[0;36mto_rgba_array\u001b[0;34m(c, alpha)\u001b[0m\n\u001b[1;32m    384\u001b[0m     \u001b[0;32melse\u001b[0m\u001b[0;34m:\u001b[0m\u001b[0;34m\u001b[0m\u001b[0;34m\u001b[0m\u001b[0m\n\u001b[0;32m--> 385\u001b[0;31m         \u001b[0mrgba\u001b[0m \u001b[0;34m=\u001b[0m \u001b[0mnp\u001b[0m\u001b[0;34m.\u001b[0m\u001b[0marray\u001b[0m\u001b[0;34m(\u001b[0m\u001b[0;34m[\u001b[0m\u001b[0mto_rgba\u001b[0m\u001b[0;34m(\u001b[0m\u001b[0mcc\u001b[0m\u001b[0;34m)\u001b[0m \u001b[0;32mfor\u001b[0m \u001b[0mcc\u001b[0m \u001b[0;32min\u001b[0m \u001b[0mc\u001b[0m\u001b[0;34m]\u001b[0m\u001b[0;34m)\u001b[0m\u001b[0;34m\u001b[0m\u001b[0;34m\u001b[0m\u001b[0m\n\u001b[0m\u001b[1;32m    386\u001b[0m \u001b[0;34m\u001b[0m\u001b[0m\n",
            "\u001b[0;32m/usr/local/lib/python3.8/dist-packages/matplotlib/colors.py\u001b[0m in \u001b[0;36m<listcomp>\u001b[0;34m(.0)\u001b[0m\n\u001b[1;32m    384\u001b[0m     \u001b[0;32melse\u001b[0m\u001b[0;34m:\u001b[0m\u001b[0;34m\u001b[0m\u001b[0;34m\u001b[0m\u001b[0m\n\u001b[0;32m--> 385\u001b[0;31m         \u001b[0mrgba\u001b[0m \u001b[0;34m=\u001b[0m \u001b[0mnp\u001b[0m\u001b[0;34m.\u001b[0m\u001b[0marray\u001b[0m\u001b[0;34m(\u001b[0m\u001b[0;34m[\u001b[0m\u001b[0mto_rgba\u001b[0m\u001b[0;34m(\u001b[0m\u001b[0mcc\u001b[0m\u001b[0;34m)\u001b[0m \u001b[0;32mfor\u001b[0m \u001b[0mcc\u001b[0m \u001b[0;32min\u001b[0m \u001b[0mc\u001b[0m\u001b[0;34m]\u001b[0m\u001b[0;34m)\u001b[0m\u001b[0;34m\u001b[0m\u001b[0;34m\u001b[0m\u001b[0m\n\u001b[0m\u001b[1;32m    386\u001b[0m \u001b[0;34m\u001b[0m\u001b[0m\n",
            "\u001b[0;32m/usr/local/lib/python3.8/dist-packages/matplotlib/colors.py\u001b[0m in \u001b[0;36mto_rgba\u001b[0;34m(c, alpha)\u001b[0m\n\u001b[1;32m    205\u001b[0m     \u001b[0;32mif\u001b[0m \u001b[0mrgba\u001b[0m \u001b[0;32mis\u001b[0m \u001b[0;32mNone\u001b[0m\u001b[0;34m:\u001b[0m  \u001b[0;31m# Suppress exception chaining of cache lookup failure.\u001b[0m\u001b[0;34m\u001b[0m\u001b[0;34m\u001b[0m\u001b[0m\n\u001b[0;32m--> 206\u001b[0;31m         \u001b[0mrgba\u001b[0m \u001b[0;34m=\u001b[0m \u001b[0m_to_rgba_no_colorcycle\u001b[0m\u001b[0;34m(\u001b[0m\u001b[0mc\u001b[0m\u001b[0;34m,\u001b[0m \u001b[0malpha\u001b[0m\u001b[0;34m)\u001b[0m\u001b[0;34m\u001b[0m\u001b[0;34m\u001b[0m\u001b[0m\n\u001b[0m\u001b[1;32m    207\u001b[0m         \u001b[0;32mtry\u001b[0m\u001b[0;34m:\u001b[0m\u001b[0;34m\u001b[0m\u001b[0;34m\u001b[0m\u001b[0m\n",
            "\u001b[0;32m/usr/local/lib/python3.8/dist-packages/matplotlib/colors.py\u001b[0m in \u001b[0;36m_to_rgba_no_colorcycle\u001b[0;34m(c, alpha)\u001b[0m\n\u001b[1;32m    283\u001b[0m     \u001b[0;32mif\u001b[0m \u001b[0;32mnot\u001b[0m \u001b[0mnp\u001b[0m\u001b[0;34m.\u001b[0m\u001b[0miterable\u001b[0m\u001b[0;34m(\u001b[0m\u001b[0mc\u001b[0m\u001b[0;34m)\u001b[0m\u001b[0;34m:\u001b[0m\u001b[0;34m\u001b[0m\u001b[0;34m\u001b[0m\u001b[0m\n\u001b[0;32m--> 284\u001b[0;31m         \u001b[0;32mraise\u001b[0m \u001b[0mValueError\u001b[0m\u001b[0;34m(\u001b[0m\u001b[0;34mf\"Invalid RGBA argument: {orig_c!r}\"\u001b[0m\u001b[0;34m)\u001b[0m\u001b[0;34m\u001b[0m\u001b[0;34m\u001b[0m\u001b[0m\n\u001b[0m\u001b[1;32m    285\u001b[0m     \u001b[0;32mif\u001b[0m \u001b[0mlen\u001b[0m\u001b[0;34m(\u001b[0m\u001b[0mc\u001b[0m\u001b[0;34m)\u001b[0m \u001b[0;32mnot\u001b[0m \u001b[0;32min\u001b[0m \u001b[0;34m[\u001b[0m\u001b[0;36m3\u001b[0m\u001b[0;34m,\u001b[0m \u001b[0;36m4\u001b[0m\u001b[0;34m]\u001b[0m\u001b[0;34m:\u001b[0m\u001b[0;34m\u001b[0m\u001b[0;34m\u001b[0m\u001b[0m\n",
            "\u001b[0;31mValueError\u001b[0m: Invalid RGBA argument: 0.0",
            "\nThe above exception was the direct cause of the following exception:\n",
            "\u001b[0;31mValueError\u001b[0m                                Traceback (most recent call last)",
            "\u001b[0;32m/tmp/ipykernel_214/1165784454.py\u001b[0m in \u001b[0;36m<module>\u001b[0;34m\u001b[0m\n\u001b[0;32m----> 1\u001b[0;31m plt.scatter(\n\u001b[0m\u001b[1;32m      2\u001b[0m     \u001b[0mprincipalDf\u001b[0m\u001b[0;34m[\u001b[0m\u001b[0;34m'x'\u001b[0m\u001b[0;34m]\u001b[0m\u001b[0;34m,\u001b[0m \u001b[0mprincipalDf\u001b[0m\u001b[0;34m[\u001b[0m\u001b[0;34m'y'\u001b[0m\u001b[0;34m]\u001b[0m\u001b[0;34m,\u001b[0m\u001b[0;34m\u001b[0m\u001b[0;34m\u001b[0m\u001b[0m\n\u001b[1;32m      3\u001b[0m     \u001b[0ms\u001b[0m\u001b[0;34m=\u001b[0m\u001b[0;36m50\u001b[0m\u001b[0;34m,\u001b[0m \u001b[0mc\u001b[0m\u001b[0;34m=\u001b[0m\u001b[0mlabelOriginal\u001b[0m\u001b[0;34m,\u001b[0m\u001b[0;34m\u001b[0m\u001b[0;34m\u001b[0m\u001b[0m\n\u001b[1;32m      4\u001b[0m     \u001b[0mmarker\u001b[0m\u001b[0;34m=\u001b[0m\u001b[0;34m's'\u001b[0m\u001b[0;34m,\u001b[0m \u001b[0medgecolor\u001b[0m\u001b[0;34m=\u001b[0m\u001b[0;34m'black'\u001b[0m\u001b[0;34m,\u001b[0m\u001b[0;34m\u001b[0m\u001b[0;34m\u001b[0m\u001b[0m\n\u001b[1;32m      5\u001b[0m     \u001b[0mlabel\u001b[0m\u001b[0;34m=\u001b[0m\u001b[0;34m'cluster 0'\u001b[0m\u001b[0;34m\u001b[0m\u001b[0;34m\u001b[0m\u001b[0m\n",
            "\u001b[0;32m/usr/local/lib/python3.8/dist-packages/matplotlib/pyplot.py\u001b[0m in \u001b[0;36mscatter\u001b[0;34m(x, y, s, c, marker, cmap, norm, vmin, vmax, alpha, linewidths, edgecolors, plotnonfinite, data, **kwargs)\u001b[0m\n\u001b[1;32m   3066\u001b[0m         \u001b[0mvmin\u001b[0m\u001b[0;34m=\u001b[0m\u001b[0;32mNone\u001b[0m\u001b[0;34m,\u001b[0m \u001b[0mvmax\u001b[0m\u001b[0;34m=\u001b[0m\u001b[0;32mNone\u001b[0m\u001b[0;34m,\u001b[0m \u001b[0malpha\u001b[0m\u001b[0;34m=\u001b[0m\u001b[0;32mNone\u001b[0m\u001b[0;34m,\u001b[0m \u001b[0mlinewidths\u001b[0m\u001b[0;34m=\u001b[0m\u001b[0;32mNone\u001b[0m\u001b[0;34m,\u001b[0m \u001b[0;34m*\u001b[0m\u001b[0;34m,\u001b[0m\u001b[0;34m\u001b[0m\u001b[0;34m\u001b[0m\u001b[0m\n\u001b[1;32m   3067\u001b[0m         edgecolors=None, plotnonfinite=False, data=None, **kwargs):\n\u001b[0;32m-> 3068\u001b[0;31m     __ret = gca().scatter(\n\u001b[0m\u001b[1;32m   3069\u001b[0m         \u001b[0mx\u001b[0m\u001b[0;34m,\u001b[0m \u001b[0my\u001b[0m\u001b[0;34m,\u001b[0m \u001b[0ms\u001b[0m\u001b[0;34m=\u001b[0m\u001b[0ms\u001b[0m\u001b[0;34m,\u001b[0m \u001b[0mc\u001b[0m\u001b[0;34m=\u001b[0m\u001b[0mc\u001b[0m\u001b[0;34m,\u001b[0m \u001b[0mmarker\u001b[0m\u001b[0;34m=\u001b[0m\u001b[0mmarker\u001b[0m\u001b[0;34m,\u001b[0m \u001b[0mcmap\u001b[0m\u001b[0;34m=\u001b[0m\u001b[0mcmap\u001b[0m\u001b[0;34m,\u001b[0m \u001b[0mnorm\u001b[0m\u001b[0;34m=\u001b[0m\u001b[0mnorm\u001b[0m\u001b[0;34m,\u001b[0m\u001b[0;34m\u001b[0m\u001b[0;34m\u001b[0m\u001b[0m\n\u001b[1;32m   3070\u001b[0m         \u001b[0mvmin\u001b[0m\u001b[0;34m=\u001b[0m\u001b[0mvmin\u001b[0m\u001b[0;34m,\u001b[0m \u001b[0mvmax\u001b[0m\u001b[0;34m=\u001b[0m\u001b[0mvmax\u001b[0m\u001b[0;34m,\u001b[0m \u001b[0malpha\u001b[0m\u001b[0;34m=\u001b[0m\u001b[0malpha\u001b[0m\u001b[0;34m,\u001b[0m \u001b[0mlinewidths\u001b[0m\u001b[0;34m=\u001b[0m\u001b[0mlinewidths\u001b[0m\u001b[0;34m,\u001b[0m\u001b[0;34m\u001b[0m\u001b[0;34m\u001b[0m\u001b[0m\n",
            "\u001b[0;32m/usr/local/lib/python3.8/dist-packages/matplotlib/__init__.py\u001b[0m in \u001b[0;36minner\u001b[0;34m(ax, data, *args, **kwargs)\u001b[0m\n\u001b[1;32m   1359\u001b[0m     \u001b[0;32mdef\u001b[0m \u001b[0minner\u001b[0m\u001b[0;34m(\u001b[0m\u001b[0max\u001b[0m\u001b[0;34m,\u001b[0m \u001b[0;34m*\u001b[0m\u001b[0margs\u001b[0m\u001b[0;34m,\u001b[0m \u001b[0mdata\u001b[0m\u001b[0;34m=\u001b[0m\u001b[0;32mNone\u001b[0m\u001b[0;34m,\u001b[0m \u001b[0;34m**\u001b[0m\u001b[0mkwargs\u001b[0m\u001b[0;34m)\u001b[0m\u001b[0;34m:\u001b[0m\u001b[0;34m\u001b[0m\u001b[0;34m\u001b[0m\u001b[0m\n\u001b[1;32m   1360\u001b[0m         \u001b[0;32mif\u001b[0m \u001b[0mdata\u001b[0m \u001b[0;32mis\u001b[0m \u001b[0;32mNone\u001b[0m\u001b[0;34m:\u001b[0m\u001b[0;34m\u001b[0m\u001b[0;34m\u001b[0m\u001b[0m\n\u001b[0;32m-> 1361\u001b[0;31m             \u001b[0;32mreturn\u001b[0m \u001b[0mfunc\u001b[0m\u001b[0;34m(\u001b[0m\u001b[0max\u001b[0m\u001b[0;34m,\u001b[0m \u001b[0;34m*\u001b[0m\u001b[0mmap\u001b[0m\u001b[0;34m(\u001b[0m\u001b[0msanitize_sequence\u001b[0m\u001b[0;34m,\u001b[0m \u001b[0margs\u001b[0m\u001b[0;34m)\u001b[0m\u001b[0;34m,\u001b[0m \u001b[0;34m**\u001b[0m\u001b[0mkwargs\u001b[0m\u001b[0;34m)\u001b[0m\u001b[0;34m\u001b[0m\u001b[0;34m\u001b[0m\u001b[0m\n\u001b[0m\u001b[1;32m   1362\u001b[0m \u001b[0;34m\u001b[0m\u001b[0m\n\u001b[1;32m   1363\u001b[0m         \u001b[0mbound\u001b[0m \u001b[0;34m=\u001b[0m \u001b[0mnew_sig\u001b[0m\u001b[0;34m.\u001b[0m\u001b[0mbind\u001b[0m\u001b[0;34m(\u001b[0m\u001b[0max\u001b[0m\u001b[0;34m,\u001b[0m \u001b[0;34m*\u001b[0m\u001b[0margs\u001b[0m\u001b[0;34m,\u001b[0m \u001b[0;34m**\u001b[0m\u001b[0mkwargs\u001b[0m\u001b[0;34m)\u001b[0m\u001b[0;34m\u001b[0m\u001b[0;34m\u001b[0m\u001b[0m\n",
            "\u001b[0;32m/usr/local/lib/python3.8/dist-packages/matplotlib/axes/_axes.py\u001b[0m in \u001b[0;36mscatter\u001b[0;34m(self, x, y, s, c, marker, cmap, norm, vmin, vmax, alpha, linewidths, edgecolors, plotnonfinite, **kwargs)\u001b[0m\n\u001b[1;32m   4514\u001b[0m             \u001b[0morig_edgecolor\u001b[0m \u001b[0;34m=\u001b[0m \u001b[0mkwargs\u001b[0m\u001b[0;34m.\u001b[0m\u001b[0mget\u001b[0m\u001b[0;34m(\u001b[0m\u001b[0;34m'edgecolor'\u001b[0m\u001b[0;34m,\u001b[0m \u001b[0;32mNone\u001b[0m\u001b[0;34m)\u001b[0m\u001b[0;34m\u001b[0m\u001b[0;34m\u001b[0m\u001b[0m\n\u001b[1;32m   4515\u001b[0m         \u001b[0mc\u001b[0m\u001b[0;34m,\u001b[0m \u001b[0mcolors\u001b[0m\u001b[0;34m,\u001b[0m \u001b[0medgecolors\u001b[0m \u001b[0;34m=\u001b[0m\u001b[0;31m \u001b[0m\u001b[0;31m\\\u001b[0m\u001b[0;34m\u001b[0m\u001b[0;34m\u001b[0m\u001b[0m\n\u001b[0;32m-> 4516\u001b[0;31m             self._parse_scatter_color_args(\n\u001b[0m\u001b[1;32m   4517\u001b[0m                 \u001b[0mc\u001b[0m\u001b[0;34m,\u001b[0m \u001b[0medgecolors\u001b[0m\u001b[0;34m,\u001b[0m \u001b[0mkwargs\u001b[0m\u001b[0;34m,\u001b[0m \u001b[0mx\u001b[0m\u001b[0;34m.\u001b[0m\u001b[0msize\u001b[0m\u001b[0;34m,\u001b[0m\u001b[0;34m\u001b[0m\u001b[0;34m\u001b[0m\u001b[0m\n\u001b[1;32m   4518\u001b[0m                 get_next_color_func=self._get_patches_for_fill.get_next_color)\n",
            "\u001b[0;32m/usr/local/lib/python3.8/dist-packages/matplotlib/axes/_axes.py\u001b[0m in \u001b[0;36m_parse_scatter_color_args\u001b[0;34m(c, edgecolors, kwargs, xsize, get_next_color_func)\u001b[0m\n\u001b[1;32m   4354\u001b[0m                 \u001b[0;32melse\u001b[0m\u001b[0;34m:\u001b[0m\u001b[0;34m\u001b[0m\u001b[0;34m\u001b[0m\u001b[0m\n\u001b[1;32m   4355\u001b[0m                     \u001b[0;32mif\u001b[0m \u001b[0;32mnot\u001b[0m \u001b[0mvalid_shape\u001b[0m\u001b[0;34m:\u001b[0m\u001b[0;34m\u001b[0m\u001b[0;34m\u001b[0m\u001b[0m\n\u001b[0;32m-> 4356\u001b[0;31m                         \u001b[0;32mraise\u001b[0m \u001b[0minvalid_shape_exception\u001b[0m\u001b[0;34m(\u001b[0m\u001b[0mc\u001b[0m\u001b[0;34m.\u001b[0m\u001b[0msize\u001b[0m\u001b[0;34m,\u001b[0m \u001b[0mxsize\u001b[0m\u001b[0;34m)\u001b[0m \u001b[0;32mfrom\u001b[0m \u001b[0merr\u001b[0m\u001b[0;34m\u001b[0m\u001b[0;34m\u001b[0m\u001b[0m\n\u001b[0m\u001b[1;32m   4357\u001b[0m                     \u001b[0;31m# Both the mapping *and* the RGBA conversion failed: pretty\u001b[0m\u001b[0;34m\u001b[0m\u001b[0;34m\u001b[0m\u001b[0;34m\u001b[0m\u001b[0m\n\u001b[1;32m   4358\u001b[0m                     \u001b[0;31m# severe failure => one may appreciate a verbose feedback.\u001b[0m\u001b[0;34m\u001b[0m\u001b[0;34m\u001b[0m\u001b[0;34m\u001b[0m\u001b[0m\n",
            "\u001b[0;31mValueError\u001b[0m: 'c' argument has 75 elements, which is inconsistent with 'x' and 'y' with size 178."
          ]
        },
        {
          "output_type": "display_data",
          "data": {
            "image/png": "[encoded data removed]",
            "text/plain": [
              "<Figure size 432x288 with 1 Axes>"
            ]
          },
          "metadata": {
            "needs_background": "light"
          }
        }
      ],
      "metadata": {
        "id": "674MueNGHUPL",
        "colab": {
          "base_uri": "https://localhost:8080/",
          "height": 283
        },
        "outputId": "0a5301b5-cd46-4507-b609-03b1feed409a"
      }
    },
    {
      "cell_type": "markdown",
      "source": [
        "Calculo do Intra Gi"
      ],
      "metadata": {
        "id": "_DOkBP0BjKhw"
      }
    },
    {
      "cell_type": "code",
      "execution_count": null,
      "source": [
        "#Numero de Grupos\n",
        "k = 4\n",
        "dfLabelOriginal = pd.DataFrame(labelOriginal)\n",
        "intraGrupos = []\n",
        "\n",
        "for i in range(k):\n",
        "  objetosGrupoi = dfRuspini.iloc[dfLabelOriginal[dfLabelOriginal[0]==i].index].values\n",
        "\n",
        "  distanciasIntraGi = []\n",
        "  for i1 in range(len(objetosGrupoi)):\n",
        "    for i2 in range(i1+1,len(objetosGrupoi)):\n",
        "      distanciasIntraGi.append(distance.euclidean(objetosGrupoi[i1],objetosGrupoi[i2]))\n",
        "\n",
        "  intraGrupos.append(max(distanciasIntraGi))\n",
        "\n",
        "intraGrupos\n"
      ],
      "outputs": [
        {
          "output_type": "execute_result",
          "data": {
            "text/plain": [
              "[40.24922359499622, 27.073972741361768, 36.61966684720111, 47.634021455258214]"
            ]
          },
          "metadata": {},
          "execution_count": 18
        }
      ],
      "metadata": {
        "colab": {
          "base_uri": "https://localhost:8080/"
        },
        "id": "jesmdoHEmcGc",
        "outputId": "d7157166-56d9-4a13-96a4-6228e06f8b81"
      }
    },
    {
      "cell_type": "code",
      "execution_count": null,
      "source": [
        "maxIntraGrupos = max(intraGrupos)\n",
        "maxIntraGrupos"
      ],
      "outputs": [
        {
          "output_type": "execute_result",
          "data": {
            "text/plain": [
              "47.634021455258214"
            ]
          },
          "metadata": {},
          "execution_count": 19
        }
      ],
      "metadata": {
        "colab": {
          "base_uri": "https://localhost:8080/"
        },
        "id": "J8lBq-es2Uvv",
        "outputId": "cc5d3d0f-4028-43d8-bfeb-d305adcd86fc"
      }
    },
    {
      "cell_type": "markdown",
      "source": [
        "Calculo do Minino Intergrupos"
      ],
      "metadata": {
        "id": "MfqxWFx42tlJ"
      }
    },
    {
      "cell_type": "code",
      "execution_count": null,
      "source": [
        "def interGiGj(grupoI, grupoJ):\n",
        "  soma = 0\n",
        "  for i in range(len(grupoI)):\n",
        "    for j in range(len(grupoJ)):\n",
        "      soma+=distance.euclidean(grupoI[i],grupoJ[j])\n",
        "  \n",
        "  return soma*(1/(len(grupoI)*len(grupoJ)))\n"
      ],
      "outputs": [],
      "metadata": {
        "id": "v9bd6uxr9PbU"
      }
    },
    {
      "cell_type": "code",
      "execution_count": null,
      "source": [
        "interGrupos = []\n",
        "for i in range(k):\n",
        "  for j in range(i+1,k):\n",
        "    interGrupos.append(interGiGj(dfRuspini.iloc[dfLabelOriginal[dfLabelOriginal[0]==i].index].values, dfRuspini.iloc[dfLabelOriginal[dfLabelOriginal[0]==j].index].values))\n",
        "\n",
        "interGrupos"
      ],
      "outputs": [
        {
          "output_type": "execute_result",
          "data": {
            "text/plain": [
              "[67.75052265858555,\n",
              " 85.64718438219715,\n",
              " 93.56585339719659,\n",
              " 129.5819060424859,\n",
              " 100.71741881856003,\n",
              " 64.42554862511201]"
            ]
          },
          "metadata": {},
          "execution_count": 21
        }
      ],
      "metadata": {
        "colab": {
          "base_uri": "https://localhost:8080/"
        },
        "id": "80yC5A-52aCN",
        "outputId": "b5b07f9e-aba6-48a9-c95f-49960ee3b235"
      }
    },
    {
      "cell_type": "code",
      "execution_count": null,
      "source": [
        "minInterGrupos = min(interGrupos)\n",
        "minInterGrupos"
      ],
      "outputs": [
        {
          "output_type": "execute_result",
          "data": {
            "text/plain": [
              "64.42554862511201"
            ]
          },
          "metadata": {},
          "execution_count": 22
        }
      ],
      "metadata": {
        "colab": {
          "base_uri": "https://localhost:8080/"
        },
        "id": "6NSm0RQm_qEa",
        "outputId": "4b94f79c-471f-4038-cdfb-9bd1a7828a3b"
      }
    },
    {
      "cell_type": "markdown",
      "source": [
        "Calculo de Dunn para o Agrupamento Original "
      ],
      "metadata": {
        "id": "fPfdyJ1mBYwK"
      }
    },
    {
      "cell_type": "code",
      "execution_count": null,
      "source": [
        "indDunnOriginal = minInterGrupos/maxIntraGrupos\n",
        "indDunnOriginal"
      ],
      "outputs": [
        {
          "output_type": "execute_result",
          "data": {
            "text/plain": [
              "1.3525112232152345"
            ]
          },
          "metadata": {},
          "execution_count": 23
        }
      ],
      "metadata": {
        "colab": {
          "base_uri": "https://localhost:8080/"
        },
        "id": "HXn05EGEBIfE",
        "outputId": "d5751d73-e488-4337-cbcd-c3a43c3fcf3d"
      }
    },
    {
      "cell_type": "markdown",
      "source": [
        "###Indice de Dunn para o agrupamento KMedias"
      ],
      "metadata": {
        "id": "qyEapryjCVNb"
      }
    },
    {
      "cell_type": "markdown",
      "source": [
        "Labels do Agrupamento Obtidp"
      ],
      "metadata": {
        "id": "pm3iBFDHCx8I"
      }
    },
    {
      "cell_type": "code",
      "execution_count": null,
      "source": [
        "labelObtido = G.astype(int)\n",
        "labelObtido"
      ],
      "outputs": [
        {
          "output_type": "execute_result",
          "data": {
            "text/plain": [
              "array([0, 0, 0, 0, 0, 0, 0, 0, 0, 0, 0, 0, 0, 0, 0, 0, 0, 0, 0, 0, 0, 0,\n",
              "       0, 0, 0, 0, 0, 0, 0, 0, 0, 0, 0, 0, 0, 2, 2, 2, 2, 2, 2, 2, 2, 2,\n",
              "       2, 2, 2, 2, 2, 2, 2, 2, 2, 2, 2, 2, 2, 2, 1, 1, 1, 1, 1, 1, 1, 1,\n",
              "       1, 1, 1, 1, 1, 1, 1, 1, 1])"
            ]
          },
          "metadata": {},
          "execution_count": 24
        }
      ],
      "metadata": {
        "colab": {
          "base_uri": "https://localhost:8080/"
        },
        "id": "7kB90nN3CZDw",
        "outputId": "6bb256d4-0593-4ecc-d1dc-df0d6960e625"
      }
    },
    {
      "cell_type": "markdown",
      "source": [
        "Visualizando o Agrupamento Obtido"
      ],
      "metadata": {
        "id": "uTcTpcNVDBKo"
      }
    },
    {
      "cell_type": "code",
      "execution_count": null,
      "source": [
        "plt.scatter(\n",
        "    dfRuspini['x'], dfRuspini['y'],\n",
        "    s=50, c=labelObtido,\n",
        "    marker='s', edgecolor='black',\n",
        "    label='cluster 0'\n",
        ")"
      ],
      "outputs": [
        {
          "output_type": "execute_result",
          "data": {
            "text/plain": [
              "<matplotlib.collections.PathCollection at 0x7fcfdc0e0450>"
            ]
          },
          "metadata": {},
          "execution_count": 25
        },
        {
          "output_type": "display_data",
          "data": {
            "image/png": "[encoded data removed]",
            "text/plain": [
              "<Figure size 432x288 with 1 Axes>"
            ]
          },
          "metadata": {
            "needs_background": "light"
          }
        }
      ],
      "metadata": {
        "colab": {
          "base_uri": "https://localhost:8080/",
          "height": 283
        },
        "id": "ASn4vutMC1I7",
        "outputId": "22cb7ba1-2802-4b81-f08d-54c01396dda9"
      }
    },
    {
      "cell_type": "markdown",
      "source": [
        "Calculo do Intra Gi"
      ],
      "metadata": {
        "id": "F9RdAkjWERmB"
      }
    },
    {
      "cell_type": "code",
      "execution_count": null,
      "source": [
        "#Numero de Grupos\n",
        "k = 3\n",
        "dfLabelObtido = pd.DataFrame(labelObtido)\n",
        "intraGrupos = []\n",
        "\n",
        "for i in range(k):\n",
        "  objetosGrupoi = dfRuspini.iloc[dfLabelObtido[dfLabelObtido[0]==i].index].values\n",
        "\n",
        "  distanciasIntraGi = []\n",
        "  for i1 in range(len(objetosGrupoi)):\n",
        "    for i2 in range(i1+1,len(objetosGrupoi)):\n",
        "      distanciasIntraGi.append(distance.euclidean(objetosGrupoi[i1],objetosGrupoi[i2]))\n",
        "\n",
        "  intraGrupos.append(max(distanciasIntraGi))\n",
        "\n",
        "intraGrupos\n",
        "\n"
      ],
      "outputs": [
        {
          "output_type": "execute_result",
          "data": {
            "text/plain": [
              "[102.07840124139877, 47.634021455258214, 36.61966684720111]"
            ]
          },
          "metadata": {},
          "execution_count": 26
        }
      ],
      "metadata": {
        "colab": {
          "base_uri": "https://localhost:8080/"
        },
        "id": "GFx5qUGuERmc",
        "outputId": "7015d3a9-f894-48e1-e446-c0adbc7f3952"
      }
    },
    {
      "cell_type": "code",
      "execution_count": null,
      "source": [
        "maxIntraGrupos = max(intraGrupos)\n",
        "maxIntraGrupos"
      ],
      "outputs": [
        {
          "output_type": "execute_result",
          "data": {
            "text/plain": [
              "102.07840124139877"
            ]
          },
          "metadata": {},
          "execution_count": 27
        }
      ],
      "metadata": {
        "colab": {
          "base_uri": "https://localhost:8080/"
        },
        "id": "oALH_QAtERme",
        "outputId": "e0c01251-a83c-4456-f187-513d1fa36dd4"
      }
    },
    {
      "cell_type": "markdown",
      "source": [
        "Calculo do Minino Intergrupos"
      ],
      "metadata": {
        "id": "r5QZa6DcERme"
      }
    },
    {
      "cell_type": "code",
      "execution_count": null,
      "source": [
        "def interGiGj(grupoI, grupoJ):\n",
        "  soma = 0\n",
        "  for i in range(len(grupoI)):\n",
        "    for j in range(len(grupoJ)):\n",
        "      soma+=distance.euclidean(grupoI[i],grupoJ[j])\n",
        "  \n",
        "  return soma*(1/(len(grupoI)*len(grupoJ)))\n"
      ],
      "outputs": [],
      "metadata": {
        "id": "d_9lDEJAERmf"
      }
    },
    {
      "cell_type": "code",
      "execution_count": null,
      "source": [
        "interGrupos = []\n",
        "for i in range(k):\n",
        "  for j in range(i+1,k):\n",
        "    interGrupos.append(interGiGj(dfRuspini.iloc[dfLabelObtido[dfLabelObtido[0]==i].index].values, dfRuspini.iloc[dfLabelObtido[dfLabelObtido[0]==j].index].values))\n",
        "\n",
        "interGrupos"
      ],
      "outputs": [
        {
          "output_type": "execute_result",
          "data": {
            "text/plain": [
              "[96.63081000635235, 104.47635080803528, 64.42554862511201]"
            ]
          },
          "metadata": {},
          "execution_count": 29
        }
      ],
      "metadata": {
        "colab": {
          "base_uri": "https://localhost:8080/"
        },
        "id": "XjgfqCTdERmf",
        "outputId": "637fc2a8-ab9b-497b-a062-a6ab84bb83c3"
      }
    },
    {
      "cell_type": "code",
      "execution_count": null,
      "source": [
        "minInterGrupos = min(interGrupos)\n",
        "minInterGrupos"
      ],
      "outputs": [
        {
          "output_type": "execute_result",
          "data": {
            "text/plain": [
              "64.42554862511201"
            ]
          },
          "metadata": {},
          "execution_count": 30
        }
      ],
      "metadata": {
        "colab": {
          "base_uri": "https://localhost:8080/"
        },
        "id": "ACEUg6ZgERmg",
        "outputId": "337598c9-4de1-401d-839b-7b1a1a510340"
      }
    },
    {
      "cell_type": "markdown",
      "source": [
        "Calculo de Dunn para o Agrupamento Obtido"
      ],
      "metadata": {
        "id": "kXOzeUCIERmg"
      }
    },
    {
      "cell_type": "code",
      "execution_count": null,
      "source": [
        "indDunnObtido = minInterGrupos/maxIntraGrupos\n",
        "indDunnObtido"
      ],
      "outputs": [
        {
          "output_type": "execute_result",
          "data": {
            "text/plain": [
              "0.6311379081335345"
            ]
          },
          "metadata": {},
          "execution_count": 31
        }
      ],
      "metadata": {
        "colab": {
          "base_uri": "https://localhost:8080/"
        },
        "id": "qR8V2UY5ERmg",
        "outputId": "fb64a8a3-f01a-4601-b314-a5daa7d01662"
      }
    },
    {
      "cell_type": "markdown",
      "source": [
        "##Índice da Silhueta"
      ],
      "metadata": {
        "id": "drp6mxXQF9yT"
      }
    },
    {
      "cell_type": "markdown",
      "source": [
        "###Índice da Silhueta para o Agrupamento Original"
      ],
      "metadata": {
        "id": "ugPeSmT4t1ax"
      }
    },
    {
      "cell_type": "markdown",
      "source": [
        "Definindo Funcoes "
      ],
      "metadata": {
        "id": "rOQAEelkrfYO"
      }
    },
    {
      "cell_type": "code",
      "execution_count": null,
      "source": [
        "def A(j,dados, labels):\n",
        "  soma = 0\n",
        "  grupoJ = labels.loc[j].values[0]\n",
        "  for dadosGrupo in dados.iloc[labels[labels[0]==grupoJ].index].values:\n",
        "    soma += distance.euclidean(dados.iloc[labels[labels[0]==grupoJ].index].loc[j], dadosGrupo)\n",
        "  return soma/(len(dados.iloc[labels[labels[0]==grupoJ].index].values)-1)"
      ],
      "outputs": [],
      "metadata": {
        "id": "cAjWtoncTxJw"
      }
    },
    {
      "cell_type": "code",
      "execution_count": null,
      "source": [
        "def B(k,i,j,dados,labels):\n",
        "  grupos = list(range(k))\n",
        "  grupos.remove(i)\n",
        "  distanciasMediasGrupos = []\n",
        "  for grupo in grupos:\n",
        "    soma=0\n",
        "    for dado in dados.iloc[labels[labels[0]==grupo].index].values:\n",
        "      soma+= distance.euclidean(dados.iloc[labels[labels[0]==i].index].loc[j],dado)\n",
        "    distanciasMediasGrupos.append(soma/len(dados.iloc[labels[labels[0]==grupo].index].values))\n",
        "  return min(distanciasMediasGrupos)"
      ],
      "outputs": [],
      "metadata": {
        "id": "t0phIBD4VomT"
      }
    },
    {
      "cell_type": "markdown",
      "source": [
        "Obtendo o valor da Silhueta de um Objeto\n",
        "\n",
        "> Bloco com recuo\n",
        "\n"
      ],
      "metadata": {
        "id": "D-32i-iwrjBq"
      }
    },
    {
      "cell_type": "code",
      "execution_count": null,
      "source": [
        "#Escoha do indice do objeto\n",
        "j=31\n",
        "\n",
        "i = dfLabelOriginal.loc[j].values[0]\n",
        "k=4\n",
        "aj = A(j,dfRuspini,dfLabelOriginal)\n",
        "bj = B(k,i,j,dfRuspini,dfLabelOriginal)\n",
        "\n",
        "round((bj-aj)/max([bj,aj]),2)\n"
      ],
      "outputs": [
        {
          "output_type": "execute_result",
          "data": {
            "text/plain": [
              "0.8"
            ]
          },
          "metadata": {},
          "execution_count": 65
        }
      ],
      "metadata": {
        "colab": {
          "base_uri": "https://localhost:8080/"
        },
        "id": "op8q7V2agvA_",
        "outputId": "3c9b33f3-7289-4c0e-92c5-70bceb34daa2"
      }
    },
    {
      "cell_type": "markdown",
      "source": [
        "Obtendo o Valor da Silhueta um Grupo"
      ],
      "metadata": {
        "id": "kOD7punHrxvB"
      }
    },
    {
      "cell_type": "code",
      "execution_count": null,
      "source": [
        "#Escolha do indice do Grupo, sendo k-1 o valor maximo\n",
        "i = 3\n",
        "\n",
        "k = 4\n",
        "\n",
        "somaSilhGrupo = 0\n",
        "for j in dfLabelOriginal[dfLabelOriginal[0]==i].index:\n",
        "  aj = A(j,dfRuspini,dfLabelOriginal)\n",
        "  bj = B(k,i,j,dfRuspini,dfLabelOriginal)\n",
        "\n",
        "  somaSilhGrupo += round((bj-aj)/max([bj,aj]),2)\n",
        "\n",
        "round(somaSilhGrupo/len(dfLabelOriginal[dfLabelOriginal[0]==i].index),2)\n"
      ],
      "outputs": [
        {
          "output_type": "execute_result",
          "data": {
            "text/plain": [
              "0.67"
            ]
          },
          "metadata": {},
          "execution_count": 69
        }
      ],
      "metadata": {
        "colab": {
          "base_uri": "https://localhost:8080/"
        },
        "id": "acohTe0uGEIF",
        "outputId": "f6292271-64b4-446a-bbb3-908777a5d4db"
      }
    },
    {
      "cell_type": "markdown",
      "source": [
        "Obtendo o Índice da Silhueta para o Agrupamento Original "
      ],
      "metadata": {
        "id": "T8zO040JsI7W"
      }
    },
    {
      "cell_type": "code",
      "execution_count": null,
      "source": [
        "k = 4\n",
        "\n",
        "somaSilhAgrupamento = 0\n",
        "for i in range(k):\n",
        "  somaSilhGrupo = 0\n",
        "  for j in dfLabelOriginal[dfLabelOriginal[0]==i].index:\n",
        "    aj = A(j,dfRuspini,dfLabelOriginal)\n",
        "    bj = B(k,i,j,dfRuspini,dfLabelOriginal)\n",
        "\n",
        "    somaSilhGrupo += round((bj-aj)/max([bj,aj]),2)\n",
        "\n",
        "  somaSilhAgrupamento += round(somaSilhGrupo/len(dfLabelOriginal[dfLabelOriginal[0]==i].index),2)\n",
        "\n",
        "IndiceSilhOriginal = round(somaSilhAgrupamento/k,2)\n",
        "IndiceSilhOriginal"
      ],
      "outputs": [
        {
          "output_type": "execute_result",
          "data": {
            "text/plain": [
              "0.74"
            ]
          },
          "metadata": {},
          "execution_count": 36
        }
      ],
      "metadata": {
        "colab": {
          "base_uri": "https://localhost:8080/"
        },
        "id": "xMvvlZf-q-io",
        "outputId": "9eceac70-5a88-4406-bd91-68849e99e6bf"
      }
    },
    {
      "cell_type": "markdown",
      "source": [
        "###Índice da Silhueta para o Agrupamento Obtido"
      ],
      "metadata": {
        "id": "4Cora_0zuAIp"
      }
    },
    {
      "cell_type": "markdown",
      "source": [
        "Definindo Funcoes "
      ],
      "metadata": {
        "id": "Irf1MnDyuAIq"
      }
    },
    {
      "cell_type": "code",
      "execution_count": null,
      "source": [
        "def A(j,dados, labels):\n",
        "  soma = 0\n",
        "  grupoJ = labels.loc[j].values[0]\n",
        "  for dadosGrupo in dados.iloc[labels[labels[0]==grupoJ].index].values:\n",
        "    soma += distance.euclidean(dados.iloc[labels[labels[0]==grupoJ].index].loc[j], dadosGrupo)\n",
        "  return soma/(len(dados.iloc[labels[labels[0]==grupoJ].index].values)-1)"
      ],
      "outputs": [],
      "metadata": {
        "id": "cBWPF9bEuAIq"
      }
    },
    {
      "cell_type": "code",
      "execution_count": null,
      "source": [
        "def B(k,i,j,dados,labels):\n",
        "  grupos = list(range(k))\n",
        "  grupos.remove(i)\n",
        "  distanciasMediasGrupos = []\n",
        "  for grupo in grupos:\n",
        "    soma=0\n",
        "    for dado in dados.iloc[labels[labels[0]==grupo].index].values:\n",
        "      soma+= distance.euclidean(dados.iloc[labels[labels[0]==i].index].loc[j],dado)\n",
        "    distanciasMediasGrupos.append(soma/len(dados.iloc[labels[labels[0]==grupo].index].values))\n",
        "  return min(distanciasMediasGrupos)"
      ],
      "outputs": [],
      "metadata": {
        "id": "hnWOcI0MuAIr"
      }
    },
    {
      "cell_type": "markdown",
      "source": [
        "Obtendo o valor da Silhueta de um Objeto"
      ],
      "metadata": {
        "id": "nxU5U-iCuAIs"
      }
    },
    {
      "cell_type": "code",
      "execution_count": null,
      "source": [
        "#Escoha do indice do objeto\n",
        "j=49\n",
        "\n",
        "i = dfLabelObtido.loc[j].values[0]\n",
        "k=3\n",
        "aj = A(j,dfRuspini,dfLabelObtido)\n",
        "bj = B(k,i,j,dfRuspini,dfLabelObtido)\n",
        "\n",
        "round((bj-aj)/max([bj,aj]),2)\n"
      ],
      "outputs": [
        {
          "output_type": "execute_result",
          "data": {
            "text/plain": [
              "0.82"
            ]
          },
          "metadata": {},
          "execution_count": 39
        }
      ],
      "metadata": {
        "colab": {
          "base_uri": "https://localhost:8080/"
        },
        "id": "umEDgwD2uAIs",
        "outputId": "912dfc7d-4270-4ef5-c7f8-26b8621e3d06"
      }
    },
    {
      "cell_type": "markdown",
      "source": [
        "Obtendo o Valor da Silhueta um Grupo"
      ],
      "metadata": {
        "id": "SK2M0ba5uAIt"
      }
    },
    {
      "cell_type": "code",
      "execution_count": null,
      "source": [
        "#Escolha do indice do Grupo, sendo k-1 o valor maximo\n",
        "i = 2\n",
        "\n",
        "k = 3\n",
        "\n",
        "somaSilhGrupo = 0\n",
        "for j in dfLabelObtido[dfLabelObtido[0]==i].index:\n",
        "  aj = A(j,dfRuspini,dfLabelObtido)\n",
        "  bj = B(k,i,j,dfRuspini,dfLabelObtido)\n",
        "\n",
        "  somaSilhGrupo += round((bj-aj)/max([bj,aj]),2)\n",
        "\n",
        "round(somaSilhGrupo/len(dfLabelObtido[dfLabelObtido[0]==i].index),2)\n"
      ],
      "outputs": [
        {
          "output_type": "execute_result",
          "data": {
            "text/plain": [
              "0.75"
            ]
          },
          "metadata": {},
          "execution_count": 40
        }
      ],
      "metadata": {
        "colab": {
          "base_uri": "https://localhost:8080/"
        },
        "id": "FW2MvnFVuAIu",
        "outputId": "57278317-1937-4b69-b680-e2e557129da5"
      }
    },
    {
      "cell_type": "markdown",
      "source": [
        "Obtendo o Índice da Silhueta para o Agrupamento Obtido "
      ],
      "metadata": {
        "id": "WOVMi3tiuAIv"
      }
    },
    {
      "cell_type": "code",
      "execution_count": null,
      "source": [
        "k = 3\n",
        "\n",
        "somaSilhAgrupamento = 0\n",
        "for i in range(k):\n",
        "  somaSilhGrupo = 0\n",
        "  for j in dfLabelObtido[dfLabelObtido[0]==i].index:\n",
        "    aj = A(j,dfRuspini,dfLabelObtido)\n",
        "    bj = B(k,i,j,dfRuspini,dfLabelObtido)\n",
        "\n",
        "    somaSilhGrupo += round((bj-aj)/max([bj,aj]),2)\n",
        "\n",
        "  somaSilhAgrupamento += round(somaSilhGrupo/len(dfLabelObtido[dfLabelObtido[0]==i].index),2)\n",
        "\n",
        "IndiceSilhOriginal = round(somaSilhAgrupamento/k,2)\n",
        "IndiceSilhOriginal"
      ],
      "outputs": [
        {
          "output_type": "execute_result",
          "data": {
            "text/plain": [
              "0.65"
            ]
          },
          "metadata": {},
          "execution_count": 41
        }
      ],
      "metadata": {
        "colab": {
          "base_uri": "https://localhost:8080/"
        },
        "id": "_oqnJhCFuAIw",
        "outputId": "256b242e-0f48-456a-bb0e-d1ca65faca89"
      }
    },
    {
      "cell_type": "markdown",
      "source": [
        "##Algorítmo K-Medoides"
      ],
      "metadata": {
        "id": "n4SCFXCmS0p_"
      }
    },
    {
      "cell_type": "markdown",
      "source": [
        "Número de Grupos"
      ],
      "metadata": {
        "id": "N38ZeA9Rm0vA"
      }
    },
    {
      "cell_type": "code",
      "execution_count": null,
      "source": [
        "k = 4"
      ],
      "outputs": [],
      "metadata": {
        "id": "T6nHtBOnm0vE"
      }
    },
    {
      "cell_type": "markdown",
      "source": [
        "Base de Dados "
      ],
      "metadata": {
        "id": "fI9E8WYIm0vE"
      }
    },
    {
      "cell_type": "code",
      "execution_count": null,
      "source": [
        "dfRuspini "
      ],
      "outputs": [
        {
          "output_type": "execute_result",
          "data": {
            "text/html": [
              "<div>\n",
              "<style scoped>\n",
              "    .dataframe tbody tr th:only-of-type {\n",
              "        vertical-align: middle;\n",
              "    }\n",
              "\n",
              "    .dataframe tbody tr th {\n",
              "        vertical-align: top;\n",
              "    }\n",
              "\n",
              "    .dataframe thead th {\n",
              "        text-align: right;\n",
              "    }\n",
              "</style>\n",
              "<table border=\"1\" class=\"dataframe\">\n",
              "  <thead>\n",
              "    <tr style=\"text-align: right;\">\n",
              "      <th></th>\n",
              "      <th>x</th>\n",
              "      <th>y</th>\n",
              "    </tr>\n",
              "  </thead>\n",
              "  <tbody>\n",
              "    <tr>\n",
              "      <th>0</th>\n",
              "      <td>4</td>\n",
              "      <td>53</td>\n",
              "    </tr>\n",
              "    <tr>\n",
              "      <th>1</th>\n",
              "      <td>5</td>\n",
              "      <td>63</td>\n",
              "    </tr>\n",
              "    <tr>\n",
              "      <th>2</th>\n",
              "      <td>9</td>\n",
              "      <td>77</td>\n",
              "    </tr>\n",
              "    <tr>\n",
              "      <th>3</th>\n",
              "      <td>10</td>\n",
              "      <td>59</td>\n",
              "    </tr>\n",
              "    <tr>\n",
              "      <th>4</th>\n",
              "      <td>12</td>\n",
              "      <td>88</td>\n",
              "    </tr>\n",
              "    <tr>\n",
              "      <th>...</th>\n",
              "      <td>...</td>\n",
              "      <td>...</td>\n",
              "    </tr>\n",
              "    <tr>\n",
              "      <th>70</th>\n",
              "      <td>108</td>\n",
              "      <td>116</td>\n",
              "    </tr>\n",
              "    <tr>\n",
              "      <th>71</th>\n",
              "      <td>110</td>\n",
              "      <td>111</td>\n",
              "    </tr>\n",
              "    <tr>\n",
              "      <th>72</th>\n",
              "      <td>111</td>\n",
              "      <td>126</td>\n",
              "    </tr>\n",
              "    <tr>\n",
              "      <th>73</th>\n",
              "      <td>115</td>\n",
              "      <td>117</td>\n",
              "    </tr>\n",
              "    <tr>\n",
              "      <th>74</th>\n",
              "      <td>117</td>\n",
              "      <td>115</td>\n",
              "    </tr>\n",
              "  </tbody>\n",
              "</table>\n",
              "<p>75 rows × 2 columns</p>\n",
              "</div>"
            ],
            "text/plain": [
              "      x    y\n",
              "0     4   53\n",
              "1     5   63\n",
              "2     9   77\n",
              "3    10   59\n",
              "4    12   88\n",
              "..  ...  ...\n",
              "70  108  116\n",
              "71  110  111\n",
              "72  111  126\n",
              "73  115  117\n",
              "74  117  115\n",
              "\n",
              "[75 rows x 2 columns]"
            ]
          },
          "metadata": {},
          "execution_count": 43
        }
      ],
      "metadata": {
        "colab": {
          "base_uri": "https://localhost:8080/",
          "height": 423
        },
        "id": "XGy3pmsom0vE",
        "outputId": "431bf68f-f62b-4c68-9831-b80f76f4fa13"
      }
    },
    {
      "cell_type": "markdown",
      "source": [
        "Função de Custo "
      ],
      "metadata": {
        "id": "2oYwg7TBm0vF"
      }
    },
    {
      "cell_type": "code",
      "execution_count": null,
      "source": [
        "def funcao_custo_medoides(dados, indiceMedoides):\n",
        "  fc = 0\n",
        "  medoides = dfRuspini.iloc[indiceMedoides].values\n",
        "\n",
        "  for i in range(len(dados)):\n",
        "    distancias  = []\n",
        "    for j in range(k):\n",
        "      distancias.append(distance.euclidean(dados[i],medoides[j]))\n",
        "    fc+=min(distancias)\n",
        "    \n",
        "  return fc"
      ],
      "outputs": [],
      "metadata": {
        "id": "oSmlDaVwm0vG"
      }
    },
    {
      "cell_type": "markdown",
      "source": [
        "Função da distância entre os centroides e os objetos - D (n x k)"
      ],
      "metadata": {
        "id": "RORS9C3SnnCZ"
      }
    },
    {
      "cell_type": "code",
      "execution_count": null,
      "source": [
        "def dist(dados, centroides):\n",
        "  D = []\n",
        "  for obj in dados.values:\n",
        "    DAux = []\n",
        "    for c in centroides.values:\n",
        "      DAux.append(distance.euclidean(obj,c))\n",
        "    D.append(DAux)\n",
        "  return D\n"
      ],
      "outputs": [],
      "metadata": {
        "id": "LBuuTGEdnnCZ"
      }
    },
    {
      "cell_type": "markdown",
      "source": [
        "Posicao inicial dos Centroides obtidos aleatoriamente (Verificar valores iguais para os centroides)"
      ],
      "metadata": {
        "id": "0R2ogjeXnvn4"
      }
    },
    {
      "cell_type": "code",
      "execution_count": null,
      "source": [
        "idx = np.random.randint(0,len(dfRuspini),k)\n",
        "idx"
      ],
      "outputs": [
        {
          "output_type": "execute_result",
          "data": {
            "text/plain": [
              "array([48, 43, 36,  0])"
            ]
          },
          "metadata": {},
          "execution_count": 46
        }
      ],
      "metadata": {
        "colab": {
          "base_uri": "https://localhost:8080/"
        },
        "id": "SD82sf8Anvn5",
        "outputId": "4d5f9a3f-f37a-4453-f310-20a8b69c17bc"
      }
    },
    {
      "cell_type": "markdown",
      "source": [
        "Inicializar as Variáveis"
      ],
      "metadata": {
        "id": "aE90MFWqnvn6"
      }
    },
    {
      "cell_type": "code",
      "execution_count": null,
      "source": [
        "M = idx.copy()\n",
        "G = np.zeros(len(dfRuspini.values))\n",
        "dif_fc = 1\n",
        "fc=funcao_custo_medoides(dfRuspini.values, M)\n",
        "it = 0\n",
        "itMax = 50"
      ],
      "outputs": [],
      "metadata": {
        "id": "NzIsM2stnvn6"
      }
    },
    {
      "cell_type": "markdown",
      "source": [
        "Algoritmo"
      ],
      "metadata": {
        "id": "tCKNQP7snn9j"
      }
    },
    {
      "cell_type": "code",
      "execution_count": null,
      "source": [
        "while it<itMax:\n",
        "  #Escolher, aleatoriamente, um novo objeto como medoide\n",
        "  novo = np.random.randint(0,len(dfRuspini))\n",
        "  #Trocar o novo medoide por um existente\n",
        "  M2 = M.copy()\n",
        "  pos = np.random.randint(0,k)\n",
        "  M2[pos] = novo\n",
        "\n",
        "  #Calcular valor da função de custo do novo agrupamento\n",
        "  fc_nova = funcao_custo_medoides(dfRuspini.values, M2)\n",
        "\n",
        "  #Se o valor da nova função for menor, atualize as variáveis\n",
        "  if fc_nova<fc:\n",
        "    M = M2.copy()\n",
        "    fc = fc_nova # Armazenar o valor da funcao para proxima iteração\n",
        "\n",
        "  #atualizar variável de controle\n",
        "  it = it+1"
      ],
      "outputs": [],
      "metadata": {
        "id": "oX8JOOvtnpaT"
      }
    },
    {
      "cell_type": "markdown",
      "source": [
        "Fazer os Rótulos"
      ],
      "metadata": {
        "id": "1Z9Vya0xw1iO"
      }
    },
    {
      "cell_type": "code",
      "execution_count": null,
      "source": [
        "D = dist(dfRuspini,dfRuspini.iloc[M])\n",
        "for i in range(len(dfRuspini.values)):\n",
        "    G[i] = np.argmin(D[i])\n",
        "G"
      ],
      "outputs": [
        {
          "output_type": "execute_result",
          "data": {
            "text/plain": [
              "array([3., 3., 3., 3., 3., 3., 3., 3., 3., 3., 3., 3., 3., 3., 3., 3., 3.,\n",
              "       3., 3., 3., 2., 2., 2., 2., 2., 2., 2., 2., 2., 2., 2., 2., 2., 2.,\n",
              "       2., 0., 0., 0., 0., 0., 0., 0., 0., 0., 0., 0., 0., 0., 0., 0., 0.,\n",
              "       0., 0., 0., 0., 0., 0., 0., 1., 1., 1., 1., 1., 1., 1., 1., 1., 1.,\n",
              "       1., 1., 1., 1., 1., 1., 1.])"
            ]
          },
          "metadata": {},
          "execution_count": 49
        }
      ],
      "metadata": {
        "colab": {
          "base_uri": "https://localhost:8080/"
        },
        "id": "SYHoDKGew7Rd",
        "outputId": "19c8a0f0-831d-417b-9586-878c66e44199"
      }
    },
    {
      "cell_type": "code",
      "execution_count": null,
      "source": [
        "plt.scatter(dfRuspini[\"x\"], dfRuspini[\"y\"],c=G)\n",
        "plt.scatter(dfRuspini.iloc[M].values[:,0],dfRuspini.iloc[M].values[:,1],s = 120,c='red')\n",
        "plt.show()"
      ],
      "outputs": [
        {
          "output_type": "display_data",
          "data": {
            "image/png": "[encoded data removed]",
            "text/plain": [
              "<Figure size 432x288 with 1 Axes>"
            ]
          },
          "metadata": {
            "needs_background": "light"
          }
        }
      ],
      "metadata": {
        "colab": {
          "base_uri": "https://localhost:8080/",
          "height": 265
        },
        "id": "NXz5lTtmxkdW",
        "outputId": "57af9e65-0768-4aa1-910c-6e399122d900"
      }
    },
    {
      "cell_type": "markdown",
      "source": [
        "##DBSCAN"
      ],
      "metadata": {
        "id": "TkdKxWBdTTPv"
      }
    },
    {
      "cell_type": "markdown",
      "source": [
        "Quantidade mínima de objetos na vizinhança"
      ],
      "metadata": {
        "id": "ER5k-aP72NGO"
      }
    },
    {
      "cell_type": "code",
      "execution_count": null,
      "source": [
        "minPts = 3"
      ],
      "outputs": [],
      "metadata": {
        "id": "ssyW_X2ifFE8"
      }
    },
    {
      "cell_type": "markdown",
      "source": [
        "Raio da Vizinhança"
      ],
      "metadata": {
        "id": "w37ALQPS2cAR"
      }
    },
    {
      "cell_type": "code",
      "execution_count": null,
      "source": [
        "raio = 20"
      ],
      "outputs": [],
      "metadata": {
        "id": "m9OVTwFe2lbg"
      }
    },
    {
      "cell_type": "markdown",
      "source": [
        "Funcao que calcula a distancia entre os objetos da base D(n x n)"
      ],
      "metadata": {
        "id": "P7ZjCBXy2t-s"
      }
    },
    {
      "cell_type": "code",
      "execution_count": null,
      "source": [
        "def dist(data):\n",
        "  D = []\n",
        "  for x1 in data:\n",
        "    linhaD = []\n",
        "    for x2 in data:\n",
        "      linhaD.append(distance.euclidean(x1,x2))\n",
        "    D.append(linhaD)\n",
        "  return D"
      ],
      "outputs": [],
      "metadata": {
        "id": "uyP3jxv6206g"
      }
    },
    {
      "cell_type": "markdown",
      "source": [
        "Primeiros Passos"
      ],
      "metadata": {
        "id": "1IQSF0Lf3V6O"
      }
    },
    {
      "cell_type": "code",
      "execution_count": null,
      "source": [
        "D = dist(dfRuspini.values)\n",
        "visitado = np.zeros(len(dfRuspini))\n",
        "rotulo = 1\n",
        "G = -1*np.ones(len(dfRuspini))\n"
      ],
      "outputs": [],
      "metadata": {
        "id": "BHUsggWl2n4_"
      }
    },
    {
      "cell_type": "markdown",
      "source": [
        "Algorítmo"
      ],
      "metadata": {
        "id": "RQHr18WfoC9w"
      }
    },
    {
      "cell_type": "code",
      "execution_count": null,
      "source": [
        "for i in range(len(dfRuspini.values)):\n",
        "  if visitado[i] == 0:\n",
        "    visitado[i] = 1\n",
        "\n",
        "    vizinhos = []\n",
        "    for j in range(len(dfRuspini.values)):\n",
        "      if D[i][j]<=raio:\n",
        "        vizinhos.append(j)\n",
        "    \n",
        "    if len(vizinhos)>=minPts:\n",
        "      G[i] =rotulo\n",
        "      v=0\n",
        "      while v<len(vizinhos):\n",
        "        if (visitado[vizinhos[v]]==0) or (G[vizinhos[v]]==-1):\n",
        "          aux  = [] \n",
        "          for j2 in range(len(dfRuspini.values)):\n",
        "            if D[vizinhos[v]][j2] <=raio :\n",
        "              vizinhos.append(j2)\n",
        "\n",
        "          visitado[vizinhos[v]] = 1\n",
        "        G[vizinhos[v]] = rotulo\n",
        "        v+=1\n",
        "      rotulo+=1"
      ],
      "outputs": [],
      "metadata": {
        "id": "ktn5wVAOoHJk"
      }
    },
    {
      "cell_type": "code",
      "execution_count": null,
      "source": [
        "G"
      ],
      "outputs": [
        {
          "output_type": "execute_result",
          "data": {
            "text/plain": [
              "array([1., 1., 1., 1., 1., 1., 1., 1., 1., 1., 1., 1., 1., 1., 1., 1., 1.,\n",
              "       1., 1., 1., 2., 2., 2., 2., 2., 2., 2., 2., 2., 2., 2., 2., 2., 2.,\n",
              "       2., 3., 3., 3., 3., 3., 3., 3., 3., 3., 3., 3., 3., 3., 3., 3., 3.,\n",
              "       3., 3., 3., 3., 3., 3., 3., 4., 4., 4., 4., 4., 4., 4., 4., 4., 4.,\n",
              "       4., 4., 4., 4., 4., 4., 4.])"
            ]
          },
          "metadata": {},
          "execution_count": 73
        }
      ],
      "metadata": {
        "colab": {
          "base_uri": "https://localhost:8080/"
        },
        "id": "FvZKH_6BuzLM",
        "outputId": "80a677f1-41fc-4e0d-86fc-44095a81f5cb"
      }
    },
    {
      "cell_type": "code",
      "execution_count": null,
      "source": [
        "plt.scatter(dfRuspini[\"x\"], dfRuspini[\"y\"],c=G)\n",
        "plt.show()"
      ],
      "outputs": [
        {
          "output_type": "display_data",
          "data": {
            "image/png": "[encoded data removed]",
            "text/plain": [
              "<Figure size 432x288 with 1 Axes>"
            ]
          },
          "metadata": {
            "needs_background": "light"
          }
        }
      ],
      "metadata": {
        "colab": {
          "base_uri": "https://localhost:8080/",
          "height": 265
        },
        "id": "xDTgQz6hUt5r",
        "outputId": "ad5e7bd0-310f-4e59-daaa-a6e6a548c2b1"
      }
    },
    {
      "cell_type": "code",
      "execution_count": null,
      "source": [],
      "outputs": [],
      "metadata": {
        "id": "RSNvoVwjpto8"
      }
    },
    {
      "cell_type": "markdown",
      "source": [
        "## K-Means usando Scikit Learn"
      ],
      "metadata": {
        "id": "VQUolr63oKvb"
      }
    },
    {
      "cell_type": "code",
      "execution_count": 387,
      "source": [
        "\n",
        "from sklearn.cluster import KMeans\n",
        "\n",
        "km = KMeans(\n",
        "    n_clusters=4, init='random',\n",
        "    n_init=10, max_iter=300, \n",
        "    tol=1e-04, random_state=0\n",
        ")\n",
        "y_km = km.fit_predict(dfWineNormalizado)"
      ],
      "outputs": [],
      "metadata": {
        "id": "Fd5QVtJPoRV1"
      }
    },
    {
      "cell_type": "code",
      "execution_count": 388,
      "source": [
        "y_km"
      ],
      "outputs": [
        {
          "output_type": "execute_result",
          "data": {
            "text/plain": [
              "array([1, 1, 1, 1, 0, 1, 1, 1, 1, 1, 1, 1, 1, 1, 1, 1, 1, 1, 1, 1, 1, 0,\n",
              "       1, 1, 1, 0, 1, 1, 1, 1, 1, 1, 1, 1, 1, 1, 1, 1, 1, 1, 1, 1, 1, 0,\n",
              "       1, 1, 1, 1, 1, 1, 1, 1, 1, 1, 1, 1, 1, 1, 1, 2, 2, 2, 2, 0, 2, 2,\n",
              "       0, 2, 2, 0, 2, 0, 2, 0, 0, 2, 2, 2, 2, 0, 2, 0, 2, 3, 0, 2, 2, 2,\n",
              "       2, 2, 2, 2, 2, 0, 0, 0, 2, 2, 0, 0, 2, 2, 0, 2, 2, 2, 2, 2, 2, 0,\n",
              "       0, 0, 2, 2, 2, 2, 2, 2, 3, 2, 0, 0, 0, 0, 0, 0, 0, 2, 2, 2, 3, 3,\n",
              "       3, 3, 3, 3, 3, 3, 3, 3, 3, 3, 3, 3, 3, 3, 3, 3, 3, 3, 3, 3, 3, 3,\n",
              "       3, 3, 3, 3, 3, 3, 3, 3, 3, 3, 3, 3, 3, 3, 3, 3, 3, 3, 3, 3, 3, 3,\n",
              "       3, 3], dtype=int32)"
            ]
          },
          "metadata": {},
          "execution_count": 388
        }
      ],
      "metadata": {
        "id": "M3WOgn2yo_Jn",
        "colab": {
          "base_uri": "https://localhost:8080/"
        },
        "outputId": "1f6d8b8c-5e78-406a-8530-15ecb43d39a2"
      }
    },
    {
      "cell_type": "code",
      "execution_count": 389,
      "source": [
        "dfWineNormalizado[y_km == 0]['Alcohol']"
      ],
      "outputs": [
        {
          "output_type": "execute_result",
          "data": {
            "text/plain": [
              "4      0.581579\n",
              "21     0.500000\n",
              "25     0.531579\n",
              "43     0.581579\n",
              "63     0.352632\n",
              "66     0.547368\n",
              "69     0.310526\n",
              "71     0.744737\n",
              "73     0.515789\n",
              "74     0.244737\n",
              "79     0.439474\n",
              "81     0.444737\n",
              "84     0.213158\n",
              "93     0.331579\n",
              "94     0.155263\n",
              "95     0.378947\n",
              "98     0.352632\n",
              "99     0.331579\n",
              "102    0.344737\n",
              "109    0.152632\n",
              "110    0.113158\n",
              "111    0.392105\n",
              "120    0.110526\n",
              "121    0.139474\n",
              "122    0.365789\n",
              "123    0.531579\n",
              "124    0.221053\n",
              "125    0.273684\n",
              "126    0.368421\n",
              "Name: Alcohol, dtype: float64"
            ]
          },
          "metadata": {},
          "execution_count": 389
        }
      ],
      "metadata": {
        "id": "OuPTUS6fpQ3T",
        "colab": {
          "base_uri": "https://localhost:8080/"
        },
        "outputId": "c8704a26-f61d-4a07-c86b-7460b99c2dd1"
      }
    },
    {
      "cell_type": "code",
      "execution_count": 390,
      "source": [
        "plt.scatter(\n",
        "    dfWineNormalizado[y_km == 0]['Alcohol'], dfWineNormalizado[y_km == 0]['Malic acid'],\n",
        "    s=50, c='lightgreen',\n",
        "    marker='s', edgecolor='black',\n",
        "    label='cluster 0'\n",
        ")\n",
        "\n",
        "plt.scatter(\n",
        "    dfWineNormalizado[y_km == 1]['Alcohol'], dfWineNormalizado[y_km == 1]['Malic acid'],\n",
        "    s=50, c='orange',\n",
        "    marker='o', edgecolor='black',\n",
        "    label='cluster 1'\n",
        ")\n",
        "\n",
        "plt.scatter(\n",
        "    dfWineNormalizado[y_km == 2]['Alcohol'], dfWineNormalizado[y_km == 2]['Malic acid'],\n",
        "    s=50, c='lightblue',\n",
        "    marker='v', edgecolor='black',\n",
        "    label='cluster 2'\n",
        ")\n",
        "\n",
        "plt.scatter(\n",
        "    dfWineNormalizado[y_km == 3]['Alcohol'], dfWineNormalizado[y_km == 3]['Malic acid'],\n",
        "    s=50, c='yellow',\n",
        "    marker='D', edgecolor='black',\n",
        "    label='cluster 3'\n",
        ")\n",
        "\n",
        "# plot the centroids\n",
        "plt.scatter(\n",
        "    km.cluster_centers_[:, 0], km.cluster_centers_[:, 1],\n",
        "    s=250, marker='*',\n",
        "    c='red', edgecolor='black',\n",
        "    label='centroids'\n",
        ")\n",
        "plt.legend(scatterpoints=1)\n",
        "plt.grid()\n",
        "plt.show()"
      ],
      "outputs": [
        {
          "output_type": "display_data",
          "data": {
            "image/png": "[encoded data removed]",
            "text/plain": [
              "<Figure size 432x288 with 1 Axes>"
            ]
          },
          "metadata": {
            "needs_background": "light"
          }
        }
      ],
      "metadata": {
        "id": "tSH5NZcapApW",
        "colab": {
          "base_uri": "https://localhost:8080/",
          "height": 265
        },
        "outputId": "e9c1e08c-340b-4118-83c4-47d010d73657"
      }
    },
    {
      "cell_type": "markdown",
      "source": [
        "## DBScan usando Scikit Learn"
      ],
      "metadata": {
        "id": "OQbt9rYTfpmw"
      }
    },
    {
      "cell_type": "code",
      "execution_count": 391,
      "source": [
        "from sklearn.cluster import DBSCAN\n",
        "\n",
        "#nomesColunasRuspini = [\"x\",\"y\"]\n",
        "#dfRuspini = pd.read_csv('https://raw.githubusercontent.com/xbarretox/DM-AD/main/ruspini.csv', names = nomesColunasRuspini)\n",
        "\n",
        "db = DBSCAN(eps = 20, min_samples=3).fit(dfWineNormalizado)\n",
        "\n",
        "db.labels_\n"
      ],
      "outputs": [
        {
          "output_type": "execute_result",
          "data": {
            "text/plain": [
              "array([0, 0, 0, 0, 0, 0, 0, 0, 0, 0, 0, 0, 0, 0, 0, 0, 0, 0, 0, 0, 0, 0,\n",
              "       0, 0, 0, 0, 0, 0, 0, 0, 0, 0, 0, 0, 0, 0, 0, 0, 0, 0, 0, 0, 0, 0,\n",
              "       0, 0, 0, 0, 0, 0, 0, 0, 0, 0, 0, 0, 0, 0, 0, 0, 0, 0, 0, 0, 0, 0,\n",
              "       0, 0, 0, 0, 0, 0, 0, 0, 0, 0, 0, 0, 0, 0, 0, 0, 0, 0, 0, 0, 0, 0,\n",
              "       0, 0, 0, 0, 0, 0, 0, 0, 0, 0, 0, 0, 0, 0, 0, 0, 0, 0, 0, 0, 0, 0,\n",
              "       0, 0, 0, 0, 0, 0, 0, 0, 0, 0, 0, 0, 0, 0, 0, 0, 0, 0, 0, 0, 0, 0,\n",
              "       0, 0, 0, 0, 0, 0, 0, 0, 0, 0, 0, 0, 0, 0, 0, 0, 0, 0, 0, 0, 0, 0,\n",
              "       0, 0, 0, 0, 0, 0, 0, 0, 0, 0, 0, 0, 0, 0, 0, 0, 0, 0, 0, 0, 0, 0,\n",
              "       0, 0])"
            ]
          },
          "metadata": {},
          "execution_count": 391
        }
      ],
      "metadata": {
        "id": "tQVROGw5qeq4",
        "colab": {
          "base_uri": "https://localhost:8080/"
        },
        "outputId": "2078e31d-4532-4f62-b661-21a9a0ee36d4"
      }
    },
    {
      "cell_type": "code",
      "execution_count": 375,
      "source": [
        "plt.scatter(\n",
        "    dfWine['Alcohol'], dfWineNormalizado['Malic acid'],\n",
        "    s=50, c=db.labels_,\n",
        "    marker='o', edgecolor='black'\n",
        ")"
      ],
      "outputs": [
        {
          "output_type": "execute_result",
          "data": {
            "text/plain": [
              "<matplotlib.collections.PathCollection at 0x7f43b19adc70>"
            ]
          },
          "metadata": {},
          "execution_count": 375
        },
        {
          "output_type": "display_data",
          "data": {
            "image/png": "[encoded data removed]",
            "text/plain": [
              "<Figure size 432x288 with 1 Axes>"
            ]
          },
          "metadata": {
            "needs_background": "light"
          }
        }
      ],
      "metadata": {
        "id": "ajs7Io5uhdi6",
        "colab": {
          "base_uri": "https://localhost:8080/",
          "height": 283
        },
        "outputId": "25c9ea5c-e46e-4c85-b7d0-19a77b1495fa"
      }
    },
    {
      "cell_type": "code",
      "execution_count": null,
      "source": [],
      "outputs": [],
      "metadata": {
        "id": "qYqtVMxTiTeh"
      }
    }
  ]
}