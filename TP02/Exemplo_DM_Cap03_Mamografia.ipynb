{
  "nbformat": 4,
  "nbformat_minor": 0,
  "metadata": {
    "colab": {
      "name": "DM-Cap03-Mamografia.ipynb",
      "provenance": [],
      "collapsed_sections": [
        "5CAL0ggRCfJj",
        "8TnlQjc_OICT",
        "dcLgLoxwPGFL",
        "B7utC9HOPLCR",
        "QaYC2sySlU0W",
        "WUOW_ST5lXX-",
        "wpdbozHllefg"
      ],
      "toc_visible": true
    },
    "kernelspec": {
      "name": "python3",
      "display_name": "Python 3"
    },
    "language_info": {
      "name": "python"
    }
  },
  "cells": [
    {
      "cell_type": "markdown",
      "metadata": {
        "id": "YjjCNnqBoU9P"
      },
      "source": [
        "#Capítulo 3 - Análise Descritiva de Dados\n"
      ]
    },
    {
      "cell_type": "code",
      "metadata": {
        "id": "pskN9V0LOc0n"
      },
      "source": [
        "import pandas as pd\n",
        "import math\n",
        "import matplotlib.pyplot as plt\n",
        "import numpy as np\n",
        "import seaborn as sns\n"
      ],
      "execution_count": null,
      "outputs": []
    },
    {
      "cell_type": "markdown",
      "metadata": {
        "id": "dNqPxxNMpEdS"
      },
      "source": [
        "##Bases de Dados do Capitulo"
      ]
    },
    {
      "cell_type": "code",
      "metadata": {
        "id": "7Jd2soImpEAd"
      },
      "source": [
        "nomesColunasMamo = [\"BI-RADS\",\"Idade\",\"Forma\",\"Margem\",\"Densidade\",\"Severidade\"]\n",
        "dfMamo = pd.read_csv('https://raw.githubusercontent.com/xbarretox/DM-AD/main/mammographic_masses.csv', names = nomesColunasMamo)\n"
      ],
      "execution_count": null,
      "outputs": []
    },
    {
      "cell_type": "markdown",
      "metadata": {
        "id": "5CAL0ggRCfJj"
      },
      "source": [
        "###Resumo do DataFrame"
      ]
    },
    {
      "cell_type": "code",
      "metadata": {
        "id": "1fN_mYkipdfd"
      },
      "source": [
        "dfMamo = dfMamo[:80]\n"
      ],
      "execution_count": null,
      "outputs": []
    },
    {
      "cell_type": "code",
      "metadata": {
        "id": "60DBzIcKpsnD",
        "colab": {
          "base_uri": "https://localhost:8080/"
        },
        "outputId": "ca62ba0b-1fb5-4f23-87b1-cb839aca3173"
      },
      "source": [
        "dfMamo[\"Idade\"]"
      ],
      "execution_count": null,
      "outputs": [
        {
          "output_type": "execute_result",
          "data": {
            "text/plain": [
              "0     67\n",
              "1     43\n",
              "2     58\n",
              "3     28\n",
              "4     74\n",
              "      ..\n",
              "75    25\n",
              "76    74\n",
              "77    64\n",
              "78    60\n",
              "79    67\n",
              "Name: Idade, Length: 80, dtype: object"
            ]
          },
          "metadata": {
            "tags": []
          },
          "execution_count": 8
        }
      ]
    },
    {
      "cell_type": "markdown",
      "metadata": {
        "id": "_9O0F2mJM3L2"
      },
      "source": [
        "##Análise Descritiva dos Dados\n",
        "\n",
        "1.   Distribuição de Frequência\n",
        "2.   Visualização de Dados\n",
        "3.   Medidas\n",
        "\n",
        "\n",
        "\n",
        "\n"
      ]
    },
    {
      "cell_type": "markdown",
      "metadata": {
        "id": "8TnlQjc_OICT"
      },
      "source": [
        "###Distribuiçao de Frequência"
      ]
    },
    {
      "cell_type": "markdown",
      "metadata": {
        "id": "2ZaiadyHPdSz"
      },
      "source": [
        "####Ilustrando a Distribuição de Frequência considerando as **Idades**"
      ]
    },
    {
      "cell_type": "code",
      "metadata": {
        "id": "XoioYLcmPOIn"
      },
      "source": [
        "colunaDistFreq = \"Idade\""
      ],
      "execution_count": null,
      "outputs": []
    },
    {
      "cell_type": "markdown",
      "metadata": {
        "id": "G7SesN4MONJU"
      },
      "source": [
        "####Setando um número de Classes. Escolhido a quantidade que for melhor (Sugerido de 5 a 20)"
      ]
    },
    {
      "cell_type": "code",
      "metadata": {
        "id": "_e-zZCeANDNY"
      },
      "source": [
        "numClasses = 5"
      ],
      "execution_count": null,
      "outputs": []
    },
    {
      "cell_type": "markdown",
      "metadata": {
        "id": "biujArERP7Tz"
      },
      "source": [
        "####Amplitude da Classe"
      ]
    },
    {
      "cell_type": "code",
      "metadata": {
        "colab": {
          "base_uri": "https://localhost:8080/"
        },
        "id": "PHY-7QpmP3p4",
        "outputId": "1552f8d8-9877-4596-f37d-8e77fdbc3020"
      },
      "source": [
        "#Amplitude = MaiorValor - MenorValor\n",
        "\n",
        "##Retirando as linhas cuja severidade seja um valor inválido\n",
        "dfValida = dfMamo[dfMamo[\"Severidade\"]!='?']\n",
        "\n",
        "maiorValor = int(dfValida[colunaDistFreq].max())\n",
        "menorValor = int(dfValida[colunaDistFreq].min())\n",
        "\n",
        "amplitudeIdades = maiorValor - menorValor\n",
        "\n",
        "amplitudeIdades"
      ],
      "execution_count": null,
      "outputs": [
        {
          "output_type": "execute_result",
          "data": {
            "text/plain": [
              "58"
            ]
          },
          "metadata": {
            "tags": []
          },
          "execution_count": 11
        }
      ]
    },
    {
      "cell_type": "markdown",
      "metadata": {
        "id": "rrufw-sOTjN0"
      },
      "source": [
        "####Limites Inferiores"
      ]
    },
    {
      "cell_type": "code",
      "metadata": {
        "colab": {
          "base_uri": "https://localhost:8080/"
        },
        "id": "YZSGFKARQVQR",
        "outputId": "bfdf4887-a19d-4710-e70b-c14a2409b226"
      },
      "source": [
        "amplitudeClasse = amplitudeIdades/numClasses\n",
        "limiteInfInicial = menorValor\n",
        "limiteInfClasse = []\n",
        "limiteInfClasse.append(limiteInfInicial)\n",
        "\n",
        "print(\"Limites Inferiores das Classes: \")\n",
        "for i in range(numClasses-1):\n",
        "  limiteInfClasse.append(math.ceil(limiteInfClasse[-1]+amplitudeClasse))\n",
        "\n",
        "for i in range(len(limiteInfClasse)):\n",
        "  print(\" Classe \"+str(i+1)+\": \"+str(limiteInfClasse[i]))\n"
      ],
      "execution_count": null,
      "outputs": [
        {
          "output_type": "stream",
          "text": [
            "Limites Inferiores das Classes: \n",
            " Classe 1: 23\n",
            " Classe 2: 35\n",
            " Classe 3: 47\n",
            " Classe 4: 59\n",
            " Classe 5: 71\n"
          ],
          "name": "stdout"
        }
      ]
    },
    {
      "cell_type": "markdown",
      "metadata": {
        "id": "0aNEsgMUWw_x"
      },
      "source": [
        "####Limites Superiores"
      ]
    },
    {
      "cell_type": "code",
      "metadata": {
        "colab": {
          "base_uri": "https://localhost:8080/"
        },
        "id": "ONGuZjOba4fO",
        "outputId": "e55ebde3-2fb8-4ea5-9488-6dfdfdcaa956"
      },
      "source": [
        "amplitudeClasse = amplitudeIdades/numClasses\n",
        "limiteInfInicial = menorValor\n",
        "limiteSuperiorClasse = []\n",
        "limiteSuperiorClasse.append(math.floor(limiteInfInicial+amplitudeClasse))\n",
        "\n",
        "print(\"Limites Superiores das Classes: \")\n",
        "for i in range(numClasses-1):\n",
        "  limiteSuperiorClasse.append(math.ceil(limiteSuperiorClasse[-1]+amplitudeClasse))\n",
        "\n",
        "for i in range(len(limiteSuperiorClasse)):\n",
        "  print(\" Classe \"+str(i+1)+\": \"+str(limiteSuperiorClasse[i]))\n",
        "\n"
      ],
      "execution_count": null,
      "outputs": [
        {
          "output_type": "stream",
          "text": [
            "Limites Superiores das Classes: \n",
            " Classe 1: 34\n",
            " Classe 2: 46\n",
            " Classe 3: 58\n",
            " Classe 4: 70\n",
            " Classe 5: 82\n"
          ],
          "name": "stdout"
        }
      ]
    },
    {
      "cell_type": "markdown",
      "metadata": {
        "id": "Rw8GGSqralkm"
      },
      "source": [
        "####Rótulo para os valores do atributo"
      ]
    },
    {
      "cell_type": "code",
      "metadata": {
        "colab": {
          "base_uri": "https://localhost:8080/"
        },
        "id": "Y1wBykXNafDW",
        "outputId": "ccad44ca-b99b-471c-98c9-3c7a1c08204e"
      },
      "source": [
        "rotulos = []\n",
        "\n",
        "for i in range(len(dfMamo)):\n",
        "  #Variavel idade recebe a idade atual do Dataframe\n",
        "  idade = int(dfMamo.loc[i,'Idade'])\n",
        "  #Descobrindo a classe que se encaixa a idade\n",
        "  for j in range(numClasses):\n",
        "    if limiteInfClasse[j]<=idade and idade <= limiteSuperiorClasse[j]:\n",
        "      rotulos.append(j+1)\n",
        "      break\n",
        "\n",
        "#Transformando a lista rotulos para uma serie , por ser mais facil de fazer filtragem\n",
        "rotulos = pd.Series(rotulos, dtype=int)\n",
        "print(rotulos)"
      ],
      "execution_count": null,
      "outputs": [
        {
          "output_type": "stream",
          "text": [
            "0     4\n",
            "1     2\n",
            "2     3\n",
            "3     1\n",
            "4     5\n",
            "     ..\n",
            "75    1\n",
            "76    5\n",
            "77    4\n",
            "78    4\n",
            "79    4\n",
            "Length: 80, dtype: int64\n"
          ],
          "name": "stdout"
        }
      ]
    },
    {
      "cell_type": "markdown",
      "metadata": {
        "id": "MBejXEtmzXRE"
      },
      "source": [
        "####Resumo da Distribuição de Frequência"
      ]
    },
    {
      "cell_type": "code",
      "metadata": {
        "colab": {
          "base_uri": "https://localhost:8080/",
          "height": 221
        },
        "id": "W72dO89Czb0u",
        "outputId": "2f2c789e-5924-46dc-9309-7d8b7863398b"
      },
      "source": [
        "#Inicializando uma variavel do tipo DataFrame contendo apenas os valores das colunas\n",
        "resumoDistrFrequencia = pd.DataFrame(columns=[\"Classe\",\"Limite Inferior\",\"Ponto Médio\",\"Limite Superior\", \"Frequência Absoluta\", \"Frequência Relativa\", \"Frequência Acumulada Absoluta\", \"Frequência Acumulada Relativa\"])\n",
        "\n",
        "#Percorrendo atraves do numero de Classes\n",
        "for ind in range(numClasses):\n",
        "  #Dicionario de insercao no Dataframe\n",
        "  dictInsert = {  \n",
        "    \"Classe\": (ind+1),\n",
        "    \"Limite Inferior\": (limiteInfClasse[ind]),\n",
        "    \"Ponto Médio\": ((limiteSuperiorClasse[ind]+limiteInfClasse[ind])/2),\n",
        "    \"Limite Superior\": limiteSuperiorClasse[ind], \n",
        "    \"Frequência Absoluta\": len(rotulos[rotulos==(ind+1)]), \n",
        "    \"Frequência Relativa\":len(rotulos[rotulos==(ind+1)])/len(rotulos)*100, \n",
        "    \"Frequência Acumulada Absoluta\": sum(resumoDistrFrequencia[\"Frequência Absoluta\"]) + len(rotulos[rotulos==(ind+1)]) , \n",
        "    \"Frequência Acumulada Relativa\": (sum(resumoDistrFrequencia[\"Frequência Absoluta\"]) + len(rotulos[rotulos==(ind+1)]))/len(rotulos)*100\n",
        "  } \n",
        "  resumoDistrFrequencia = resumoDistrFrequencia.append(dictInsert,ignore_index=True)\n",
        "\n",
        "resumoDistrFrequencia = resumoDistrFrequencia.astype({\n",
        "    \"Classe\": int,\n",
        "    \"Limite Inferior\": int,\n",
        "    \"Ponto Médio\": float,\n",
        "    \"Limite Superior\": int, \n",
        "    \"Frequência Absoluta\": int, \n",
        "    \"Frequência Relativa\":float, \n",
        "    \"Frequência Acumulada Absoluta\":int, \n",
        "    \"Frequência Acumulada Relativa\":float\n",
        "})\n",
        "\n",
        "resumoDistrFrequencia"
      ],
      "execution_count": null,
      "outputs": [
        {
          "output_type": "execute_result",
          "data": {
            "text/html": [
              "<div>\n",
              "<style scoped>\n",
              "    .dataframe tbody tr th:only-of-type {\n",
              "        vertical-align: middle;\n",
              "    }\n",
              "\n",
              "    .dataframe tbody tr th {\n",
              "        vertical-align: top;\n",
              "    }\n",
              "\n",
              "    .dataframe thead th {\n",
              "        text-align: right;\n",
              "    }\n",
              "</style>\n",
              "<table border=\"1\" class=\"dataframe\">\n",
              "  <thead>\n",
              "    <tr style=\"text-align: right;\">\n",
              "      <th></th>\n",
              "      <th>Classe</th>\n",
              "      <th>Limite Inferior</th>\n",
              "      <th>Ponto Médio</th>\n",
              "      <th>Limite Superior</th>\n",
              "      <th>Frequência Absoluta</th>\n",
              "      <th>Frequência Relativa</th>\n",
              "      <th>Frequência Acumulada Absoluta</th>\n",
              "      <th>Frequência Acumulada Relativa</th>\n",
              "    </tr>\n",
              "  </thead>\n",
              "  <tbody>\n",
              "    <tr>\n",
              "      <th>0</th>\n",
              "      <td>1</td>\n",
              "      <td>23</td>\n",
              "      <td>28.5</td>\n",
              "      <td>34</td>\n",
              "      <td>5</td>\n",
              "      <td>6.25</td>\n",
              "      <td>5</td>\n",
              "      <td>6.25</td>\n",
              "    </tr>\n",
              "    <tr>\n",
              "      <th>1</th>\n",
              "      <td>2</td>\n",
              "      <td>35</td>\n",
              "      <td>40.5</td>\n",
              "      <td>46</td>\n",
              "      <td>15</td>\n",
              "      <td>18.75</td>\n",
              "      <td>20</td>\n",
              "      <td>25.00</td>\n",
              "    </tr>\n",
              "    <tr>\n",
              "      <th>2</th>\n",
              "      <td>3</td>\n",
              "      <td>47</td>\n",
              "      <td>52.5</td>\n",
              "      <td>58</td>\n",
              "      <td>20</td>\n",
              "      <td>25.00</td>\n",
              "      <td>40</td>\n",
              "      <td>50.00</td>\n",
              "    </tr>\n",
              "    <tr>\n",
              "      <th>3</th>\n",
              "      <td>4</td>\n",
              "      <td>59</td>\n",
              "      <td>64.5</td>\n",
              "      <td>70</td>\n",
              "      <td>28</td>\n",
              "      <td>35.00</td>\n",
              "      <td>68</td>\n",
              "      <td>85.00</td>\n",
              "    </tr>\n",
              "    <tr>\n",
              "      <th>4</th>\n",
              "      <td>5</td>\n",
              "      <td>71</td>\n",
              "      <td>76.5</td>\n",
              "      <td>82</td>\n",
              "      <td>12</td>\n",
              "      <td>15.00</td>\n",
              "      <td>80</td>\n",
              "      <td>100.00</td>\n",
              "    </tr>\n",
              "  </tbody>\n",
              "</table>\n",
              "</div>"
            ],
            "text/plain": [
              "   Classe  ...  Frequência Acumulada Relativa\n",
              "0       1  ...                           6.25\n",
              "1       2  ...                          25.00\n",
              "2       3  ...                          50.00\n",
              "3       4  ...                          85.00\n",
              "4       5  ...                         100.00\n",
              "\n",
              "[5 rows x 8 columns]"
            ]
          },
          "metadata": {
            "tags": []
          },
          "execution_count": 15
        }
      ]
    },
    {
      "cell_type": "markdown",
      "metadata": {
        "id": "AAQRIfIJOyK2"
      },
      "source": [
        "###Visualização de Dados"
      ]
    },
    {
      "cell_type": "markdown",
      "metadata": {
        "id": "dcLgLoxwPGFL"
      },
      "source": [
        "####Histograma"
      ]
    },
    {
      "cell_type": "code",
      "metadata": {
        "colab": {
          "base_uri": "https://localhost:8080/"
        },
        "id": "zc34OTBdoYus",
        "outputId": "ea37e49e-75a7-4113-a496-e9a4bbd3f337"
      },
      "source": [
        "fig,axes = plt.subplots(nrows=1,ncols=2,figsize=(10,4))\n",
        "classeIdade =  [str(resumoDistrFrequencia.loc[i,\"Limite Inferior\"])+\" - \"+str(resumoDistrFrequencia.loc[i,\"Limite Superior\"]) for i in range(len(resumoDistrFrequencia.values))]\n",
        "\n",
        "axes[0].bar(classeIdade,resumoDistrFrequencia[\"Frequência Absoluta\"])\n",
        "axes[0].set_title(\"a) Frequência Absoluta\")\n",
        "axes[0].set(xlabel = \"Classe das Idades\", ylabel = \"Frequência Absoluta\")\n",
        "axes[1].bar(classeIdade,resumoDistrFrequencia[\"Frequência Relativa\"])\n",
        "axes[1].set_title(\"b) Frequência Relativa\")\n",
        "axes[1].set(xlabel = \"Classe das Idades\", ylabel = \"Frequência Relativa (em %)\")\n",
        "\n",
        "\n",
        "fig.suptitle(\"Histograma do atributo Idade para a amostra da base de mamografia\")\n",
        "fig.show()\n"
      ],
      "execution_count": null,
      "outputs": [
        {
          "output_type": "display_data",
          "data": {
            "image/png": "[encoded data removed]",
            "text/plain": [
              "<Figure size 720x288 with 2 Axes>"
            ]
          },
          "metadata": {
            "tags": [],
            "needs_background": "light"
          }
        }
      ]
    },
    {
      "cell_type": "markdown",
      "metadata": {
        "id": "B7utC9HOPLCR"
      },
      "source": [
        "####Polígonos de Frequência\n"
      ]
    },
    {
      "cell_type": "code",
      "metadata": {
        "colab": {
          "base_uri": "https://localhost:8080/"
        },
        "id": "nM0yAlRS3GpH",
        "outputId": "a62cb546-312a-43c4-cde4-07db794b20d3"
      },
      "source": [
        "classeIdade =  [str(resumoDistrFrequencia.loc[i,\"Limite Inferior\"])+\" - \"+str(resumoDistrFrequencia.loc[i,\"Limite Superior\"]) for i in range(len(resumoDistrFrequencia.values))]\n",
        "\n",
        "plt.plot(classeIdade,resumoDistrFrequencia[\"Frequência Absoluta\"],marker='o')\n",
        "plt.xlabel(\"Classe das Idades\")\n",
        "plt.ylabel(\"Frequência Absoluta\")\n",
        "\n",
        "plt.suptitle(\"Polígono de Frequências do atributo Idade para a amostra da base de mamografia\")\n",
        "plt.show()\n"
      ],
      "execution_count": null,
      "outputs": [
        {
          "output_type": "display_data",
          "data": {
            "image/png": "[encoded data removed]",
            "text/plain": [
              "<Figure size 432x288 with 1 Axes>"
            ]
          },
          "metadata": {
            "tags": [],
            "needs_background": "light"
          }
        }
      ]
    },
    {
      "cell_type": "markdown",
      "metadata": {
        "id": "QaYC2sySlU0W"
      },
      "source": [
        "####Ogiva"
      ]
    },
    {
      "cell_type": "code",
      "metadata": {
        "colab": {
          "base_uri": "https://localhost:8080/"
        },
        "id": "5xg2tbRC97B3",
        "outputId": "ff7516df-c3d5-4a35-c9f3-f6e7f1cdcc2c"
      },
      "source": [
        "classeIdade =  [str(resumoDistrFrequencia.loc[i,\"Limite Inferior\"])+\" - \"+str(resumoDistrFrequencia.loc[i,\"Limite Superior\"]) for i in range(len(resumoDistrFrequencia.values))]\n",
        "\n",
        "plt.plot(classeIdade,resumoDistrFrequencia[\"Frequência Acumulada Relativa\"],marker='o')\n",
        "plt.xlabel(\"Classe das Idades\")\n",
        "plt.ylabel(\"Frequência Acumulada Relativa\")\n",
        "\n",
        "plt.suptitle(\"Polígono de Frequências do atributo Idade para a amostra da base de mamografia\")\n",
        "plt.show()"
      ],
      "execution_count": null,
      "outputs": [
        {
          "output_type": "display_data",
          "data": {
            "image/png": "[encoded data removed]",
            "text/plain": [
              "<Figure size 432x288 with 1 Axes>"
            ]
          },
          "metadata": {
            "tags": [],
            "needs_background": "light"
          }
        }
      ]
    },
    {
      "cell_type": "markdown",
      "metadata": {
        "id": "WUOW_ST5lXX-"
      },
      "source": [
        "####Gráfico de Pareto"
      ]
    },
    {
      "cell_type": "code",
      "metadata": {
        "colab": {
          "base_uri": "https://localhost:8080/"
        },
        "id": "kRQF3lIX-UUl",
        "outputId": "b874cab5-6250-464a-ceb0-842ca8b43fd6"
      },
      "source": [
        "\n",
        "classeIdade =  [str(resumoDistrFrequencia.loc[i-1,\"Limite Inferior\"])+\" - \"+str(resumoDistrFrequencia.loc[i-1,\"Limite Superior\"]) for i in resumoDistrFrequencia.sort_values(by='Frequência Absoluta',ascending=False)[\"Classe\"].values]\n",
        "\n",
        "plt.bar(classeIdade,resumoDistrFrequencia.sort_values(by='Frequência Absoluta',ascending=False)[\"Frequência Absoluta\"])\n",
        "plt.xlabel(\"Classe das Idades\")\n",
        "plt.ylabel(\"Frequência Absoluta\")\n",
        "\n",
        "plt.suptitle(\"Gráfico de Pareto do atributo Idade para a amostra da base de mamografia\")\n",
        "plt.show()\n"
      ],
      "execution_count": null,
      "outputs": [
        {
          "output_type": "display_data",
          "data": {
            "image/png": "[encoded data removed]",
            "text/plain": [
              "<Figure size 432x288 with 1 Axes>"
            ]
          },
          "metadata": {
            "tags": [],
            "needs_background": "light"
          }
        }
      ]
    },
    {
      "cell_type": "markdown",
      "metadata": {
        "id": "wpdbozHllefg"
      },
      "source": [
        "####Gráfico de Setores"
      ]
    },
    {
      "cell_type": "code",
      "metadata": {
        "colab": {
          "base_uri": "https://localhost:8080/"
        },
        "id": "mcZgG9WXCnTv",
        "outputId": "32f544ae-3f33-4215-99eb-5bf773a1da26"
      },
      "source": [
        "classeIdade =  [str(resumoDistrFrequencia.loc[i,\"Limite Inferior\"])+\" - \"+str(resumoDistrFrequencia.loc[i,\"Limite Superior\"])  for i in range(len(resumoDistrFrequencia.values))]\n",
        "\n",
        "plt.pie(x=resumoDistrFrequencia['Frequência Relativa'], labels=classeIdade, autopct='%.0f%%',startangle=90)\n",
        "\n",
        "plt.show()"
      ],
      "execution_count": null,
      "outputs": [
        {
          "output_type": "display_data",
          "data": {
            "image/png": "[encoded data removed]",
            "text/plain": [
              "<Figure size 432x288 with 1 Axes>"
            ]
          },
          "metadata": {
            "tags": []
          }
        }
      ]
    },
    {
      "cell_type": "markdown",
      "metadata": {
        "id": "J6gx28uWlifk"
      },
      "source": [
        "####Gráfico de Dispersão"
      ]
    },
    {
      "cell_type": "code",
      "metadata": {
        "id": "xKG3fQj6O-AO",
        "colab": {
          "base_uri": "https://localhost:8080/",
          "height": 428
        },
        "outputId": "1c6c4ae1-f05b-45a8-bbf9-3fb6815a10e0"
      },
      "source": [
        "dfAuxiliar = dfMamo.sort_values(by=\"Idade\")\n",
        "dfAuxiliar = dfAuxiliar.astype({\n",
        "    \"Idade\":int\n",
        "})\n",
        "plt.scatter(dfAuxiliar[\"Severidade\"], dfAuxiliar[\"Idade\"])\n",
        "plt.gcf().set_size_inches(5, 7) \n",
        "plt.show()\n"
      ],
      "execution_count": null,
      "outputs": [
        {
          "output_type": "display_data",
          "data": {
            "image/png": "[encoded data removed]",
            "text/plain": [
              "<Figure size 360x504 with 1 Axes>"
            ]
          },
          "metadata": {
            "tags": [],
            "needs_background": "light"
          }
        }
      ]
    },
    {
      "cell_type": "markdown",
      "metadata": {
        "id": "UpdOps7ZF9Ez"
      },
      "source": [
        "###Medidas Resumo"
      ]
    },
    {
      "cell_type": "markdown",
      "metadata": {
        "id": "LeMWr2voVFC8"
      },
      "source": [
        "####Medidas de Tendência Central"
      ]
    },
    {
      "cell_type": "markdown",
      "metadata": {
        "id": "PXUYlzCwVSFi"
      },
      "source": [
        "#####Média"
      ]
    },
    {
      "cell_type": "code",
      "metadata": {
        "colab": {
          "base_uri": "https://localhost:8080/"
        },
        "id": "VpDg2ghMVQ0x",
        "outputId": "6a0ab8cf-b7c2-4aa0-9676-897abff95509"
      },
      "source": [
        "dfAuxiliar = dfMamo\n",
        "dfAuxiliar = dfAuxiliar.astype({\n",
        "    \"Idade\":int\n",
        "})\n",
        "\n",
        "dfAuxiliar[\"Idade\"].mean()"
      ],
      "execution_count": null,
      "outputs": [
        {
          "output_type": "execute_result",
          "data": {
            "text/plain": [
              "56.4875"
            ]
          },
          "metadata": {
            "tags": []
          },
          "execution_count": 22
        }
      ]
    },
    {
      "cell_type": "markdown",
      "metadata": {
        "id": "pkdpomNzXVWl"
      },
      "source": [
        "#####Mediana"
      ]
    },
    {
      "cell_type": "code",
      "metadata": {
        "colab": {
          "base_uri": "https://localhost:8080/"
        },
        "id": "WjlHeKjaVDz5",
        "outputId": "9df24e2b-aba3-4cdf-b85e-cb3b4e842c34"
      },
      "source": [
        "dfAuxiliar = dfMamo\n",
        "dfAuxiliar = dfAuxiliar.astype({\n",
        "    \"Idade\":int\n",
        "})\n",
        "\n",
        "dfAuxiliar[\"Idade\"].median()"
      ],
      "execution_count": null,
      "outputs": [
        {
          "output_type": "execute_result",
          "data": {
            "text/plain": [
              "58.5"
            ]
          },
          "metadata": {
            "tags": []
          },
          "execution_count": 23
        }
      ]
    },
    {
      "cell_type": "markdown",
      "metadata": {
        "id": "15p6h9UyXepE"
      },
      "source": [
        "#####Ponto Médio"
      ]
    },
    {
      "cell_type": "code",
      "metadata": {
        "colab": {
          "base_uri": "https://localhost:8080/"
        },
        "id": "g_dCyi7aWVbB",
        "outputId": "4f0ea681-84cf-44a8-b011-2ad0b9e25ab9"
      },
      "source": [
        "(maiorValor+menorValor)/2"
      ],
      "execution_count": null,
      "outputs": [
        {
          "output_type": "execute_result",
          "data": {
            "text/plain": [
              "52.0"
            ]
          },
          "metadata": {
            "tags": []
          },
          "execution_count": 24
        }
      ]
    },
    {
      "cell_type": "markdown",
      "metadata": {
        "id": "ecQr9SgUXstZ"
      },
      "source": [
        "#####Moda"
      ]
    },
    {
      "cell_type": "code",
      "metadata": {
        "colab": {
          "base_uri": "https://localhost:8080/"
        },
        "id": "35lrQ15wXkMs",
        "outputId": "4ec1170e-dab6-4ba5-a1f6-4cc2e75f6119"
      },
      "source": [
        "dfAuxiliar = dfMamo\n",
        "dfAuxiliar = dfAuxiliar.astype({\n",
        "    \"Idade\":int\n",
        "})\n",
        "\n",
        "dfAuxiliar[\"Idade\"].mode()"
      ],
      "execution_count": null,
      "outputs": [
        {
          "output_type": "execute_result",
          "data": {
            "text/plain": [
              "0    60\n",
              "dtype: int64"
            ]
          },
          "metadata": {
            "tags": []
          },
          "execution_count": 25
        }
      ]
    },
    {
      "cell_type": "markdown",
      "metadata": {
        "id": "b5ZeM49wYKTL"
      },
      "source": [
        "####Medidas de Dispersão"
      ]
    },
    {
      "cell_type": "markdown",
      "metadata": {
        "id": "S65ze0ugYPbl"
      },
      "source": [
        "#####Amplitude"
      ]
    },
    {
      "cell_type": "code",
      "metadata": {
        "colab": {
          "base_uri": "https://localhost:8080/"
        },
        "id": "rBdtreEaX-7h",
        "outputId": "f0d2c6ca-c2b6-48df-c1cd-e79ad5d42ef3"
      },
      "source": [
        "maiorValor-menorValor"
      ],
      "execution_count": null,
      "outputs": [
        {
          "output_type": "execute_result",
          "data": {
            "text/plain": [
              "58"
            ]
          },
          "metadata": {
            "tags": []
          },
          "execution_count": 26
        }
      ]
    },
    {
      "cell_type": "markdown",
      "metadata": {
        "id": "-rCHFiJvYc7T"
      },
      "source": [
        "#####Desvio Padrão"
      ]
    },
    {
      "cell_type": "code",
      "metadata": {
        "colab": {
          "base_uri": "https://localhost:8080/"
        },
        "id": "PlMjasy0YYIK",
        "outputId": "6a6aefc4-a5b0-4941-f8cb-bed869e89be8"
      },
      "source": [
        "dfAuxiliar = dfMamo\n",
        "dfAuxiliar = dfAuxiliar.astype({\n",
        "    \"Idade\":int\n",
        "})\n",
        "\n",
        "dfAuxiliar[\"Idade\"].std()"
      ],
      "execution_count": null,
      "outputs": [
        {
          "output_type": "execute_result",
          "data": {
            "text/plain": [
              "13.62703358415901"
            ]
          },
          "metadata": {
            "tags": []
          },
          "execution_count": 27
        }
      ]
    },
    {
      "cell_type": "markdown",
      "metadata": {
        "id": "ujbooXamZCEL"
      },
      "source": [
        "#####Variância"
      ]
    },
    {
      "cell_type": "code",
      "metadata": {
        "colab": {
          "base_uri": "https://localhost:8080/"
        },
        "id": "5iqdIPvYYikR",
        "outputId": "a67b67e3-4871-4b59-b5c1-51d1aac5ecbd"
      },
      "source": [
        "dfAuxiliar = dfMamo\n",
        "dfAuxiliar = dfAuxiliar.astype({\n",
        "    \"Idade\":int\n",
        "})\n",
        "\n",
        "dfAuxiliar[\"Idade\"].var()"
      ],
      "execution_count": null,
      "outputs": [
        {
          "output_type": "execute_result",
          "data": {
            "text/plain": [
              "185.69604430379755"
            ]
          },
          "metadata": {
            "tags": []
          },
          "execution_count": 28
        }
      ]
    },
    {
      "cell_type": "markdown",
      "metadata": {
        "id": "xvimygGnZJVT"
      },
      "source": [
        "#####Coeficiente de Variação"
      ]
    },
    {
      "cell_type": "code",
      "metadata": {
        "colab": {
          "base_uri": "https://localhost:8080/"
        },
        "id": "uI9NEewwY_dJ",
        "outputId": "55007508-c1f2-40a9-ce5b-4dd0592c9019"
      },
      "source": [
        "dfAuxiliar = dfMamo\n",
        "dfAuxiliar = dfAuxiliar.astype({\n",
        "    \"Idade\":int\n",
        "})\n",
        "\n",
        "dfAuxiliar[\"Idade\"].std()/dfAuxiliar[\"Idade\"].mean()*100"
      ],
      "execution_count": null,
      "outputs": [
        {
          "output_type": "execute_result",
          "data": {
            "text/plain": [
              "24.123980675652152"
            ]
          },
          "metadata": {
            "tags": []
          },
          "execution_count": 29
        }
      ]
    },
    {
      "cell_type": "markdown",
      "metadata": {
        "id": "-BxmndigYYFa"
      },
      "source": [
        "####Medidas de Forma"
      ]
    },
    {
      "cell_type": "markdown",
      "metadata": {
        "id": "AXsZGLXuwueD"
      },
      "source": [
        "#####Assimetria"
      ]
    },
    {
      "cell_type": "code",
      "metadata": {
        "colab": {
          "base_uri": "https://localhost:8080/"
        },
        "id": "6LQR2CutYfJ_",
        "outputId": "4e9eaf3b-f215-44d2-9419-d924cfe6dfe9"
      },
      "source": [
        "dfAuxiliar = dfMamo\n",
        "dfAuxiliar = dfAuxiliar.astype({\n",
        "    \"Idade\":int\n",
        "})\n",
        "\n",
        "dfAuxiliar[\"Idade\"].skew()"
      ],
      "execution_count": null,
      "outputs": [
        {
          "output_type": "execute_result",
          "data": {
            "text/plain": [
              "-0.5213419491722785"
            ]
          },
          "metadata": {
            "tags": []
          },
          "execution_count": 30
        }
      ]
    },
    {
      "cell_type": "code",
      "metadata": {
        "colab": {
          "base_uri": "https://localhost:8080/",
          "height": 369
        },
        "id": "PcaJ_-IZeSYq",
        "outputId": "57367411-b19d-4bc7-8232-be85f3d0f32e"
      },
      "source": [
        "dfAuxiliar = dfMamo.sort_values('Idade',ascending=True)\n",
        "dfAuxiliar = dfAuxiliar.astype({\n",
        "    \"Idade\":int\n",
        "})\n",
        "plot = sns.displot(dfAuxiliar[\"Idade\"],kde=True)\n",
        "plt.axvline(dfAuxiliar[\"Idade\"].mean(),0,1, color='r', label=\"Média\")\n",
        "plt.legend()\n",
        "plt.show()"
      ],
      "execution_count": null,
      "outputs": [
        {
          "output_type": "display_data",
          "data": {
            "image/png": "[encoded data removed]",
            "text/plain": [
              "<Figure size 360x360 with 1 Axes>"
            ]
          },
          "metadata": {
            "tags": [],
            "needs_background": "light"
          }
        }
      ]
    },
    {
      "cell_type": "markdown",
      "metadata": {
        "id": "OHTxHKDhxa3h"
      },
      "source": [
        "#####Curtose"
      ]
    },
    {
      "cell_type": "code",
      "metadata": {
        "colab": {
          "base_uri": "https://localhost:8080/"
        },
        "id": "1Htvon8ScBdm",
        "outputId": "f8ae1eba-4712-45d9-b90d-5433eba111f5"
      },
      "source": [
        "dfAuxiliar = dfMamo\n",
        "dfAuxiliar = dfAuxiliar.astype({\n",
        "    \"Idade\":int\n",
        "})\n",
        "\n",
        "dfAuxiliar[\"Idade\"].kurtosis()"
      ],
      "execution_count": null,
      "outputs": [
        {
          "output_type": "execute_result",
          "data": {
            "text/plain": [
              "0.0009262394704530053"
            ]
          },
          "metadata": {
            "tags": []
          },
          "execution_count": 32
        }
      ]
    },
    {
      "cell_type": "markdown",
      "metadata": {
        "id": "MYaLIl4hyFIK"
      },
      "source": [
        "####Medidas de Posição Relativa"
      ]
    },
    {
      "cell_type": "markdown",
      "metadata": {
        "id": "Qq7ATsjXyaq7"
      },
      "source": [
        "#####Quantis"
      ]
    },
    {
      "cell_type": "code",
      "metadata": {
        "colab": {
          "base_uri": "https://localhost:8080/"
        },
        "id": "XCjaex8Rv3HG",
        "outputId": "a713ab73-0425-419c-aaab-8007690cbab8"
      },
      "source": [
        "dfAuxiliar = dfMamo\n",
        "dfAuxiliar = dfAuxiliar.astype({\n",
        "    \"Idade\":int\n",
        "})\n",
        "\n",
        "dfAuxiliar[\"Idade\"].quantile(0.25)"
      ],
      "execution_count": null,
      "outputs": [
        {
          "output_type": "execute_result",
          "data": {
            "text/plain": [
              "47.5"
            ]
          },
          "metadata": {
            "tags": []
          },
          "execution_count": 33
        }
      ]
    },
    {
      "cell_type": "code",
      "metadata": {
        "colab": {
          "base_uri": "https://localhost:8080/"
        },
        "id": "vmw0TqxmynAH",
        "outputId": "e7ef1c66-bccd-4048-eaa9-b8969d64da68"
      },
      "source": [
        "dfAuxiliar = dfMamo\n",
        "dfAuxiliar = dfAuxiliar.astype({\n",
        "    \"Idade\":int\n",
        "})\n",
        "\n",
        "dfAuxiliar[\"Idade\"].quantile(0.5)"
      ],
      "execution_count": null,
      "outputs": [
        {
          "output_type": "execute_result",
          "data": {
            "text/plain": [
              "58.5"
            ]
          },
          "metadata": {
            "tags": []
          },
          "execution_count": 34
        }
      ]
    },
    {
      "cell_type": "code",
      "metadata": {
        "colab": {
          "base_uri": "https://localhost:8080/"
        },
        "id": "9TyQV_w9ypZf",
        "outputId": "b6537c4d-a91f-4068-b84a-56482b50037d"
      },
      "source": [
        "dfAuxiliar = dfMamo\n",
        "dfAuxiliar = dfAuxiliar.astype({\n",
        "    \"Idade\":int\n",
        "})\n",
        "\n",
        "dfAuxiliar[\"Idade\"].quantile(0.75)"
      ],
      "execution_count": null,
      "outputs": [
        {
          "output_type": "execute_result",
          "data": {
            "text/plain": [
              "66.0"
            ]
          },
          "metadata": {
            "tags": []
          },
          "execution_count": 35
        }
      ]
    },
    {
      "cell_type": "markdown",
      "metadata": {
        "id": "tb2JyRlS2u1M"
      },
      "source": [
        "####Medida de Associaçao"
      ]
    },
    {
      "cell_type": "code",
      "metadata": {
        "colab": {
          "base_uri": "https://localhost:8080/",
          "height": 428
        },
        "id": "H6rjoxTH2o75",
        "outputId": "0c274a72-c0db-42e3-99e5-c625f3d2b0d2"
      },
      "source": [
        "dfAuxiliar = dfMamo.sort_values(by=\"Idade\")\n",
        "dfAuxiliar = dfAuxiliar.astype({\n",
        "    \"Idade\":int\n",
        "})\n",
        "plt.scatter(dfAuxiliar[\"Severidade\"], dfAuxiliar[\"Idade\"])\n",
        "plt.gcf().set_size_inches(5, 7) \n",
        "plt.show()"
      ],
      "execution_count": null,
      "outputs": [
        {
          "output_type": "display_data",
          "data": {
            "image/png": "[encoded data removed]",
            "text/plain": [
              "<Figure size 360x504 with 1 Axes>"
            ]
          },
          "metadata": {
            "tags": [],
            "needs_background": "light"
          }
        }
      ]
    },
    {
      "cell_type": "code",
      "metadata": {
        "id": "lKMx9O-524Pn"
      },
      "source": [
        ""
      ],
      "execution_count": null,
      "outputs": []
    }
  ]
}