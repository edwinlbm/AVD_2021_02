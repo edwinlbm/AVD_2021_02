{
  "nbformat": 4,
  "nbformat_minor": 0,
  "metadata": {
    "colab": {
      "name": "AVD_Trabalho Prático_PreProcessamento_Edwin Monteiro.ipynb",
      "provenance": [],
      "collapsed_sections": []
    },
    "kernelspec": {
      "name": "python3",
      "display_name": "Python 3"
    },
    "language_info": {
      "name": "python"
    }
  },
  "cells": [
    {
      "cell_type": "markdown",
      "metadata": {
        "id": "sTYRHYBQIEWH"
      },
      "source": [
        "# Bibliotecas"
      ]
    },
    {
      "cell_type": "code",
      "metadata": {
        "id": "9qdjpin92Euc"
      },
      "source": [
        "import pandas as pd\n",
        "import numpy as np\n",
        "import math"
      ],
      "execution_count": null,
      "outputs": []
    },
    {
      "cell_type": "markdown",
      "metadata": {
        "id": "_jZtQweaUi2M"
      },
      "source": [
        "# Leitura do dataframe"
      ]
    },
    {
      "cell_type": "code",
      "metadata": {
        "id": "cwOFPmhz2OBz"
      },
      "source": [
        "df_mamo = pd.read_csv('https://raw.githubusercontent.com/edwinlbm/AVD_2021_02/main/mammographic_masses.data?token=AEEU35VOFESX3WSNC3HOLZLBJDMGM', delimiter = ',')"
      ],
      "execution_count": null,
      "outputs": []
    },
    {
      "cell_type": "code",
      "metadata": {
        "colab": {
          "base_uri": "https://localhost:8080/",
          "height": 355
        },
        "id": "or5HBnIB2hDx",
        "outputId": "1bb6d557-6d54-4ab5-9fb6-714acd131b2d"
      },
      "source": [
        "df_mamo.head(10)"
      ],
      "execution_count": null,
      "outputs": [
        {
          "output_type": "execute_result",
          "data": {
            "text/html": [
              "<div>\n",
              "<style scoped>\n",
              "    .dataframe tbody tr th:only-of-type {\n",
              "        vertical-align: middle;\n",
              "    }\n",
              "\n",
              "    .dataframe tbody tr th {\n",
              "        vertical-align: top;\n",
              "    }\n",
              "\n",
              "    .dataframe thead th {\n",
              "        text-align: right;\n",
              "    }\n",
              "</style>\n",
              "<table border=\"1\" class=\"dataframe\">\n",
              "  <thead>\n",
              "    <tr style=\"text-align: right;\">\n",
              "      <th></th>\n",
              "      <th>5</th>\n",
              "      <th>67</th>\n",
              "      <th>3</th>\n",
              "      <th>5.1</th>\n",
              "      <th>3.1</th>\n",
              "      <th>1</th>\n",
              "    </tr>\n",
              "  </thead>\n",
              "  <tbody>\n",
              "    <tr>\n",
              "      <th>0</th>\n",
              "      <td>4</td>\n",
              "      <td>43</td>\n",
              "      <td>1</td>\n",
              "      <td>1</td>\n",
              "      <td>?</td>\n",
              "      <td>1</td>\n",
              "    </tr>\n",
              "    <tr>\n",
              "      <th>1</th>\n",
              "      <td>5</td>\n",
              "      <td>58</td>\n",
              "      <td>4</td>\n",
              "      <td>5</td>\n",
              "      <td>3</td>\n",
              "      <td>1</td>\n",
              "    </tr>\n",
              "    <tr>\n",
              "      <th>2</th>\n",
              "      <td>4</td>\n",
              "      <td>28</td>\n",
              "      <td>1</td>\n",
              "      <td>1</td>\n",
              "      <td>3</td>\n",
              "      <td>0</td>\n",
              "    </tr>\n",
              "    <tr>\n",
              "      <th>3</th>\n",
              "      <td>5</td>\n",
              "      <td>74</td>\n",
              "      <td>1</td>\n",
              "      <td>5</td>\n",
              "      <td>?</td>\n",
              "      <td>1</td>\n",
              "    </tr>\n",
              "    <tr>\n",
              "      <th>4</th>\n",
              "      <td>4</td>\n",
              "      <td>65</td>\n",
              "      <td>1</td>\n",
              "      <td>?</td>\n",
              "      <td>3</td>\n",
              "      <td>0</td>\n",
              "    </tr>\n",
              "    <tr>\n",
              "      <th>5</th>\n",
              "      <td>4</td>\n",
              "      <td>70</td>\n",
              "      <td>?</td>\n",
              "      <td>?</td>\n",
              "      <td>3</td>\n",
              "      <td>0</td>\n",
              "    </tr>\n",
              "    <tr>\n",
              "      <th>6</th>\n",
              "      <td>5</td>\n",
              "      <td>42</td>\n",
              "      <td>1</td>\n",
              "      <td>?</td>\n",
              "      <td>3</td>\n",
              "      <td>0</td>\n",
              "    </tr>\n",
              "    <tr>\n",
              "      <th>7</th>\n",
              "      <td>5</td>\n",
              "      <td>57</td>\n",
              "      <td>1</td>\n",
              "      <td>5</td>\n",
              "      <td>3</td>\n",
              "      <td>1</td>\n",
              "    </tr>\n",
              "    <tr>\n",
              "      <th>8</th>\n",
              "      <td>5</td>\n",
              "      <td>60</td>\n",
              "      <td>?</td>\n",
              "      <td>5</td>\n",
              "      <td>1</td>\n",
              "      <td>1</td>\n",
              "    </tr>\n",
              "    <tr>\n",
              "      <th>9</th>\n",
              "      <td>5</td>\n",
              "      <td>76</td>\n",
              "      <td>1</td>\n",
              "      <td>4</td>\n",
              "      <td>3</td>\n",
              "      <td>1</td>\n",
              "    </tr>\n",
              "  </tbody>\n",
              "</table>\n",
              "</div>"
            ],
            "text/plain": [
              "   5  67  3 5.1 3.1  1\n",
              "0  4  43  1   1   ?  1\n",
              "1  5  58  4   5   3  1\n",
              "2  4  28  1   1   3  0\n",
              "3  5  74  1   5   ?  1\n",
              "4  4  65  1   ?   3  0\n",
              "5  4  70  ?   ?   3  0\n",
              "6  5  42  1   ?   3  0\n",
              "7  5  57  1   5   3  1\n",
              "8  5  60  ?   5   1  1\n",
              "9  5  76  1   4   3  1"
            ]
          },
          "metadata": {},
          "execution_count": 3
        }
      ]
    },
    {
      "cell_type": "markdown",
      "metadata": {
        "id": "SEVRaP3RU0LQ"
      },
      "source": [
        "### Ajuste no nome dos atributos"
      ]
    },
    {
      "cell_type": "code",
      "metadata": {
        "id": "uOUbPvjw2m9A"
      },
      "source": [
        "df_mamo_rotulada = pd.read_csv('https://raw.githubusercontent.com/edwinlbm/AVD_2021_02/main/mammographic_masses.data?token=AEEU35VOFESX3WSNC3HOLZLBJDMGM', delimiter = ',', names=['BI-RADS','Idade','Forma', 'Contorno', 'Densidade', 'Severidade'])"
      ],
      "execution_count": null,
      "outputs": []
    },
    {
      "cell_type": "code",
      "metadata": {
        "id": "fYKHctqOFpjb"
      },
      "source": [
        "df_mamo_atual = df_mamo_rotulada.copy(deep=True)"
      ],
      "execution_count": null,
      "outputs": []
    },
    {
      "cell_type": "markdown",
      "metadata": {
        "id": "AHPBmti3VNeb"
      },
      "source": [
        "### Rotulação dos dados"
      ]
    },
    {
      "cell_type": "code",
      "metadata": {
        "colab": {
          "base_uri": "https://localhost:8080/",
          "height": 355
        },
        "id": "e-l7X2l4Jvn_",
        "outputId": "575f7d12-5e16-4c9d-ab48-cb4e731aa490"
      },
      "source": [
        "df_mamo_atual.head(10)"
      ],
      "execution_count": null,
      "outputs": [
        {
          "output_type": "execute_result",
          "data": {
            "text/html": [
              "<div>\n",
              "<style scoped>\n",
              "    .dataframe tbody tr th:only-of-type {\n",
              "        vertical-align: middle;\n",
              "    }\n",
              "\n",
              "    .dataframe tbody tr th {\n",
              "        vertical-align: top;\n",
              "    }\n",
              "\n",
              "    .dataframe thead th {\n",
              "        text-align: right;\n",
              "    }\n",
              "</style>\n",
              "<table border=\"1\" class=\"dataframe\">\n",
              "  <thead>\n",
              "    <tr style=\"text-align: right;\">\n",
              "      <th></th>\n",
              "      <th>BI-RADS</th>\n",
              "      <th>Idade</th>\n",
              "      <th>Forma</th>\n",
              "      <th>Contorno</th>\n",
              "      <th>Densidade</th>\n",
              "      <th>Severidade</th>\n",
              "    </tr>\n",
              "  </thead>\n",
              "  <tbody>\n",
              "    <tr>\n",
              "      <th>0</th>\n",
              "      <td>5</td>\n",
              "      <td>67</td>\n",
              "      <td>3</td>\n",
              "      <td>5</td>\n",
              "      <td>3</td>\n",
              "      <td>1</td>\n",
              "    </tr>\n",
              "    <tr>\n",
              "      <th>1</th>\n",
              "      <td>4</td>\n",
              "      <td>43</td>\n",
              "      <td>1</td>\n",
              "      <td>1</td>\n",
              "      <td>?</td>\n",
              "      <td>1</td>\n",
              "    </tr>\n",
              "    <tr>\n",
              "      <th>2</th>\n",
              "      <td>5</td>\n",
              "      <td>58</td>\n",
              "      <td>4</td>\n",
              "      <td>5</td>\n",
              "      <td>3</td>\n",
              "      <td>1</td>\n",
              "    </tr>\n",
              "    <tr>\n",
              "      <th>3</th>\n",
              "      <td>4</td>\n",
              "      <td>28</td>\n",
              "      <td>1</td>\n",
              "      <td>1</td>\n",
              "      <td>3</td>\n",
              "      <td>0</td>\n",
              "    </tr>\n",
              "    <tr>\n",
              "      <th>4</th>\n",
              "      <td>5</td>\n",
              "      <td>74</td>\n",
              "      <td>1</td>\n",
              "      <td>5</td>\n",
              "      <td>?</td>\n",
              "      <td>1</td>\n",
              "    </tr>\n",
              "    <tr>\n",
              "      <th>5</th>\n",
              "      <td>4</td>\n",
              "      <td>65</td>\n",
              "      <td>1</td>\n",
              "      <td>?</td>\n",
              "      <td>3</td>\n",
              "      <td>0</td>\n",
              "    </tr>\n",
              "    <tr>\n",
              "      <th>6</th>\n",
              "      <td>4</td>\n",
              "      <td>70</td>\n",
              "      <td>?</td>\n",
              "      <td>?</td>\n",
              "      <td>3</td>\n",
              "      <td>0</td>\n",
              "    </tr>\n",
              "    <tr>\n",
              "      <th>7</th>\n",
              "      <td>5</td>\n",
              "      <td>42</td>\n",
              "      <td>1</td>\n",
              "      <td>?</td>\n",
              "      <td>3</td>\n",
              "      <td>0</td>\n",
              "    </tr>\n",
              "    <tr>\n",
              "      <th>8</th>\n",
              "      <td>5</td>\n",
              "      <td>57</td>\n",
              "      <td>1</td>\n",
              "      <td>5</td>\n",
              "      <td>3</td>\n",
              "      <td>1</td>\n",
              "    </tr>\n",
              "    <tr>\n",
              "      <th>9</th>\n",
              "      <td>5</td>\n",
              "      <td>60</td>\n",
              "      <td>?</td>\n",
              "      <td>5</td>\n",
              "      <td>1</td>\n",
              "      <td>1</td>\n",
              "    </tr>\n",
              "  </tbody>\n",
              "</table>\n",
              "</div>"
            ],
            "text/plain": [
              "  BI-RADS Idade Forma Contorno Densidade  Severidade\n",
              "0       5    67     3        5         3           1\n",
              "1       4    43     1        1         ?           1\n",
              "2       5    58     4        5         3           1\n",
              "3       4    28     1        1         3           0\n",
              "4       5    74     1        5         ?           1\n",
              "5       4    65     1        ?         3           0\n",
              "6       4    70     ?        ?         3           0\n",
              "7       5    42     1        ?         3           0\n",
              "8       5    57     1        5         3           1\n",
              "9       5    60     ?        5         1           1"
            ]
          },
          "metadata": {},
          "execution_count": 6
        }
      ]
    },
    {
      "cell_type": "code",
      "metadata": {
        "id": "2VZW5mxJ7LTS"
      },
      "source": [
        "df_mamo_atual['Severidade'].replace({1: 'maligno', 0: 'benigno'}, inplace=True)"
      ],
      "execution_count": null,
      "outputs": []
    },
    {
      "cell_type": "code",
      "metadata": {
        "id": "ldgMdZoI94oR"
      },
      "source": [
        "df_mamo_atual['Forma'].replace({'1': 'redonda', '2': 'oval', '3':'lobular', '4':'irregular'}, inplace=True)"
      ],
      "execution_count": null,
      "outputs": []
    },
    {
      "cell_type": "code",
      "metadata": {
        "id": "P710j1BkKUwN"
      },
      "source": [
        "df_mamo_atual['Contorno'].replace({'1': 'circunscrita', '2': 'microlobulada', '3':'obscura', '4':'mal definida', '5': 'especulada'}, inplace=True)"
      ],
      "execution_count": null,
      "outputs": []
    },
    {
      "cell_type": "code",
      "metadata": {
        "id": "1fWfaN-eSBNP"
      },
      "source": [
        "df_mamo_atual['Densidade'].replace({'1': 'alta', '2': 'iso', '3':'baixa', '4':'gordurosa'}, inplace=True)"
      ],
      "execution_count": null,
      "outputs": []
    },
    {
      "cell_type": "code",
      "metadata": {
        "colab": {
          "base_uri": "https://localhost:8080/",
          "height": 355
        },
        "id": "7sl124L0-LmJ",
        "outputId": "0268e449-e24e-46e5-a485-96d5c849b6b1"
      },
      "source": [
        "df_mamo_atual.head(10)"
      ],
      "execution_count": null,
      "outputs": [
        {
          "output_type": "execute_result",
          "data": {
            "text/html": [
              "<div>\n",
              "<style scoped>\n",
              "    .dataframe tbody tr th:only-of-type {\n",
              "        vertical-align: middle;\n",
              "    }\n",
              "\n",
              "    .dataframe tbody tr th {\n",
              "        vertical-align: top;\n",
              "    }\n",
              "\n",
              "    .dataframe thead th {\n",
              "        text-align: right;\n",
              "    }\n",
              "</style>\n",
              "<table border=\"1\" class=\"dataframe\">\n",
              "  <thead>\n",
              "    <tr style=\"text-align: right;\">\n",
              "      <th></th>\n",
              "      <th>BI-RADS</th>\n",
              "      <th>Idade</th>\n",
              "      <th>Forma</th>\n",
              "      <th>Contorno</th>\n",
              "      <th>Densidade</th>\n",
              "      <th>Severidade</th>\n",
              "    </tr>\n",
              "  </thead>\n",
              "  <tbody>\n",
              "    <tr>\n",
              "      <th>0</th>\n",
              "      <td>5</td>\n",
              "      <td>67</td>\n",
              "      <td>lobular</td>\n",
              "      <td>especulada</td>\n",
              "      <td>baixa</td>\n",
              "      <td>maligno</td>\n",
              "    </tr>\n",
              "    <tr>\n",
              "      <th>1</th>\n",
              "      <td>4</td>\n",
              "      <td>43</td>\n",
              "      <td>redonda</td>\n",
              "      <td>circunscrita</td>\n",
              "      <td>?</td>\n",
              "      <td>maligno</td>\n",
              "    </tr>\n",
              "    <tr>\n",
              "      <th>2</th>\n",
              "      <td>5</td>\n",
              "      <td>58</td>\n",
              "      <td>irregular</td>\n",
              "      <td>especulada</td>\n",
              "      <td>baixa</td>\n",
              "      <td>maligno</td>\n",
              "    </tr>\n",
              "    <tr>\n",
              "      <th>3</th>\n",
              "      <td>4</td>\n",
              "      <td>28</td>\n",
              "      <td>redonda</td>\n",
              "      <td>circunscrita</td>\n",
              "      <td>baixa</td>\n",
              "      <td>benigno</td>\n",
              "    </tr>\n",
              "    <tr>\n",
              "      <th>4</th>\n",
              "      <td>5</td>\n",
              "      <td>74</td>\n",
              "      <td>redonda</td>\n",
              "      <td>especulada</td>\n",
              "      <td>?</td>\n",
              "      <td>maligno</td>\n",
              "    </tr>\n",
              "    <tr>\n",
              "      <th>5</th>\n",
              "      <td>4</td>\n",
              "      <td>65</td>\n",
              "      <td>redonda</td>\n",
              "      <td>?</td>\n",
              "      <td>baixa</td>\n",
              "      <td>benigno</td>\n",
              "    </tr>\n",
              "    <tr>\n",
              "      <th>6</th>\n",
              "      <td>4</td>\n",
              "      <td>70</td>\n",
              "      <td>?</td>\n",
              "      <td>?</td>\n",
              "      <td>baixa</td>\n",
              "      <td>benigno</td>\n",
              "    </tr>\n",
              "    <tr>\n",
              "      <th>7</th>\n",
              "      <td>5</td>\n",
              "      <td>42</td>\n",
              "      <td>redonda</td>\n",
              "      <td>?</td>\n",
              "      <td>baixa</td>\n",
              "      <td>benigno</td>\n",
              "    </tr>\n",
              "    <tr>\n",
              "      <th>8</th>\n",
              "      <td>5</td>\n",
              "      <td>57</td>\n",
              "      <td>redonda</td>\n",
              "      <td>especulada</td>\n",
              "      <td>baixa</td>\n",
              "      <td>maligno</td>\n",
              "    </tr>\n",
              "    <tr>\n",
              "      <th>9</th>\n",
              "      <td>5</td>\n",
              "      <td>60</td>\n",
              "      <td>?</td>\n",
              "      <td>especulada</td>\n",
              "      <td>alta</td>\n",
              "      <td>maligno</td>\n",
              "    </tr>\n",
              "  </tbody>\n",
              "</table>\n",
              "</div>"
            ],
            "text/plain": [
              "  BI-RADS Idade      Forma      Contorno Densidade Severidade\n",
              "0       5    67    lobular    especulada     baixa    maligno\n",
              "1       4    43    redonda  circunscrita         ?    maligno\n",
              "2       5    58  irregular    especulada     baixa    maligno\n",
              "3       4    28    redonda  circunscrita     baixa    benigno\n",
              "4       5    74    redonda    especulada         ?    maligno\n",
              "5       4    65    redonda             ?     baixa    benigno\n",
              "6       4    70          ?             ?     baixa    benigno\n",
              "7       5    42    redonda             ?     baixa    benigno\n",
              "8       5    57    redonda    especulada     baixa    maligno\n",
              "9       5    60          ?    especulada      alta    maligno"
            ]
          },
          "metadata": {},
          "execution_count": 11
        }
      ]
    },
    {
      "cell_type": "code",
      "metadata": {
        "colab": {
          "base_uri": "https://localhost:8080/",
          "height": 110
        },
        "id": "GOBKQDKzGcl0",
        "outputId": "15c940a1-6534-4555-f764-24bd3ed2694f"
      },
      "source": [
        "# Dados ausentes em BI-RADS\n",
        "df_mamo_atual[df_mamo_atual['BI-RADS'] == '?']"
      ],
      "execution_count": null,
      "outputs": [
        {
          "output_type": "execute_result",
          "data": {
            "text/html": [
              "<div>\n",
              "<style scoped>\n",
              "    .dataframe tbody tr th:only-of-type {\n",
              "        vertical-align: middle;\n",
              "    }\n",
              "\n",
              "    .dataframe tbody tr th {\n",
              "        vertical-align: top;\n",
              "    }\n",
              "\n",
              "    .dataframe thead th {\n",
              "        text-align: right;\n",
              "    }\n",
              "</style>\n",
              "<table border=\"1\" class=\"dataframe\">\n",
              "  <thead>\n",
              "    <tr style=\"text-align: right;\">\n",
              "      <th></th>\n",
              "      <th>BI-RADS</th>\n",
              "      <th>Idade</th>\n",
              "      <th>Forma</th>\n",
              "      <th>Contorno</th>\n",
              "      <th>Densidade</th>\n",
              "      <th>Severidade</th>\n",
              "    </tr>\n",
              "  </thead>\n",
              "  <tbody>\n",
              "    <tr>\n",
              "      <th>20</th>\n",
              "      <td>?</td>\n",
              "      <td>66</td>\n",
              "      <td>?</td>\n",
              "      <td>?</td>\n",
              "      <td>alta</td>\n",
              "      <td>maligno</td>\n",
              "    </tr>\n",
              "    <tr>\n",
              "      <th>208</th>\n",
              "      <td>?</td>\n",
              "      <td>52</td>\n",
              "      <td>irregular</td>\n",
              "      <td>mal definida</td>\n",
              "      <td>baixa</td>\n",
              "      <td>benigno</td>\n",
              "    </tr>\n",
              "  </tbody>\n",
              "</table>\n",
              "</div>"
            ],
            "text/plain": [
              "    BI-RADS Idade      Forma      Contorno Densidade Severidade\n",
              "20        ?    66          ?             ?      alta    maligno\n",
              "208       ?    52  irregular  mal definida     baixa    benigno"
            ]
          },
          "metadata": {},
          "execution_count": 12
        }
      ]
    },
    {
      "cell_type": "markdown",
      "metadata": {
        "id": "zwmk2mx6XbU5"
      },
      "source": [
        "# Exercício 1.1. Atributo BI-RADS"
      ]
    },
    {
      "cell_type": "code",
      "metadata": {
        "id": "8tm8By72G7Az"
      },
      "source": [
        "df_exercicio_1_1 = df_mamo_atual.copy(deep=True)"
      ],
      "execution_count": null,
      "outputs": []
    },
    {
      "cell_type": "code",
      "metadata": {
        "id": "tDxQIVJlr8TF"
      },
      "source": [
        "def exercicio_1_1(df_exercicio_1_1):\n",
        "    #seleção de dataframe contendo as informações de BI-RADS e Severidade: Maligno\n",
        "    df_freq_bi_rads_maligno = df_exercicio_1_1[['BI-RADS', 'Severidade']]\n",
        "    df_freq_bi_rads_maligno = df_freq_bi_rads_maligno.loc[(df_freq_bi_rads_maligno['Severidade'] == 'maligno')]\n",
        "\n",
        "    # value_counts() ordena a frequência em ordem decrescente, logo basta acessar o índice 0 para obter o valor de maior frequência\n",
        "    freq_bi_rads_maligno = df_freq_bi_rads_maligno['BI-RADS'].value_counts().keys().tolist()[0]\n",
        "\n",
        "    #seleção de dataframe contendo as informações de BI-RADS e Severidade: Benigno\n",
        "    df_freq_bi_rads_benigno = df_exercicio_1_1[['BI-RADS', 'Severidade']]\n",
        "    df_freq_bi_rads_benigno = df_freq_bi_rads_benigno.loc[(df_freq_bi_rads_benigno['Severidade'] == 'benigno')]\n",
        "\n",
        "    # value_counts() ordena a frequência em ordem decrescente, logo basta acessar o índice 0 para obter o valor de maior frequência\n",
        "    freq_bi_rads_benigno = df_freq_bi_rads_benigno['BI-RADS'].value_counts().keys().tolist()[0]\n",
        "\n",
        "    lista_index_birads_benigno = df_exercicio_1_1[(df_exercicio_1_1['BI-RADS'] == '?') & (df_exercicio_1_1['Severidade'] == 'benigno')].index\n",
        "    # Dada a lista de linhas que ocorre o problema, substitui-se '?' pelo valor de maior frequência na coluna [BI-RADS] também acessível como coluna [0]\n",
        "    df_exercicio_1_1.iloc[lista_index_birads_benigno, [0]] = freq_bi_rads_benigno\n",
        "\n",
        "    lista_index_birads_maligno = df_exercicio_1_1[(df_exercicio_1_1['BI-RADS'] == '?') & (df_exercicio_1_1['Severidade'] == 'maligno')].index\n",
        "    # Dada a lista de linhas que ocorre o problema, substitui-se '?' pelo valor de maior frequência na coluna [BI-RADS] também acessível como coluna [0]\n",
        "    df_exercicio_1_1.iloc[lista_index_birads_maligno,[0]] = freq_bi_rads_maligno\n",
        "    \n",
        "exercicio_1_1(df_exercicio_1_1)"
      ],
      "execution_count": null,
      "outputs": []
    },
    {
      "cell_type": "markdown",
      "metadata": {
        "id": "1ItLzn-KTeXr"
      },
      "source": [
        ""
      ]
    },
    {
      "cell_type": "code",
      "metadata": {
        "colab": {
          "base_uri": "https://localhost:8080/",
          "height": 110
        },
        "id": "CWAC00m9RY2W",
        "outputId": "87887052-e95f-4899-c786-1fb4d1737e94"
      },
      "source": [
        "# Dados Ausentes - Dataset original\n",
        "df_mamo_atual[(df_mamo_atual['BI-RADS'] == '?')]"
      ],
      "execution_count": null,
      "outputs": [
        {
          "output_type": "execute_result",
          "data": {
            "text/html": [
              "<div>\n",
              "<style scoped>\n",
              "    .dataframe tbody tr th:only-of-type {\n",
              "        vertical-align: middle;\n",
              "    }\n",
              "\n",
              "    .dataframe tbody tr th {\n",
              "        vertical-align: top;\n",
              "    }\n",
              "\n",
              "    .dataframe thead th {\n",
              "        text-align: right;\n",
              "    }\n",
              "</style>\n",
              "<table border=\"1\" class=\"dataframe\">\n",
              "  <thead>\n",
              "    <tr style=\"text-align: right;\">\n",
              "      <th></th>\n",
              "      <th>BI-RADS</th>\n",
              "      <th>Idade</th>\n",
              "      <th>Forma</th>\n",
              "      <th>Contorno</th>\n",
              "      <th>Densidade</th>\n",
              "      <th>Severidade</th>\n",
              "    </tr>\n",
              "  </thead>\n",
              "  <tbody>\n",
              "    <tr>\n",
              "      <th>20</th>\n",
              "      <td>?</td>\n",
              "      <td>66</td>\n",
              "      <td>?</td>\n",
              "      <td>?</td>\n",
              "      <td>alta</td>\n",
              "      <td>maligno</td>\n",
              "    </tr>\n",
              "    <tr>\n",
              "      <th>208</th>\n",
              "      <td>?</td>\n",
              "      <td>52</td>\n",
              "      <td>irregular</td>\n",
              "      <td>mal definida</td>\n",
              "      <td>baixa</td>\n",
              "      <td>benigno</td>\n",
              "    </tr>\n",
              "  </tbody>\n",
              "</table>\n",
              "</div>"
            ],
            "text/plain": [
              "    BI-RADS Idade      Forma      Contorno Densidade Severidade\n",
              "20        ?    66          ?             ?      alta    maligno\n",
              "208       ?    52  irregular  mal definida     baixa    benigno"
            ]
          },
          "metadata": {},
          "execution_count": 15
        }
      ]
    },
    {
      "cell_type": "code",
      "metadata": {
        "id": "tYtY7h3zYmTL"
      },
      "source": [
        "# Dados Preenchidos no dataset df_exercicio_1_1"
      ],
      "execution_count": null,
      "outputs": []
    },
    {
      "cell_type": "code",
      "metadata": {
        "colab": {
          "base_uri": "https://localhost:8080/",
          "height": 78
        },
        "id": "b5SPS7UgULBV",
        "outputId": "369c2b4c-eca8-4b55-839d-3d14d7594d80"
      },
      "source": [
        "df_exercicio_1_1.loc[df_mamo_atual[(df_mamo_atual['BI-RADS'] == '?') & (df_mamo_atual['Severidade'] == 'maligno')].index]"
      ],
      "execution_count": null,
      "outputs": [
        {
          "output_type": "execute_result",
          "data": {
            "text/html": [
              "<div>\n",
              "<style scoped>\n",
              "    .dataframe tbody tr th:only-of-type {\n",
              "        vertical-align: middle;\n",
              "    }\n",
              "\n",
              "    .dataframe tbody tr th {\n",
              "        vertical-align: top;\n",
              "    }\n",
              "\n",
              "    .dataframe thead th {\n",
              "        text-align: right;\n",
              "    }\n",
              "</style>\n",
              "<table border=\"1\" class=\"dataframe\">\n",
              "  <thead>\n",
              "    <tr style=\"text-align: right;\">\n",
              "      <th></th>\n",
              "      <th>BI-RADS</th>\n",
              "      <th>Idade</th>\n",
              "      <th>Forma</th>\n",
              "      <th>Contorno</th>\n",
              "      <th>Densidade</th>\n",
              "      <th>Severidade</th>\n",
              "    </tr>\n",
              "  </thead>\n",
              "  <tbody>\n",
              "    <tr>\n",
              "      <th>20</th>\n",
              "      <td>5</td>\n",
              "      <td>66</td>\n",
              "      <td>?</td>\n",
              "      <td>?</td>\n",
              "      <td>alta</td>\n",
              "      <td>maligno</td>\n",
              "    </tr>\n",
              "  </tbody>\n",
              "</table>\n",
              "</div>"
            ],
            "text/plain": [
              "   BI-RADS Idade Forma Contorno Densidade Severidade\n",
              "20       5    66     ?        ?      alta    maligno"
            ]
          },
          "metadata": {},
          "execution_count": 17
        }
      ]
    },
    {
      "cell_type": "code",
      "metadata": {
        "colab": {
          "base_uri": "https://localhost:8080/",
          "height": 78
        },
        "id": "01HRjP0BRq3z",
        "outputId": "86565eff-4c41-4f39-8200-7269a3cc8b8f"
      },
      "source": [
        "df_exercicio_1_1.loc[df_mamo_atual[(df_mamo_atual['BI-RADS'] == '?') & (df_mamo_atual['Severidade'] == 'benigno')].index]"
      ],
      "execution_count": null,
      "outputs": [
        {
          "output_type": "execute_result",
          "data": {
            "text/html": [
              "<div>\n",
              "<style scoped>\n",
              "    .dataframe tbody tr th:only-of-type {\n",
              "        vertical-align: middle;\n",
              "    }\n",
              "\n",
              "    .dataframe tbody tr th {\n",
              "        vertical-align: top;\n",
              "    }\n",
              "\n",
              "    .dataframe thead th {\n",
              "        text-align: right;\n",
              "    }\n",
              "</style>\n",
              "<table border=\"1\" class=\"dataframe\">\n",
              "  <thead>\n",
              "    <tr style=\"text-align: right;\">\n",
              "      <th></th>\n",
              "      <th>BI-RADS</th>\n",
              "      <th>Idade</th>\n",
              "      <th>Forma</th>\n",
              "      <th>Contorno</th>\n",
              "      <th>Densidade</th>\n",
              "      <th>Severidade</th>\n",
              "    </tr>\n",
              "  </thead>\n",
              "  <tbody>\n",
              "    <tr>\n",
              "      <th>208</th>\n",
              "      <td>4</td>\n",
              "      <td>52</td>\n",
              "      <td>irregular</td>\n",
              "      <td>mal definida</td>\n",
              "      <td>baixa</td>\n",
              "      <td>benigno</td>\n",
              "    </tr>\n",
              "  </tbody>\n",
              "</table>\n",
              "</div>"
            ],
            "text/plain": [
              "    BI-RADS Idade      Forma      Contorno Densidade Severidade\n",
              "208       4    52  irregular  mal definida     baixa    benigno"
            ]
          },
          "metadata": {},
          "execution_count": 18
        }
      ]
    },
    {
      "cell_type": "markdown",
      "metadata": {
        "id": "uubSgPcUl1OU"
      },
      "source": [
        "# Exercício 1.2. Atributo Idade\n"
      ]
    },
    {
      "cell_type": "code",
      "metadata": {
        "id": "nKOPv3Wql7KO"
      },
      "source": [
        "df_exercicio_1_2 = df_exercicio_1_1.copy(deep=True)"
      ],
      "execution_count": null,
      "outputs": []
    },
    {
      "cell_type": "code",
      "metadata": {
        "colab": {
          "base_uri": "https://localhost:8080/",
          "height": 202
        },
        "id": "7EEmLqbmmLou",
        "outputId": "01dd34a0-cc1f-4553-fb2f-1959d424d9d6"
      },
      "source": [
        "df_exercicio_1_2[(df_exercicio_1_2['Idade'] == '?') & (df_exercicio_1_2['Severidade'] == 'maligno')]"
      ],
      "execution_count": null,
      "outputs": [
        {
          "output_type": "execute_result",
          "data": {
            "text/html": [
              "<div>\n",
              "<style scoped>\n",
              "    .dataframe tbody tr th:only-of-type {\n",
              "        vertical-align: middle;\n",
              "    }\n",
              "\n",
              "    .dataframe tbody tr th {\n",
              "        vertical-align: top;\n",
              "    }\n",
              "\n",
              "    .dataframe thead th {\n",
              "        text-align: right;\n",
              "    }\n",
              "</style>\n",
              "<table border=\"1\" class=\"dataframe\">\n",
              "  <thead>\n",
              "    <tr style=\"text-align: right;\">\n",
              "      <th></th>\n",
              "      <th>BI-RADS</th>\n",
              "      <th>Idade</th>\n",
              "      <th>Forma</th>\n",
              "      <th>Contorno</th>\n",
              "      <th>Densidade</th>\n",
              "      <th>Severidade</th>\n",
              "    </tr>\n",
              "  </thead>\n",
              "  <tbody>\n",
              "    <tr>\n",
              "      <th>443</th>\n",
              "      <td>4</td>\n",
              "      <td>?</td>\n",
              "      <td>irregular</td>\n",
              "      <td>especulada</td>\n",
              "      <td>baixa</td>\n",
              "      <td>maligno</td>\n",
              "    </tr>\n",
              "    <tr>\n",
              "      <th>453</th>\n",
              "      <td>5</td>\n",
              "      <td>?</td>\n",
              "      <td>irregular</td>\n",
              "      <td>mal definida</td>\n",
              "      <td>baixa</td>\n",
              "      <td>maligno</td>\n",
              "    </tr>\n",
              "    <tr>\n",
              "      <th>683</th>\n",
              "      <td>5</td>\n",
              "      <td>?</td>\n",
              "      <td>lobular</td>\n",
              "      <td>obscura</td>\n",
              "      <td>baixa</td>\n",
              "      <td>maligno</td>\n",
              "    </tr>\n",
              "    <tr>\n",
              "      <th>884</th>\n",
              "      <td>5</td>\n",
              "      <td>?</td>\n",
              "      <td>irregular</td>\n",
              "      <td>mal definida</td>\n",
              "      <td>baixa</td>\n",
              "      <td>maligno</td>\n",
              "    </tr>\n",
              "    <tr>\n",
              "      <th>923</th>\n",
              "      <td>5</td>\n",
              "      <td>?</td>\n",
              "      <td>irregular</td>\n",
              "      <td>obscura</td>\n",
              "      <td>baixa</td>\n",
              "      <td>maligno</td>\n",
              "    </tr>\n",
              "  </tbody>\n",
              "</table>\n",
              "</div>"
            ],
            "text/plain": [
              "    BI-RADS Idade      Forma      Contorno Densidade Severidade\n",
              "443       4     ?  irregular    especulada     baixa    maligno\n",
              "453       5     ?  irregular  mal definida     baixa    maligno\n",
              "683       5     ?    lobular       obscura     baixa    maligno\n",
              "884       5     ?  irregular  mal definida     baixa    maligno\n",
              "923       5     ?  irregular       obscura     baixa    maligno"
            ]
          },
          "metadata": {},
          "execution_count": 20
        }
      ]
    },
    {
      "cell_type": "code",
      "metadata": {
        "colab": {
          "base_uri": "https://localhost:8080/"
        },
        "id": "20y5ddT0zXxc",
        "outputId": "ac1c3adc-5d26-4677-f5f2-a0df149deb98"
      },
      "source": [
        "df_media_maligno_ausente = df_exercicio_1_2[(df_exercicio_1_2['Idade'] == '?') & (df_exercicio_1_2['Severidade'] == 'maligno')]\n",
        "df_media_maligno_ausente['Idade'].index"
      ],
      "execution_count": null,
      "outputs": [
        {
          "output_type": "execute_result",
          "data": {
            "text/plain": [
              "Int64Index([443, 453, 683, 884, 923], dtype='int64')"
            ]
          },
          "metadata": {},
          "execution_count": 21
        }
      ]
    },
    {
      "cell_type": "code",
      "metadata": {
        "id": "kzWCTdpAEA6c"
      },
      "source": [
        "def exercicio_1_2(df_exercicio_1_2):\n",
        "    classes_severidade = df_exercicio_1_2['Severidade'].unique()\n",
        "    for nome in range(len(classes_severidade)):        \n",
        "        if df_exercicio_1_2[(df_exercicio_1_2['Idade'] == '?') & (df_exercicio_1_2['Severidade'] == classes_severidade[nome])]['Idade'].count() > 0:\n",
        "            df_media = df_exercicio_1_2[(df_exercicio_1_2['Idade'] != '?') & (df_exercicio_1_2['Severidade'] == classes_severidade[nome])]\n",
        "            lista_idade = []\n",
        "            for i in df_media['Idade']:\n",
        "                lista_idade.append(float(i))\n",
        "            lista_idade = np.array(lista_idade)\n",
        "            media_idade = lista_idade.sum() / len(lista_idade)\n",
        "\n",
        "            media_idade = math.floor(media_idade)\n",
        "            media_idade\n",
        "            #print(\"media \" + classes_severidade[nome], media_idade)\n",
        "            df_linha_ausente = df_exercicio_1_2[(df_exercicio_1_2['Idade'] == '?') & (df_exercicio_1_2['Severidade'] == classes_severidade[nome])]\n",
        "            #print(df_linha_ausente)\n",
        "            lista_linha_ausente = df_linha_ausente['Idade'].index\n",
        "            #print(df_linha_ausente['Idade'])\n",
        "            df_exercicio_1_2.iloc[lista_linha_ausente, [1]] = media_idade\n",
        "\n",
        "exercicio_1_2(df_exercicio_1_2)"
      ],
      "execution_count": null,
      "outputs": []
    },
    {
      "cell_type": "code",
      "metadata": {
        "colab": {
          "base_uri": "https://localhost:8080/",
          "height": 414
        },
        "id": "9_2JTZD_iGC8",
        "outputId": "2991fde1-494c-4bea-bd6b-7b213015de9a"
      },
      "source": [
        "df_exercicio_1_2"
      ],
      "execution_count": null,
      "outputs": [
        {
          "output_type": "execute_result",
          "data": {
            "text/html": [
              "<div>\n",
              "<style scoped>\n",
              "    .dataframe tbody tr th:only-of-type {\n",
              "        vertical-align: middle;\n",
              "    }\n",
              "\n",
              "    .dataframe tbody tr th {\n",
              "        vertical-align: top;\n",
              "    }\n",
              "\n",
              "    .dataframe thead th {\n",
              "        text-align: right;\n",
              "    }\n",
              "</style>\n",
              "<table border=\"1\" class=\"dataframe\">\n",
              "  <thead>\n",
              "    <tr style=\"text-align: right;\">\n",
              "      <th></th>\n",
              "      <th>BI-RADS</th>\n",
              "      <th>Idade</th>\n",
              "      <th>Forma</th>\n",
              "      <th>Contorno</th>\n",
              "      <th>Densidade</th>\n",
              "      <th>Severidade</th>\n",
              "    </tr>\n",
              "  </thead>\n",
              "  <tbody>\n",
              "    <tr>\n",
              "      <th>0</th>\n",
              "      <td>5</td>\n",
              "      <td>67</td>\n",
              "      <td>lobular</td>\n",
              "      <td>especulada</td>\n",
              "      <td>baixa</td>\n",
              "      <td>maligno</td>\n",
              "    </tr>\n",
              "    <tr>\n",
              "      <th>1</th>\n",
              "      <td>4</td>\n",
              "      <td>43</td>\n",
              "      <td>redonda</td>\n",
              "      <td>circunscrita</td>\n",
              "      <td>?</td>\n",
              "      <td>maligno</td>\n",
              "    </tr>\n",
              "    <tr>\n",
              "      <th>2</th>\n",
              "      <td>5</td>\n",
              "      <td>58</td>\n",
              "      <td>irregular</td>\n",
              "      <td>especulada</td>\n",
              "      <td>baixa</td>\n",
              "      <td>maligno</td>\n",
              "    </tr>\n",
              "    <tr>\n",
              "      <th>3</th>\n",
              "      <td>4</td>\n",
              "      <td>28</td>\n",
              "      <td>redonda</td>\n",
              "      <td>circunscrita</td>\n",
              "      <td>baixa</td>\n",
              "      <td>benigno</td>\n",
              "    </tr>\n",
              "    <tr>\n",
              "      <th>4</th>\n",
              "      <td>5</td>\n",
              "      <td>74</td>\n",
              "      <td>redonda</td>\n",
              "      <td>especulada</td>\n",
              "      <td>?</td>\n",
              "      <td>maligno</td>\n",
              "    </tr>\n",
              "    <tr>\n",
              "      <th>...</th>\n",
              "      <td>...</td>\n",
              "      <td>...</td>\n",
              "      <td>...</td>\n",
              "      <td>...</td>\n",
              "      <td>...</td>\n",
              "      <td>...</td>\n",
              "    </tr>\n",
              "    <tr>\n",
              "      <th>956</th>\n",
              "      <td>4</td>\n",
              "      <td>47</td>\n",
              "      <td>oval</td>\n",
              "      <td>circunscrita</td>\n",
              "      <td>baixa</td>\n",
              "      <td>benigno</td>\n",
              "    </tr>\n",
              "    <tr>\n",
              "      <th>957</th>\n",
              "      <td>4</td>\n",
              "      <td>56</td>\n",
              "      <td>irregular</td>\n",
              "      <td>especulada</td>\n",
              "      <td>baixa</td>\n",
              "      <td>maligno</td>\n",
              "    </tr>\n",
              "    <tr>\n",
              "      <th>958</th>\n",
              "      <td>4</td>\n",
              "      <td>64</td>\n",
              "      <td>irregular</td>\n",
              "      <td>especulada</td>\n",
              "      <td>baixa</td>\n",
              "      <td>benigno</td>\n",
              "    </tr>\n",
              "    <tr>\n",
              "      <th>959</th>\n",
              "      <td>5</td>\n",
              "      <td>66</td>\n",
              "      <td>irregular</td>\n",
              "      <td>especulada</td>\n",
              "      <td>baixa</td>\n",
              "      <td>maligno</td>\n",
              "    </tr>\n",
              "    <tr>\n",
              "      <th>960</th>\n",
              "      <td>4</td>\n",
              "      <td>62</td>\n",
              "      <td>lobular</td>\n",
              "      <td>obscura</td>\n",
              "      <td>baixa</td>\n",
              "      <td>benigno</td>\n",
              "    </tr>\n",
              "  </tbody>\n",
              "</table>\n",
              "<p>961 rows × 6 columns</p>\n",
              "</div>"
            ],
            "text/plain": [
              "    BI-RADS Idade      Forma      Contorno Densidade Severidade\n",
              "0         5    67    lobular    especulada     baixa    maligno\n",
              "1         4    43    redonda  circunscrita         ?    maligno\n",
              "2         5    58  irregular    especulada     baixa    maligno\n",
              "3         4    28    redonda  circunscrita     baixa    benigno\n",
              "4         5    74    redonda    especulada         ?    maligno\n",
              "..      ...   ...        ...           ...       ...        ...\n",
              "956       4    47       oval  circunscrita     baixa    benigno\n",
              "957       4    56  irregular    especulada     baixa    maligno\n",
              "958       4    64  irregular    especulada     baixa    benigno\n",
              "959       5    66  irregular    especulada     baixa    maligno\n",
              "960       4    62    lobular       obscura     baixa    benigno\n",
              "\n",
              "[961 rows x 6 columns]"
            ]
          },
          "metadata": {},
          "execution_count": 23
        }
      ]
    },
    {
      "cell_type": "code",
      "metadata": {
        "id": "avYBniWCJ8Z1"
      },
      "source": [
        "#df_exercicio_1_2.iloc[[6],[1]]"
      ],
      "execution_count": null,
      "outputs": []
    },
    {
      "cell_type": "markdown",
      "metadata": {
        "id": "a808ob9fMMu2"
      },
      "source": [
        "# Exercício 1.3. Atributo Forma"
      ]
    },
    {
      "cell_type": "code",
      "metadata": {
        "id": "bp-mqZw8MQfp"
      },
      "source": [
        "df_exercicio_1_3 = df_exercicio_1_2.copy(deep=True)"
      ],
      "execution_count": null,
      "outputs": []
    },
    {
      "cell_type": "code",
      "metadata": {
        "id": "nNi0NSHfSaC2"
      },
      "source": [
        "def exercicio_1_3(df_exercicio_1_3):\n",
        "    nome_classe_severidade = df_exercicio_1_3['Severidade'].unique()\n",
        "    for nome_classe in nome_classe_severidade: \n",
        "        df_linha_ausente = df_exercicio_1_3[(df_exercicio_1_3['Forma'] == '?') & (df_exercicio_1_3['Severidade'] == nome_classe)]\n",
        "        if df_linha_ausente['Forma'].count() > 0:\n",
        "            df_contagem = df_exercicio_1_3[(df_exercicio_1_3['Forma'] != '?') & (df_exercicio_1_3['Severidade'] == nome_classe)]\n",
        "            frequencia_forma_valor = df_contagem['Forma'].value_counts().index.tolist()[0]\n",
        "            #frequencia_forma_contagem = df_contagem['Forma'].value_counts()[0]\n",
        "            df_exercicio_1_3.iloc[df_linha_ausente['Forma'].index, [2]] = frequencia_forma_valor \n",
        "            #= frequencia_forma_valor\n",
        "\n",
        "exercicio_1_3(df_exercicio_1_3)"
      ],
      "execution_count": null,
      "outputs": []
    },
    {
      "cell_type": "code",
      "metadata": {
        "colab": {
          "base_uri": "https://localhost:8080/",
          "height": 414
        },
        "id": "xFQx6lDLiPMW",
        "outputId": "e8172687-ce69-4574-d256-5a37cba8a82e"
      },
      "source": [
        "df_exercicio_1_3"
      ],
      "execution_count": null,
      "outputs": [
        {
          "output_type": "execute_result",
          "data": {
            "text/html": [
              "<div>\n",
              "<style scoped>\n",
              "    .dataframe tbody tr th:only-of-type {\n",
              "        vertical-align: middle;\n",
              "    }\n",
              "\n",
              "    .dataframe tbody tr th {\n",
              "        vertical-align: top;\n",
              "    }\n",
              "\n",
              "    .dataframe thead th {\n",
              "        text-align: right;\n",
              "    }\n",
              "</style>\n",
              "<table border=\"1\" class=\"dataframe\">\n",
              "  <thead>\n",
              "    <tr style=\"text-align: right;\">\n",
              "      <th></th>\n",
              "      <th>BI-RADS</th>\n",
              "      <th>Idade</th>\n",
              "      <th>Forma</th>\n",
              "      <th>Contorno</th>\n",
              "      <th>Densidade</th>\n",
              "      <th>Severidade</th>\n",
              "    </tr>\n",
              "  </thead>\n",
              "  <tbody>\n",
              "    <tr>\n",
              "      <th>0</th>\n",
              "      <td>5</td>\n",
              "      <td>67</td>\n",
              "      <td>lobular</td>\n",
              "      <td>especulada</td>\n",
              "      <td>baixa</td>\n",
              "      <td>maligno</td>\n",
              "    </tr>\n",
              "    <tr>\n",
              "      <th>1</th>\n",
              "      <td>4</td>\n",
              "      <td>43</td>\n",
              "      <td>redonda</td>\n",
              "      <td>circunscrita</td>\n",
              "      <td>?</td>\n",
              "      <td>maligno</td>\n",
              "    </tr>\n",
              "    <tr>\n",
              "      <th>2</th>\n",
              "      <td>5</td>\n",
              "      <td>58</td>\n",
              "      <td>irregular</td>\n",
              "      <td>especulada</td>\n",
              "      <td>baixa</td>\n",
              "      <td>maligno</td>\n",
              "    </tr>\n",
              "    <tr>\n",
              "      <th>3</th>\n",
              "      <td>4</td>\n",
              "      <td>28</td>\n",
              "      <td>redonda</td>\n",
              "      <td>circunscrita</td>\n",
              "      <td>baixa</td>\n",
              "      <td>benigno</td>\n",
              "    </tr>\n",
              "    <tr>\n",
              "      <th>4</th>\n",
              "      <td>5</td>\n",
              "      <td>74</td>\n",
              "      <td>redonda</td>\n",
              "      <td>especulada</td>\n",
              "      <td>?</td>\n",
              "      <td>maligno</td>\n",
              "    </tr>\n",
              "    <tr>\n",
              "      <th>...</th>\n",
              "      <td>...</td>\n",
              "      <td>...</td>\n",
              "      <td>...</td>\n",
              "      <td>...</td>\n",
              "      <td>...</td>\n",
              "      <td>...</td>\n",
              "    </tr>\n",
              "    <tr>\n",
              "      <th>956</th>\n",
              "      <td>4</td>\n",
              "      <td>47</td>\n",
              "      <td>oval</td>\n",
              "      <td>circunscrita</td>\n",
              "      <td>baixa</td>\n",
              "      <td>benigno</td>\n",
              "    </tr>\n",
              "    <tr>\n",
              "      <th>957</th>\n",
              "      <td>4</td>\n",
              "      <td>56</td>\n",
              "      <td>irregular</td>\n",
              "      <td>especulada</td>\n",
              "      <td>baixa</td>\n",
              "      <td>maligno</td>\n",
              "    </tr>\n",
              "    <tr>\n",
              "      <th>958</th>\n",
              "      <td>4</td>\n",
              "      <td>64</td>\n",
              "      <td>irregular</td>\n",
              "      <td>especulada</td>\n",
              "      <td>baixa</td>\n",
              "      <td>benigno</td>\n",
              "    </tr>\n",
              "    <tr>\n",
              "      <th>959</th>\n",
              "      <td>5</td>\n",
              "      <td>66</td>\n",
              "      <td>irregular</td>\n",
              "      <td>especulada</td>\n",
              "      <td>baixa</td>\n",
              "      <td>maligno</td>\n",
              "    </tr>\n",
              "    <tr>\n",
              "      <th>960</th>\n",
              "      <td>4</td>\n",
              "      <td>62</td>\n",
              "      <td>lobular</td>\n",
              "      <td>obscura</td>\n",
              "      <td>baixa</td>\n",
              "      <td>benigno</td>\n",
              "    </tr>\n",
              "  </tbody>\n",
              "</table>\n",
              "<p>961 rows × 6 columns</p>\n",
              "</div>"
            ],
            "text/plain": [
              "    BI-RADS Idade      Forma      Contorno Densidade Severidade\n",
              "0         5    67    lobular    especulada     baixa    maligno\n",
              "1         4    43    redonda  circunscrita         ?    maligno\n",
              "2         5    58  irregular    especulada     baixa    maligno\n",
              "3         4    28    redonda  circunscrita     baixa    benigno\n",
              "4         5    74    redonda    especulada         ?    maligno\n",
              "..      ...   ...        ...           ...       ...        ...\n",
              "956       4    47       oval  circunscrita     baixa    benigno\n",
              "957       4    56  irregular    especulada     baixa    maligno\n",
              "958       4    64  irregular    especulada     baixa    benigno\n",
              "959       5    66  irregular    especulada     baixa    maligno\n",
              "960       4    62    lobular       obscura     baixa    benigno\n",
              "\n",
              "[961 rows x 6 columns]"
            ]
          },
          "metadata": {},
          "execution_count": 27
        }
      ]
    },
    {
      "cell_type": "markdown",
      "metadata": {
        "id": "5Hi5tSXnXh13"
      },
      "source": [
        "# Exercício 1.4. Atributo Contorno"
      ]
    },
    {
      "cell_type": "code",
      "metadata": {
        "id": "h0wzD7ieX0F8"
      },
      "source": [
        "df_exercicio_1_4 = df_exercicio_1_3.copy(deep=True)"
      ],
      "execution_count": null,
      "outputs": []
    },
    {
      "cell_type": "code",
      "metadata": {
        "id": "vuhI-6omYkra"
      },
      "source": [
        "#idx_maligno = df_exercicio_1_4[(df_exercicio_1_4['Contorno'] == '?') & (df_exercicio_1_4['Severidade'] == 'maligno')]['Contorno'].index"
      ],
      "execution_count": null,
      "outputs": []
    },
    {
      "cell_type": "code",
      "metadata": {
        "id": "TZSoPayFY8ce"
      },
      "source": [
        "#idx_benigno = df_exercicio_1_4[(df_exercicio_1_4['Contorno'] == '?') & (df_exercicio_1_4['Severidade'] == 'benigno')]['Contorno'].index"
      ],
      "execution_count": null,
      "outputs": []
    },
    {
      "cell_type": "code",
      "metadata": {
        "id": "sCOD33joXlqk"
      },
      "source": [
        "def exercicio_1_4(df_exercicio_1_4):\n",
        "    nome_classe_contorno = df_exercicio_1_4['Severidade'].unique()\n",
        "    for nome_classe in nome_classe_contorno: \n",
        "        df_linha_ausente = df_exercicio_1_4[(df_exercicio_1_4['Contorno'] == '?') & (df_exercicio_1_4['Severidade'] == nome_classe)]\n",
        "        if df_linha_ausente['Contorno'].count() > 0:\n",
        "            df_contagem = df_exercicio_1_4[(df_exercicio_1_4['Contorno'] != '?') & (df_exercicio_1_4['Severidade'] == nome_classe)]\n",
        "            frequencia_contorno_valor = df_contagem['Contorno'].value_counts().index.tolist()[0]\n",
        "            #frequencia_forma_contagem = df_contagem['Forma'].value_counts()[0]\n",
        "            df_exercicio_1_4.iloc[df_linha_ausente['Contorno'].index, [3]] = frequencia_contorno_valor \n",
        "            #= frequencia_forma_valor\n",
        "\n",
        "exercicio_1_4(df_exercicio_1_4)"
      ],
      "execution_count": null,
      "outputs": []
    },
    {
      "cell_type": "code",
      "metadata": {
        "colab": {
          "base_uri": "https://localhost:8080/",
          "height": 414
        },
        "id": "Y4T8Nf0miX9N",
        "outputId": "a9782afe-3962-4520-87da-369702ab1ab1"
      },
      "source": [
        "df_exercicio_1_4"
      ],
      "execution_count": null,
      "outputs": [
        {
          "output_type": "execute_result",
          "data": {
            "text/html": [
              "<div>\n",
              "<style scoped>\n",
              "    .dataframe tbody tr th:only-of-type {\n",
              "        vertical-align: middle;\n",
              "    }\n",
              "\n",
              "    .dataframe tbody tr th {\n",
              "        vertical-align: top;\n",
              "    }\n",
              "\n",
              "    .dataframe thead th {\n",
              "        text-align: right;\n",
              "    }\n",
              "</style>\n",
              "<table border=\"1\" class=\"dataframe\">\n",
              "  <thead>\n",
              "    <tr style=\"text-align: right;\">\n",
              "      <th></th>\n",
              "      <th>BI-RADS</th>\n",
              "      <th>Idade</th>\n",
              "      <th>Forma</th>\n",
              "      <th>Contorno</th>\n",
              "      <th>Densidade</th>\n",
              "      <th>Severidade</th>\n",
              "    </tr>\n",
              "  </thead>\n",
              "  <tbody>\n",
              "    <tr>\n",
              "      <th>0</th>\n",
              "      <td>5</td>\n",
              "      <td>67</td>\n",
              "      <td>lobular</td>\n",
              "      <td>especulada</td>\n",
              "      <td>baixa</td>\n",
              "      <td>maligno</td>\n",
              "    </tr>\n",
              "    <tr>\n",
              "      <th>1</th>\n",
              "      <td>4</td>\n",
              "      <td>43</td>\n",
              "      <td>redonda</td>\n",
              "      <td>circunscrita</td>\n",
              "      <td>?</td>\n",
              "      <td>maligno</td>\n",
              "    </tr>\n",
              "    <tr>\n",
              "      <th>2</th>\n",
              "      <td>5</td>\n",
              "      <td>58</td>\n",
              "      <td>irregular</td>\n",
              "      <td>especulada</td>\n",
              "      <td>baixa</td>\n",
              "      <td>maligno</td>\n",
              "    </tr>\n",
              "    <tr>\n",
              "      <th>3</th>\n",
              "      <td>4</td>\n",
              "      <td>28</td>\n",
              "      <td>redonda</td>\n",
              "      <td>circunscrita</td>\n",
              "      <td>baixa</td>\n",
              "      <td>benigno</td>\n",
              "    </tr>\n",
              "    <tr>\n",
              "      <th>4</th>\n",
              "      <td>5</td>\n",
              "      <td>74</td>\n",
              "      <td>redonda</td>\n",
              "      <td>especulada</td>\n",
              "      <td>?</td>\n",
              "      <td>maligno</td>\n",
              "    </tr>\n",
              "    <tr>\n",
              "      <th>...</th>\n",
              "      <td>...</td>\n",
              "      <td>...</td>\n",
              "      <td>...</td>\n",
              "      <td>...</td>\n",
              "      <td>...</td>\n",
              "      <td>...</td>\n",
              "    </tr>\n",
              "    <tr>\n",
              "      <th>956</th>\n",
              "      <td>4</td>\n",
              "      <td>47</td>\n",
              "      <td>oval</td>\n",
              "      <td>circunscrita</td>\n",
              "      <td>baixa</td>\n",
              "      <td>benigno</td>\n",
              "    </tr>\n",
              "    <tr>\n",
              "      <th>957</th>\n",
              "      <td>4</td>\n",
              "      <td>56</td>\n",
              "      <td>irregular</td>\n",
              "      <td>especulada</td>\n",
              "      <td>baixa</td>\n",
              "      <td>maligno</td>\n",
              "    </tr>\n",
              "    <tr>\n",
              "      <th>958</th>\n",
              "      <td>4</td>\n",
              "      <td>64</td>\n",
              "      <td>irregular</td>\n",
              "      <td>especulada</td>\n",
              "      <td>baixa</td>\n",
              "      <td>benigno</td>\n",
              "    </tr>\n",
              "    <tr>\n",
              "      <th>959</th>\n",
              "      <td>5</td>\n",
              "      <td>66</td>\n",
              "      <td>irregular</td>\n",
              "      <td>especulada</td>\n",
              "      <td>baixa</td>\n",
              "      <td>maligno</td>\n",
              "    </tr>\n",
              "    <tr>\n",
              "      <th>960</th>\n",
              "      <td>4</td>\n",
              "      <td>62</td>\n",
              "      <td>lobular</td>\n",
              "      <td>obscura</td>\n",
              "      <td>baixa</td>\n",
              "      <td>benigno</td>\n",
              "    </tr>\n",
              "  </tbody>\n",
              "</table>\n",
              "<p>961 rows × 6 columns</p>\n",
              "</div>"
            ],
            "text/plain": [
              "    BI-RADS Idade      Forma      Contorno Densidade Severidade\n",
              "0         5    67    lobular    especulada     baixa    maligno\n",
              "1         4    43    redonda  circunscrita         ?    maligno\n",
              "2         5    58  irregular    especulada     baixa    maligno\n",
              "3         4    28    redonda  circunscrita     baixa    benigno\n",
              "4         5    74    redonda    especulada         ?    maligno\n",
              "..      ...   ...        ...           ...       ...        ...\n",
              "956       4    47       oval  circunscrita     baixa    benigno\n",
              "957       4    56  irregular    especulada     baixa    maligno\n",
              "958       4    64  irregular    especulada     baixa    benigno\n",
              "959       5    66  irregular    especulada     baixa    maligno\n",
              "960       4    62    lobular       obscura     baixa    benigno\n",
              "\n",
              "[961 rows x 6 columns]"
            ]
          },
          "metadata": {},
          "execution_count": 32
        }
      ]
    },
    {
      "cell_type": "code",
      "metadata": {
        "id": "ZmbdXFKfaWq8"
      },
      "source": [
        "#df_exercicio_1_4.iloc[idx_maligno,[3]]"
      ],
      "execution_count": null,
      "outputs": []
    },
    {
      "cell_type": "code",
      "metadata": {
        "id": "x9HPRL6xaYO6"
      },
      "source": [
        "#df_exercicio_1_4.iloc[idx_benigno,[3]]"
      ],
      "execution_count": null,
      "outputs": []
    },
    {
      "cell_type": "markdown",
      "metadata": {
        "id": "ISEp5dncbYoA"
      },
      "source": [
        "# Exercício 1.5. Atributo Densidade"
      ]
    },
    {
      "cell_type": "code",
      "metadata": {
        "colab": {
          "base_uri": "https://localhost:8080/",
          "height": 414
        },
        "id": "DNI9b41qbbV2",
        "outputId": "5d8608a9-3968-46c3-b7b7-0cfdcaaaa8cf"
      },
      "source": [
        "df_exercicio_1_5 = df_exercicio_1_4.copy(deep=True)\n",
        "df_exercicio_1_5"
      ],
      "execution_count": null,
      "outputs": [
        {
          "output_type": "execute_result",
          "data": {
            "text/html": [
              "<div>\n",
              "<style scoped>\n",
              "    .dataframe tbody tr th:only-of-type {\n",
              "        vertical-align: middle;\n",
              "    }\n",
              "\n",
              "    .dataframe tbody tr th {\n",
              "        vertical-align: top;\n",
              "    }\n",
              "\n",
              "    .dataframe thead th {\n",
              "        text-align: right;\n",
              "    }\n",
              "</style>\n",
              "<table border=\"1\" class=\"dataframe\">\n",
              "  <thead>\n",
              "    <tr style=\"text-align: right;\">\n",
              "      <th></th>\n",
              "      <th>BI-RADS</th>\n",
              "      <th>Idade</th>\n",
              "      <th>Forma</th>\n",
              "      <th>Contorno</th>\n",
              "      <th>Densidade</th>\n",
              "      <th>Severidade</th>\n",
              "    </tr>\n",
              "  </thead>\n",
              "  <tbody>\n",
              "    <tr>\n",
              "      <th>0</th>\n",
              "      <td>5</td>\n",
              "      <td>67</td>\n",
              "      <td>lobular</td>\n",
              "      <td>especulada</td>\n",
              "      <td>baixa</td>\n",
              "      <td>maligno</td>\n",
              "    </tr>\n",
              "    <tr>\n",
              "      <th>1</th>\n",
              "      <td>4</td>\n",
              "      <td>43</td>\n",
              "      <td>redonda</td>\n",
              "      <td>circunscrita</td>\n",
              "      <td>?</td>\n",
              "      <td>maligno</td>\n",
              "    </tr>\n",
              "    <tr>\n",
              "      <th>2</th>\n",
              "      <td>5</td>\n",
              "      <td>58</td>\n",
              "      <td>irregular</td>\n",
              "      <td>especulada</td>\n",
              "      <td>baixa</td>\n",
              "      <td>maligno</td>\n",
              "    </tr>\n",
              "    <tr>\n",
              "      <th>3</th>\n",
              "      <td>4</td>\n",
              "      <td>28</td>\n",
              "      <td>redonda</td>\n",
              "      <td>circunscrita</td>\n",
              "      <td>baixa</td>\n",
              "      <td>benigno</td>\n",
              "    </tr>\n",
              "    <tr>\n",
              "      <th>4</th>\n",
              "      <td>5</td>\n",
              "      <td>74</td>\n",
              "      <td>redonda</td>\n",
              "      <td>especulada</td>\n",
              "      <td>?</td>\n",
              "      <td>maligno</td>\n",
              "    </tr>\n",
              "    <tr>\n",
              "      <th>...</th>\n",
              "      <td>...</td>\n",
              "      <td>...</td>\n",
              "      <td>...</td>\n",
              "      <td>...</td>\n",
              "      <td>...</td>\n",
              "      <td>...</td>\n",
              "    </tr>\n",
              "    <tr>\n",
              "      <th>956</th>\n",
              "      <td>4</td>\n",
              "      <td>47</td>\n",
              "      <td>oval</td>\n",
              "      <td>circunscrita</td>\n",
              "      <td>baixa</td>\n",
              "      <td>benigno</td>\n",
              "    </tr>\n",
              "    <tr>\n",
              "      <th>957</th>\n",
              "      <td>4</td>\n",
              "      <td>56</td>\n",
              "      <td>irregular</td>\n",
              "      <td>especulada</td>\n",
              "      <td>baixa</td>\n",
              "      <td>maligno</td>\n",
              "    </tr>\n",
              "    <tr>\n",
              "      <th>958</th>\n",
              "      <td>4</td>\n",
              "      <td>64</td>\n",
              "      <td>irregular</td>\n",
              "      <td>especulada</td>\n",
              "      <td>baixa</td>\n",
              "      <td>benigno</td>\n",
              "    </tr>\n",
              "    <tr>\n",
              "      <th>959</th>\n",
              "      <td>5</td>\n",
              "      <td>66</td>\n",
              "      <td>irregular</td>\n",
              "      <td>especulada</td>\n",
              "      <td>baixa</td>\n",
              "      <td>maligno</td>\n",
              "    </tr>\n",
              "    <tr>\n",
              "      <th>960</th>\n",
              "      <td>4</td>\n",
              "      <td>62</td>\n",
              "      <td>lobular</td>\n",
              "      <td>obscura</td>\n",
              "      <td>baixa</td>\n",
              "      <td>benigno</td>\n",
              "    </tr>\n",
              "  </tbody>\n",
              "</table>\n",
              "<p>961 rows × 6 columns</p>\n",
              "</div>"
            ],
            "text/plain": [
              "    BI-RADS Idade      Forma      Contorno Densidade Severidade\n",
              "0         5    67    lobular    especulada     baixa    maligno\n",
              "1         4    43    redonda  circunscrita         ?    maligno\n",
              "2         5    58  irregular    especulada     baixa    maligno\n",
              "3         4    28    redonda  circunscrita     baixa    benigno\n",
              "4         5    74    redonda    especulada         ?    maligno\n",
              "..      ...   ...        ...           ...       ...        ...\n",
              "956       4    47       oval  circunscrita     baixa    benigno\n",
              "957       4    56  irregular    especulada     baixa    maligno\n",
              "958       4    64  irregular    especulada     baixa    benigno\n",
              "959       5    66  irregular    especulada     baixa    maligno\n",
              "960       4    62    lobular       obscura     baixa    benigno\n",
              "\n",
              "[961 rows x 6 columns]"
            ]
          },
          "metadata": {},
          "execution_count": 35
        }
      ]
    },
    {
      "cell_type": "code",
      "metadata": {
        "id": "WMETR18qdJlk"
      },
      "source": [
        "#idx_maligno = df_exercicio_1_5[(df_exercicio_1_5['Densidade'] == '?') & (df_exercicio_1_5['Severidade'] == 'maligno')]['Densidade'].index\n",
        "#df_exercicio_1_5[(df_exercicio_1_5['Densidade'] == '?') & (df_exercicio_1_5['Severidade'] == 'maligno')]['Densidade']"
      ],
      "execution_count": null,
      "outputs": []
    },
    {
      "cell_type": "code",
      "metadata": {
        "id": "CgC0JO6ndLrM"
      },
      "source": [
        "#idx_benigno = df_exercicio_1_5[(df_exercicio_1_5['Densidade'] == '?') & (df_exercicio_1_5['Severidade'] == 'benigno')]['Densidade'].index\n",
        "#df_exercicio_1_5[(df_exercicio_1_5['Densidade'] == '?') & (df_exercicio_1_5['Severidade'] == 'benigno')]['Densidade']"
      ],
      "execution_count": null,
      "outputs": []
    },
    {
      "cell_type": "code",
      "metadata": {
        "id": "fsiRnvEqbfr6"
      },
      "source": [
        "def exercicio_1_5(df_exercicio_1_5):\n",
        "    nome_classe_contorno = df_exercicio_1_5['Severidade'].unique()\n",
        "    for nome_classe in nome_classe_contorno: \n",
        "        df_linha_ausente = df_exercicio_1_5[(df_exercicio_1_5['Densidade'] == '?') & (df_exercicio_1_5['Severidade'] == nome_classe)]\n",
        "        if df_linha_ausente['Densidade'].count() > 0:\n",
        "            df_contagem = df_exercicio_1_5[(df_exercicio_1_5['Densidade'] != '?') & (df_exercicio_1_5['Severidade'] == nome_classe)]\n",
        "            frequencia_contorno_valor = df_contagem['Densidade'].value_counts().index.tolist()[0]\n",
        "            #frequencia_forma_contagem = df_contagem['Forma'].value_counts()[0]\n",
        "            df_exercicio_1_5.iloc[df_linha_ausente['Densidade'].index, [4]] = frequencia_contorno_valor \n",
        "            #= frequencia_forma_valor\n",
        "\n",
        "exercicio_1_5(df_exercicio_1_5)"
      ],
      "execution_count": null,
      "outputs": []
    },
    {
      "cell_type": "code",
      "metadata": {
        "colab": {
          "base_uri": "https://localhost:8080/",
          "height": 414
        },
        "id": "7dJ3Cgomis5l",
        "outputId": "11d87480-f2cb-42a7-cf92-f1e99c59ca63"
      },
      "source": [
        "df_exercicio_1_5"
      ],
      "execution_count": null,
      "outputs": [
        {
          "output_type": "execute_result",
          "data": {
            "text/html": [
              "<div>\n",
              "<style scoped>\n",
              "    .dataframe tbody tr th:only-of-type {\n",
              "        vertical-align: middle;\n",
              "    }\n",
              "\n",
              "    .dataframe tbody tr th {\n",
              "        vertical-align: top;\n",
              "    }\n",
              "\n",
              "    .dataframe thead th {\n",
              "        text-align: right;\n",
              "    }\n",
              "</style>\n",
              "<table border=\"1\" class=\"dataframe\">\n",
              "  <thead>\n",
              "    <tr style=\"text-align: right;\">\n",
              "      <th></th>\n",
              "      <th>BI-RADS</th>\n",
              "      <th>Idade</th>\n",
              "      <th>Forma</th>\n",
              "      <th>Contorno</th>\n",
              "      <th>Densidade</th>\n",
              "      <th>Severidade</th>\n",
              "    </tr>\n",
              "  </thead>\n",
              "  <tbody>\n",
              "    <tr>\n",
              "      <th>0</th>\n",
              "      <td>5</td>\n",
              "      <td>67</td>\n",
              "      <td>lobular</td>\n",
              "      <td>especulada</td>\n",
              "      <td>baixa</td>\n",
              "      <td>maligno</td>\n",
              "    </tr>\n",
              "    <tr>\n",
              "      <th>1</th>\n",
              "      <td>4</td>\n",
              "      <td>43</td>\n",
              "      <td>redonda</td>\n",
              "      <td>circunscrita</td>\n",
              "      <td>baixa</td>\n",
              "      <td>maligno</td>\n",
              "    </tr>\n",
              "    <tr>\n",
              "      <th>2</th>\n",
              "      <td>5</td>\n",
              "      <td>58</td>\n",
              "      <td>irregular</td>\n",
              "      <td>especulada</td>\n",
              "      <td>baixa</td>\n",
              "      <td>maligno</td>\n",
              "    </tr>\n",
              "    <tr>\n",
              "      <th>3</th>\n",
              "      <td>4</td>\n",
              "      <td>28</td>\n",
              "      <td>redonda</td>\n",
              "      <td>circunscrita</td>\n",
              "      <td>baixa</td>\n",
              "      <td>benigno</td>\n",
              "    </tr>\n",
              "    <tr>\n",
              "      <th>4</th>\n",
              "      <td>5</td>\n",
              "      <td>74</td>\n",
              "      <td>redonda</td>\n",
              "      <td>especulada</td>\n",
              "      <td>baixa</td>\n",
              "      <td>maligno</td>\n",
              "    </tr>\n",
              "    <tr>\n",
              "      <th>...</th>\n",
              "      <td>...</td>\n",
              "      <td>...</td>\n",
              "      <td>...</td>\n",
              "      <td>...</td>\n",
              "      <td>...</td>\n",
              "      <td>...</td>\n",
              "    </tr>\n",
              "    <tr>\n",
              "      <th>956</th>\n",
              "      <td>4</td>\n",
              "      <td>47</td>\n",
              "      <td>oval</td>\n",
              "      <td>circunscrita</td>\n",
              "      <td>baixa</td>\n",
              "      <td>benigno</td>\n",
              "    </tr>\n",
              "    <tr>\n",
              "      <th>957</th>\n",
              "      <td>4</td>\n",
              "      <td>56</td>\n",
              "      <td>irregular</td>\n",
              "      <td>especulada</td>\n",
              "      <td>baixa</td>\n",
              "      <td>maligno</td>\n",
              "    </tr>\n",
              "    <tr>\n",
              "      <th>958</th>\n",
              "      <td>4</td>\n",
              "      <td>64</td>\n",
              "      <td>irregular</td>\n",
              "      <td>especulada</td>\n",
              "      <td>baixa</td>\n",
              "      <td>benigno</td>\n",
              "    </tr>\n",
              "    <tr>\n",
              "      <th>959</th>\n",
              "      <td>5</td>\n",
              "      <td>66</td>\n",
              "      <td>irregular</td>\n",
              "      <td>especulada</td>\n",
              "      <td>baixa</td>\n",
              "      <td>maligno</td>\n",
              "    </tr>\n",
              "    <tr>\n",
              "      <th>960</th>\n",
              "      <td>4</td>\n",
              "      <td>62</td>\n",
              "      <td>lobular</td>\n",
              "      <td>obscura</td>\n",
              "      <td>baixa</td>\n",
              "      <td>benigno</td>\n",
              "    </tr>\n",
              "  </tbody>\n",
              "</table>\n",
              "<p>961 rows × 6 columns</p>\n",
              "</div>"
            ],
            "text/plain": [
              "    BI-RADS Idade      Forma      Contorno Densidade Severidade\n",
              "0         5    67    lobular    especulada     baixa    maligno\n",
              "1         4    43    redonda  circunscrita     baixa    maligno\n",
              "2         5    58  irregular    especulada     baixa    maligno\n",
              "3         4    28    redonda  circunscrita     baixa    benigno\n",
              "4         5    74    redonda    especulada     baixa    maligno\n",
              "..      ...   ...        ...           ...       ...        ...\n",
              "956       4    47       oval  circunscrita     baixa    benigno\n",
              "957       4    56  irregular    especulada     baixa    maligno\n",
              "958       4    64  irregular    especulada     baixa    benigno\n",
              "959       5    66  irregular    especulada     baixa    maligno\n",
              "960       4    62    lobular       obscura     baixa    benigno\n",
              "\n",
              "[961 rows x 6 columns]"
            ]
          },
          "metadata": {},
          "execution_count": 39
        }
      ]
    },
    {
      "cell_type": "code",
      "metadata": {
        "id": "UmmiBxmRdtqM"
      },
      "source": [
        "#df_exercicio_1_5.iloc[idx_maligno, [4]]"
      ],
      "execution_count": null,
      "outputs": []
    },
    {
      "cell_type": "code",
      "metadata": {
        "id": "Tc_4X2RBd4tI"
      },
      "source": [
        "#df_exercicio_1_5.iloc[idx_benigno, [4]]"
      ],
      "execution_count": null,
      "outputs": []
    },
    {
      "cell_type": "markdown",
      "metadata": {
        "id": "RQhfqx-DeMSz"
      },
      "source": [
        "# Exercício 2. Discretização - Método do encaixotamento de mesma largura"
      ]
    },
    {
      "cell_type": "code",
      "metadata": {
        "id": "fEyHPGsjemjj"
      },
      "source": [
        "df_exercicio_2 = df_exercicio_1_5.copy(deep=True)"
      ],
      "execution_count": null,
      "outputs": []
    },
    {
      "cell_type": "code",
      "metadata": {
        "id": "699WVtL-e52D"
      },
      "source": [
        "#Constroi as caixas com os valores em cada intervalo\n",
        "def forma_bin(dados, inicio, boundary):\n",
        "    if inicio < len(boundary):\n",
        "        if boundary[inicio] != dados[len(dados)-1]: #intervalo [a, b)\n",
        "            saida = list(filter(lambda x: (x >= boundary[inicio-1] and x < boundary[inicio]), dados))        \n",
        "            return [saida] + forma_bin(dados, inicio+1, boundary)\n",
        "        elif boundary[inicio] == dados[len(dados)-1]: # Se for o último elemento, o intervalo é fechado [a, b]            \n",
        "            saida = list(filter(lambda x: (x >= boundary[inicio-1] and x <= boundary[inicio]), dados))\n",
        "            return [saida]\n",
        "    else:\n",
        "        return []\n",
        "\n",
        "def exercicio_2(df_exercicio_2):\n",
        "    #Encaixotamento\n",
        "    numBins = 6\n",
        "    #array com as idades da base de dados\n",
        "    dados = list(df_exercicio_2['Idade'].astype(int))\n",
        "    #ordenação dos dados\n",
        "    dados.sort()\n",
        "    #print(\"Lista de dados:\", dados)\n",
        "    menor = min(dados)\n",
        "    maior = max(dados)\n",
        "    #print(\"menor:\", menor, \"\\nmaior:\", maior)\n",
        "    intervalo = math.floor((maior - menor) / numBins)\n",
        "\n",
        "    boundary = []\n",
        "    for b in range(0,numBins+1):\n",
        "        boundary = boundary + [(menor + b*intervalo)]\n",
        "    #print(\"boundary:\", boundary)\n",
        "    \n",
        "\n",
        "    #print(\"intervalo:\", intervalo)\n",
        "    bin = forma_bin(dados, 1, boundary)\n",
        "    #print(\"Partição em caixas de mesma largura:\", bin)\n",
        "    #print(\"tamanho da Partição:\", len(bin[0]))\n",
        "\n",
        "\n",
        "    #Cálculo das médias de cada bin\n",
        "    soma = 0\n",
        "    media = []\n",
        "    for lista in bin:\n",
        "        for elemento in lista:\n",
        "            soma = soma + elemento\n",
        "        media = media + [math.floor(soma/len(lista))]\n",
        "        soma = 0\n",
        "\n",
        "    #print(\"Média de cada caixa:\", media)\n",
        "\n",
        "    #suavizacao: substituição dos valores de cada bin pela respectiva média\n",
        "    bin_media = []\n",
        "    for lista in bin:\n",
        "        lista_temp = lista.copy()\n",
        "        bin_media.append(lista_temp)\n",
        "\n",
        "    for i in range(len(bin_media)):\n",
        "        for j in range(len(bin_media[i])):\n",
        "            bin_media[i][j] = media[i]\n",
        "\n",
        "    #print(\"Suavização:\", bin_media)\n",
        "\n",
        "    #Substituição das idades pelas das médias obtidas no encaixotamento\n",
        "    #Tornando os valores de idade em inteiros\n",
        "    df_exercicio_2['Idade']  = df_exercicio_2['Idade'].astype(int)\n",
        "\n",
        "    #Substituição\n",
        "    for indice in range(len(media)): # São 5 bins, logo 6 médias no total\n",
        "        for idade_caixa in np.unique(bin[indice]): \n",
        "            # Para cada valor de média, busca-se os valores únicos do bin associado\n",
        "            df_exercicio_2['Idade'].replace({int(idade_caixa): media[indice]}, inplace=True)\n",
        "\n",
        "#Chamada da função principal\n",
        "exercicio_2(df_exercicio_2)"
      ],
      "execution_count": null,
      "outputs": []
    },
    {
      "cell_type": "code",
      "metadata": {
        "id": "0R3njahY-nL-"
      },
      "source": [
        "#for i in range(len(testeOriginal)):\n",
        "#    print(\"Original:\",testeOriginal[i], \"Novo:\", testeNovo[i])"
      ],
      "execution_count": null,
      "outputs": []
    },
    {
      "cell_type": "code",
      "metadata": {
        "id": "FdkNh6E4tGR0"
      },
      "source": [
        "#c = df_exercicio_2['Idade'].unique()\n",
        "#c.sort()\n",
        "#c"
      ],
      "execution_count": null,
      "outputs": []
    },
    {
      "cell_type": "code",
      "metadata": {
        "colab": {
          "base_uri": "https://localhost:8080/",
          "height": 414
        },
        "id": "O1pngOvGF1ye",
        "outputId": "ae59dece-bc78-4bfd-9b6d-5961553805b9"
      },
      "source": [
        "df_exercicio_2"
      ],
      "execution_count": null,
      "outputs": [
        {
          "output_type": "execute_result",
          "data": {
            "text/html": [
              "<div>\n",
              "<style scoped>\n",
              "    .dataframe tbody tr th:only-of-type {\n",
              "        vertical-align: middle;\n",
              "    }\n",
              "\n",
              "    .dataframe tbody tr th {\n",
              "        vertical-align: top;\n",
              "    }\n",
              "\n",
              "    .dataframe thead th {\n",
              "        text-align: right;\n",
              "    }\n",
              "</style>\n",
              "<table border=\"1\" class=\"dataframe\">\n",
              "  <thead>\n",
              "    <tr style=\"text-align: right;\">\n",
              "      <th></th>\n",
              "      <th>BI-RADS</th>\n",
              "      <th>Idade</th>\n",
              "      <th>Forma</th>\n",
              "      <th>Contorno</th>\n",
              "      <th>Densidade</th>\n",
              "      <th>Severidade</th>\n",
              "    </tr>\n",
              "  </thead>\n",
              "  <tbody>\n",
              "    <tr>\n",
              "      <th>0</th>\n",
              "      <td>5</td>\n",
              "      <td>62</td>\n",
              "      <td>lobular</td>\n",
              "      <td>especulada</td>\n",
              "      <td>baixa</td>\n",
              "      <td>maligno</td>\n",
              "    </tr>\n",
              "    <tr>\n",
              "      <th>1</th>\n",
              "      <td>4</td>\n",
              "      <td>38</td>\n",
              "      <td>redonda</td>\n",
              "      <td>circunscrita</td>\n",
              "      <td>baixa</td>\n",
              "      <td>maligno</td>\n",
              "    </tr>\n",
              "    <tr>\n",
              "      <th>2</th>\n",
              "      <td>5</td>\n",
              "      <td>62</td>\n",
              "      <td>irregular</td>\n",
              "      <td>especulada</td>\n",
              "      <td>baixa</td>\n",
              "      <td>maligno</td>\n",
              "    </tr>\n",
              "    <tr>\n",
              "      <th>3</th>\n",
              "      <td>4</td>\n",
              "      <td>24</td>\n",
              "      <td>redonda</td>\n",
              "      <td>circunscrita</td>\n",
              "      <td>baixa</td>\n",
              "      <td>benigno</td>\n",
              "    </tr>\n",
              "    <tr>\n",
              "      <th>4</th>\n",
              "      <td>5</td>\n",
              "      <td>74</td>\n",
              "      <td>redonda</td>\n",
              "      <td>especulada</td>\n",
              "      <td>baixa</td>\n",
              "      <td>maligno</td>\n",
              "    </tr>\n",
              "    <tr>\n",
              "      <th>...</th>\n",
              "      <td>...</td>\n",
              "      <td>...</td>\n",
              "      <td>...</td>\n",
              "      <td>...</td>\n",
              "      <td>...</td>\n",
              "      <td>...</td>\n",
              "    </tr>\n",
              "    <tr>\n",
              "      <th>956</th>\n",
              "      <td>4</td>\n",
              "      <td>50</td>\n",
              "      <td>oval</td>\n",
              "      <td>circunscrita</td>\n",
              "      <td>baixa</td>\n",
              "      <td>benigno</td>\n",
              "    </tr>\n",
              "    <tr>\n",
              "      <th>957</th>\n",
              "      <td>4</td>\n",
              "      <td>50</td>\n",
              "      <td>irregular</td>\n",
              "      <td>especulada</td>\n",
              "      <td>baixa</td>\n",
              "      <td>maligno</td>\n",
              "    </tr>\n",
              "    <tr>\n",
              "      <th>958</th>\n",
              "      <td>4</td>\n",
              "      <td>62</td>\n",
              "      <td>irregular</td>\n",
              "      <td>especulada</td>\n",
              "      <td>baixa</td>\n",
              "      <td>benigno</td>\n",
              "    </tr>\n",
              "    <tr>\n",
              "      <th>959</th>\n",
              "      <td>5</td>\n",
              "      <td>62</td>\n",
              "      <td>irregular</td>\n",
              "      <td>especulada</td>\n",
              "      <td>baixa</td>\n",
              "      <td>maligno</td>\n",
              "    </tr>\n",
              "    <tr>\n",
              "      <th>960</th>\n",
              "      <td>4</td>\n",
              "      <td>62</td>\n",
              "      <td>lobular</td>\n",
              "      <td>obscura</td>\n",
              "      <td>baixa</td>\n",
              "      <td>benigno</td>\n",
              "    </tr>\n",
              "  </tbody>\n",
              "</table>\n",
              "<p>961 rows × 6 columns</p>\n",
              "</div>"
            ],
            "text/plain": [
              "    BI-RADS  Idade      Forma      Contorno Densidade Severidade\n",
              "0         5     62    lobular    especulada     baixa    maligno\n",
              "1         4     38    redonda  circunscrita     baixa    maligno\n",
              "2         5     62  irregular    especulada     baixa    maligno\n",
              "3         4     24    redonda  circunscrita     baixa    benigno\n",
              "4         5     74    redonda    especulada     baixa    maligno\n",
              "..      ...    ...        ...           ...       ...        ...\n",
              "956       4     50       oval  circunscrita     baixa    benigno\n",
              "957       4     50  irregular    especulada     baixa    maligno\n",
              "958       4     62  irregular    especulada     baixa    benigno\n",
              "959       5     62  irregular    especulada     baixa    maligno\n",
              "960       4     62    lobular       obscura     baixa    benigno\n",
              "\n",
              "[961 rows x 6 columns]"
            ]
          },
          "metadata": {},
          "execution_count": 46
        }
      ]
    },
    {
      "cell_type": "code",
      "metadata": {
        "colab": {
          "base_uri": "https://localhost:8080/"
        },
        "id": "KG3Xfc_74G_C",
        "outputId": "b31df6d9-d1f5-487f-f656-9009c6b2e0db"
      },
      "source": [
        "df_exercicio_2['Idade'].unique()"
      ],
      "execution_count": null,
      "outputs": [
        {
          "output_type": "execute_result",
          "data": {
            "text/plain": [
              "array([62, 38, 24, 74, 50, 85])"
            ]
          },
          "metadata": {},
          "execution_count": 47
        }
      ]
    },
    {
      "cell_type": "markdown",
      "metadata": {
        "id": "Ww9N2AqJGAdc"
      },
      "source": [
        "# Exercício 3. Transformação dos dados - Normalização Max-Min"
      ]
    },
    {
      "cell_type": "code",
      "metadata": {
        "id": "LpXOhuIuHGie"
      },
      "source": [
        "df_exercicio_3 = df_exercicio_1_5.copy(deep=True)\n",
        "df_exercicio_3['Idade'] = df_exercicio_3['Idade'].astype(int)"
      ],
      "execution_count": null,
      "outputs": []
    },
    {
      "cell_type": "code",
      "metadata": {
        "id": "CsQ5pAC_HaWb"
      },
      "source": [
        "def max_min(max , min, idade):\n",
        "    novo_max = 1\n",
        "    novo_min = 0\n",
        "    valor_normalizado = ((idade - min) / (max - min)) * (novo_max - novo_min) + novo_min\n",
        "    return valor_normalizado\n",
        "\n",
        "def exercicio_3(df_exercicio_3):\n",
        "    max_idade = max(df_exercicio_3['Idade'])\n",
        "    min_idade = min(df_exercicio_3['Idade'])\n",
        "\n",
        "    lista_idade_normalizada = []\n",
        "    for idade in df_exercicio_3['Idade']:\n",
        "        lista_idade_normalizada.append(max_min(max_idade, min_idade, idade))\n",
        "    #Inserção de uma nova coluna no dataframe com a idade normalizada\n",
        "    df_exercicio_3.insert(2, 'Idade_Normalizada', lista_idade_normalizada)    \n",
        "exercicio_3(df_exercicio_3)"
      ],
      "execution_count": null,
      "outputs": []
    },
    {
      "cell_type": "code",
      "metadata": {
        "colab": {
          "base_uri": "https://localhost:8080/",
          "height": 414
        },
        "id": "K9ZIqvXcKtjw",
        "outputId": "1722fac3-f2ed-4988-e5ca-f0e78b06ea91"
      },
      "source": [
        "df_exercicio_3"
      ],
      "execution_count": null,
      "outputs": [
        {
          "output_type": "execute_result",
          "data": {
            "text/html": [
              "<div>\n",
              "<style scoped>\n",
              "    .dataframe tbody tr th:only-of-type {\n",
              "        vertical-align: middle;\n",
              "    }\n",
              "\n",
              "    .dataframe tbody tr th {\n",
              "        vertical-align: top;\n",
              "    }\n",
              "\n",
              "    .dataframe thead th {\n",
              "        text-align: right;\n",
              "    }\n",
              "</style>\n",
              "<table border=\"1\" class=\"dataframe\">\n",
              "  <thead>\n",
              "    <tr style=\"text-align: right;\">\n",
              "      <th></th>\n",
              "      <th>BI-RADS</th>\n",
              "      <th>Idade</th>\n",
              "      <th>Idade_Normalizada</th>\n",
              "      <th>Forma</th>\n",
              "      <th>Contorno</th>\n",
              "      <th>Densidade</th>\n",
              "      <th>Severidade</th>\n",
              "    </tr>\n",
              "  </thead>\n",
              "  <tbody>\n",
              "    <tr>\n",
              "      <th>0</th>\n",
              "      <td>5</td>\n",
              "      <td>67</td>\n",
              "      <td>0.628205</td>\n",
              "      <td>lobular</td>\n",
              "      <td>especulada</td>\n",
              "      <td>baixa</td>\n",
              "      <td>maligno</td>\n",
              "    </tr>\n",
              "    <tr>\n",
              "      <th>1</th>\n",
              "      <td>4</td>\n",
              "      <td>43</td>\n",
              "      <td>0.320513</td>\n",
              "      <td>redonda</td>\n",
              "      <td>circunscrita</td>\n",
              "      <td>baixa</td>\n",
              "      <td>maligno</td>\n",
              "    </tr>\n",
              "    <tr>\n",
              "      <th>2</th>\n",
              "      <td>5</td>\n",
              "      <td>58</td>\n",
              "      <td>0.512821</td>\n",
              "      <td>irregular</td>\n",
              "      <td>especulada</td>\n",
              "      <td>baixa</td>\n",
              "      <td>maligno</td>\n",
              "    </tr>\n",
              "    <tr>\n",
              "      <th>3</th>\n",
              "      <td>4</td>\n",
              "      <td>28</td>\n",
              "      <td>0.128205</td>\n",
              "      <td>redonda</td>\n",
              "      <td>circunscrita</td>\n",
              "      <td>baixa</td>\n",
              "      <td>benigno</td>\n",
              "    </tr>\n",
              "    <tr>\n",
              "      <th>4</th>\n",
              "      <td>5</td>\n",
              "      <td>74</td>\n",
              "      <td>0.717949</td>\n",
              "      <td>redonda</td>\n",
              "      <td>especulada</td>\n",
              "      <td>baixa</td>\n",
              "      <td>maligno</td>\n",
              "    </tr>\n",
              "    <tr>\n",
              "      <th>...</th>\n",
              "      <td>...</td>\n",
              "      <td>...</td>\n",
              "      <td>...</td>\n",
              "      <td>...</td>\n",
              "      <td>...</td>\n",
              "      <td>...</td>\n",
              "      <td>...</td>\n",
              "    </tr>\n",
              "    <tr>\n",
              "      <th>956</th>\n",
              "      <td>4</td>\n",
              "      <td>47</td>\n",
              "      <td>0.371795</td>\n",
              "      <td>oval</td>\n",
              "      <td>circunscrita</td>\n",
              "      <td>baixa</td>\n",
              "      <td>benigno</td>\n",
              "    </tr>\n",
              "    <tr>\n",
              "      <th>957</th>\n",
              "      <td>4</td>\n",
              "      <td>56</td>\n",
              "      <td>0.487179</td>\n",
              "      <td>irregular</td>\n",
              "      <td>especulada</td>\n",
              "      <td>baixa</td>\n",
              "      <td>maligno</td>\n",
              "    </tr>\n",
              "    <tr>\n",
              "      <th>958</th>\n",
              "      <td>4</td>\n",
              "      <td>64</td>\n",
              "      <td>0.589744</td>\n",
              "      <td>irregular</td>\n",
              "      <td>especulada</td>\n",
              "      <td>baixa</td>\n",
              "      <td>benigno</td>\n",
              "    </tr>\n",
              "    <tr>\n",
              "      <th>959</th>\n",
              "      <td>5</td>\n",
              "      <td>66</td>\n",
              "      <td>0.615385</td>\n",
              "      <td>irregular</td>\n",
              "      <td>especulada</td>\n",
              "      <td>baixa</td>\n",
              "      <td>maligno</td>\n",
              "    </tr>\n",
              "    <tr>\n",
              "      <th>960</th>\n",
              "      <td>4</td>\n",
              "      <td>62</td>\n",
              "      <td>0.564103</td>\n",
              "      <td>lobular</td>\n",
              "      <td>obscura</td>\n",
              "      <td>baixa</td>\n",
              "      <td>benigno</td>\n",
              "    </tr>\n",
              "  </tbody>\n",
              "</table>\n",
              "<p>961 rows × 7 columns</p>\n",
              "</div>"
            ],
            "text/plain": [
              "    BI-RADS  Idade  Idade_Normalizada  ...      Contorno Densidade Severidade\n",
              "0         5     67           0.628205  ...    especulada     baixa    maligno\n",
              "1         4     43           0.320513  ...  circunscrita     baixa    maligno\n",
              "2         5     58           0.512821  ...    especulada     baixa    maligno\n",
              "3         4     28           0.128205  ...  circunscrita     baixa    benigno\n",
              "4         5     74           0.717949  ...    especulada     baixa    maligno\n",
              "..      ...    ...                ...  ...           ...       ...        ...\n",
              "956       4     47           0.371795  ...  circunscrita     baixa    benigno\n",
              "957       4     56           0.487179  ...    especulada     baixa    maligno\n",
              "958       4     64           0.589744  ...    especulada     baixa    benigno\n",
              "959       5     66           0.615385  ...    especulada     baixa    maligno\n",
              "960       4     62           0.564103  ...       obscura     baixa    benigno\n",
              "\n",
              "[961 rows x 7 columns]"
            ]
          },
          "metadata": {},
          "execution_count": 50
        }
      ]
    },
    {
      "cell_type": "markdown",
      "metadata": {
        "id": "PV3JxRY4xMsP"
      },
      "source": [
        "# Exercício 4. Redução dos dados - Amostragem Estratificada"
      ]
    },
    {
      "cell_type": "code",
      "metadata": {
        "id": "rx1ys6C8xP6W"
      },
      "source": [
        "df_exercicio_4 = df_exercicio_1_5.copy(deep=True)"
      ],
      "execution_count": null,
      "outputs": []
    },
    {
      "cell_type": "code",
      "metadata": {
        "id": "-FNwhRDD8yRr"
      },
      "source": [
        "def exercicio_4(df_exercicio_4):\n",
        "    tam_benigno = df_exercicio_4[df_exercicio_4['Severidade'] == 'benigno']['Severidade'].count()\n",
        "    tam_maligno = df_exercicio_4[df_exercicio_4['Severidade'] == 'maligno']['Severidade'].count()\n",
        "    tamanho_df = len(df_exercicio_4['Severidade'])\n",
        "\n",
        "    #Proporção aproximada: maligno\n",
        "    amostragem_maligno_tam_estratificada = (tam_maligno / tamanho_df)\n",
        "    amostragem_maligno_tam_estratificada = int(round((amostragem_maligno_tam_estratificada * 100), 0))\n",
        "\n",
        "    #Proporção aproximada: benigno\n",
        "    amostragem_benigno_tam_estratificada = (tam_benigno / tamanho_df)\n",
        "    amostragem_benigno_tam_estratificada = int(round((amostragem_benigno_tam_estratificada * 100), 0))\n",
        "\n",
        "    frames_lista = []\n",
        "\n",
        "    #Seleção aleatória: benigno\n",
        "    df_amostragem_proporcional_benigno = df_exercicio_4[df_exercicio_4['Severidade'] == 'benigno']\n",
        "    frames_lista.append(df_amostragem_proporcional_benigno.sample(n=amostragem_benigno_tam_estratificada))\n",
        "\n",
        "    #Seleção aleatória: maligno\n",
        "    df_amostragem_proporcional_maligno = df_exercicio_4[df_exercicio_4['Severidade'] == 'maligno']\n",
        "    frames_lista.append(df_amostragem_proporcional_maligno.sample(n=amostragem_maligno_tam_estratificada))\n",
        "\n",
        "    df_amostragem_estratificada_proporcional = pd.concat(frames_lista)\n",
        "    df_amostragem_estratificada_proporcional.sort_index(inplace=True)\n",
        "\n",
        "    return df_amostragem_estratificada_proporcional"
      ],
      "execution_count": null,
      "outputs": []
    },
    {
      "cell_type": "code",
      "metadata": {
        "id": "4xNJRAk99_gq"
      },
      "source": [
        "df_amostragem_estratificada_proporcional = exercicio_4(df_exercicio_4)"
      ],
      "execution_count": null,
      "outputs": []
    },
    {
      "cell_type": "code",
      "metadata": {
        "colab": {
          "base_uri": "https://localhost:8080/"
        },
        "id": "EFtQ82B97rWW",
        "outputId": "5ef3bdee-8810-4758-fd9a-d72d7071150f"
      },
      "source": [
        "df_amostragem_estratificada_proporcional[df_amostragem_estratificada_proporcional['Severidade'] == 'maligno']['Severidade'].count()"
      ],
      "execution_count": null,
      "outputs": [
        {
          "output_type": "execute_result",
          "data": {
            "text/plain": [
              "46"
            ]
          },
          "metadata": {},
          "execution_count": 54
        }
      ]
    },
    {
      "cell_type": "code",
      "metadata": {
        "colab": {
          "base_uri": "https://localhost:8080/"
        },
        "id": "3q9_snRJ7r61",
        "outputId": "85df55ec-8d41-4cb6-94d8-a8af50381abb"
      },
      "source": [
        "df_amostragem_estratificada_proporcional[df_amostragem_estratificada_proporcional['Severidade'] == 'benigno']['Severidade'].count()"
      ],
      "execution_count": null,
      "outputs": [
        {
          "output_type": "execute_result",
          "data": {
            "text/plain": [
              "54"
            ]
          },
          "metadata": {},
          "execution_count": 55
        }
      ]
    },
    {
      "cell_type": "code",
      "metadata": {
        "colab": {
          "base_uri": "https://localhost:8080/",
          "height": 414
        },
        "id": "8BI7iVSp-N2d",
        "outputId": "9a19b697-c6ea-4a95-c482-4c2380df4f97"
      },
      "source": [
        "df_amostragem_estratificada_proporcional"
      ],
      "execution_count": null,
      "outputs": [
        {
          "output_type": "execute_result",
          "data": {
            "text/html": [
              "<div>\n",
              "<style scoped>\n",
              "    .dataframe tbody tr th:only-of-type {\n",
              "        vertical-align: middle;\n",
              "    }\n",
              "\n",
              "    .dataframe tbody tr th {\n",
              "        vertical-align: top;\n",
              "    }\n",
              "\n",
              "    .dataframe thead th {\n",
              "        text-align: right;\n",
              "    }\n",
              "</style>\n",
              "<table border=\"1\" class=\"dataframe\">\n",
              "  <thead>\n",
              "    <tr style=\"text-align: right;\">\n",
              "      <th></th>\n",
              "      <th>BI-RADS</th>\n",
              "      <th>Idade</th>\n",
              "      <th>Forma</th>\n",
              "      <th>Contorno</th>\n",
              "      <th>Densidade</th>\n",
              "      <th>Severidade</th>\n",
              "    </tr>\n",
              "  </thead>\n",
              "  <tbody>\n",
              "    <tr>\n",
              "      <th>6</th>\n",
              "      <td>4</td>\n",
              "      <td>70</td>\n",
              "      <td>redonda</td>\n",
              "      <td>circunscrita</td>\n",
              "      <td>baixa</td>\n",
              "      <td>benigno</td>\n",
              "    </tr>\n",
              "    <tr>\n",
              "      <th>7</th>\n",
              "      <td>5</td>\n",
              "      <td>42</td>\n",
              "      <td>redonda</td>\n",
              "      <td>circunscrita</td>\n",
              "      <td>baixa</td>\n",
              "      <td>benigno</td>\n",
              "    </tr>\n",
              "    <tr>\n",
              "      <th>16</th>\n",
              "      <td>3</td>\n",
              "      <td>52</td>\n",
              "      <td>lobular</td>\n",
              "      <td>mal definida</td>\n",
              "      <td>baixa</td>\n",
              "      <td>benigno</td>\n",
              "    </tr>\n",
              "    <tr>\n",
              "      <th>58</th>\n",
              "      <td>4</td>\n",
              "      <td>45</td>\n",
              "      <td>oval</td>\n",
              "      <td>circunscrita</td>\n",
              "      <td>baixa</td>\n",
              "      <td>benigno</td>\n",
              "    </tr>\n",
              "    <tr>\n",
              "      <th>99</th>\n",
              "      <td>4</td>\n",
              "      <td>33</td>\n",
              "      <td>oval</td>\n",
              "      <td>circunscrita</td>\n",
              "      <td>baixa</td>\n",
              "      <td>benigno</td>\n",
              "    </tr>\n",
              "    <tr>\n",
              "      <th>...</th>\n",
              "      <td>...</td>\n",
              "      <td>...</td>\n",
              "      <td>...</td>\n",
              "      <td>...</td>\n",
              "      <td>...</td>\n",
              "      <td>...</td>\n",
              "    </tr>\n",
              "    <tr>\n",
              "      <th>926</th>\n",
              "      <td>5</td>\n",
              "      <td>40</td>\n",
              "      <td>lobular</td>\n",
              "      <td>microlobulada</td>\n",
              "      <td>baixa</td>\n",
              "      <td>maligno</td>\n",
              "    </tr>\n",
              "    <tr>\n",
              "      <th>928</th>\n",
              "      <td>5</td>\n",
              "      <td>74</td>\n",
              "      <td>irregular</td>\n",
              "      <td>obscura</td>\n",
              "      <td>baixa</td>\n",
              "      <td>maligno</td>\n",
              "    </tr>\n",
              "    <tr>\n",
              "      <th>942</th>\n",
              "      <td>5</td>\n",
              "      <td>58</td>\n",
              "      <td>lobular</td>\n",
              "      <td>mal definida</td>\n",
              "      <td>baixa</td>\n",
              "      <td>maligno</td>\n",
              "    </tr>\n",
              "    <tr>\n",
              "      <th>957</th>\n",
              "      <td>4</td>\n",
              "      <td>56</td>\n",
              "      <td>irregular</td>\n",
              "      <td>especulada</td>\n",
              "      <td>baixa</td>\n",
              "      <td>maligno</td>\n",
              "    </tr>\n",
              "    <tr>\n",
              "      <th>958</th>\n",
              "      <td>4</td>\n",
              "      <td>64</td>\n",
              "      <td>irregular</td>\n",
              "      <td>especulada</td>\n",
              "      <td>baixa</td>\n",
              "      <td>benigno</td>\n",
              "    </tr>\n",
              "  </tbody>\n",
              "</table>\n",
              "<p>100 rows × 6 columns</p>\n",
              "</div>"
            ],
            "text/plain": [
              "    BI-RADS Idade      Forma       Contorno Densidade Severidade\n",
              "6         4    70    redonda   circunscrita     baixa    benigno\n",
              "7         5    42    redonda   circunscrita     baixa    benigno\n",
              "16        3    52    lobular   mal definida     baixa    benigno\n",
              "58        4    45       oval   circunscrita     baixa    benigno\n",
              "99        4    33       oval   circunscrita     baixa    benigno\n",
              "..      ...   ...        ...            ...       ...        ...\n",
              "926       5    40    lobular  microlobulada     baixa    maligno\n",
              "928       5    74  irregular        obscura     baixa    maligno\n",
              "942       5    58    lobular   mal definida     baixa    maligno\n",
              "957       4    56  irregular     especulada     baixa    maligno\n",
              "958       4    64  irregular     especulada     baixa    benigno\n",
              "\n",
              "[100 rows x 6 columns]"
            ]
          },
          "metadata": {},
          "execution_count": 62
        }
      ]
    }
  ]
}